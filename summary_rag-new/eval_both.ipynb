{
 "cells": [
  {
   "cell_type": "code",
   "execution_count": 1,
   "id": "c99c9adc",
   "metadata": {},
   "outputs": [
    {
     "name": "stderr",
     "output_type": "stream",
     "text": [
      "/home/vqa/RAG/venv8/lib/python3.8/site-packages/deeplake/util/check_latest_version.py:32: UserWarning: A newer version of deeplake (3.9.6) is available. It's recommended that you update to the latest version using `pip install -U deeplake`.\n",
      "  warnings.warn(\n"
     ]
    }
   ],
   "source": [
    "import uuid\n",
    "import os\n",
    "import json\n",
    "from langchain.retrievers.multi_vector import MultiVectorRetriever\n",
    "from langchain.storage import InMemoryStore\n",
    "from langchain_community.vectorstores import Chroma\n",
    "from langchain_community.embeddings import HuggingFaceEmbeddings\n",
    "from langchain.schema.document import Document\n",
    "from datasets import Dataset\n",
    "from langchain_community.llms import Ollama\n",
    "from langchain.llms import Ollama\n",
    "import sys"
   ]
  },
  {
   "cell_type": "code",
   "execution_count": 2,
   "id": "81d1aff4",
   "metadata": {},
   "outputs": [],
   "source": [
    "__import__('pysqlite3')\n",
    "sys.modules['sqlite3'] = sys.modules.pop('pysqlite3')"
   ]
  },
  {
   "cell_type": "code",
   "execution_count": 3,
   "id": "f5d8845b",
   "metadata": {},
   "outputs": [],
   "source": [
    "def read_txtelements(output_folder, filename, delimiter):\n",
    "    with open(os.path.join(output_folder, filename), \"r\") as f:\n",
    "        return [s.strip() for s in f.read().split(delimiter) if s.strip()]\n",
    "\n",
    "def read_jsonelements(output_folder, filename):\n",
    "    with open(os.path.join(output_folder, filename), \"r\") as json_file:\n",
    "        return json.load(json_file)"
   ]
  },
  {
   "cell_type": "code",
   "execution_count": 4,
   "id": "6035931d",
   "metadata": {},
   "outputs": [],
   "source": [
    "def add_data(image_text_summaries, image_text_elements, image_summaries, retriever): \n",
    "    # Add texts\n",
    "    # if text_summaries:\n",
    "    #     doc_ids = [str(uuid.uuid4()) for _ in text_elements]\n",
    "    #     summary_texts = [\n",
    "    #         Document(page_content=s, metadata={id_key: doc_ids[i]})\n",
    "    #         for i, s in enumerate(text_summaries)]\n",
    "    #     retriever.vectorstore.add_documents(summary_texts)\n",
    "    #     retriever.docstore.mset(list(zip(doc_ids, text_elements)))\n",
    "\n",
    "    # Add image texts\n",
    "    if image_text_summaries:\n",
    "        doc_ids = [str(uuid.uuid4()) for _ in image_text_elements]\n",
    "        summary_texts = [\n",
    "            Document(page_content=s, metadata={id_key: doc_ids[i]})\n",
    "            for i, s in enumerate(image_text_summaries)]\n",
    "        retriever.vectorstore.add_documents(summary_texts)\n",
    "        retriever.docstore.mset(list(zip(doc_ids, image_text_elements)))\n",
    "\n",
    "    # Add tables\n",
    "    # if table_summaries:\n",
    "    #     table_ids = [str(uuid.uuid4()) for _ in table_elements]\n",
    "    #     summary_tables = [\n",
    "    #         Document(page_content=s, metadata={id_key: table_ids[i]})\n",
    "    #         for i, s in enumerate(table_summaries)]\n",
    "    #     retriever.vectorstore.add_documents(summary_tables)\n",
    "    #     retriever.docstore.mset(list(zip(table_ids, table_elements)))\n",
    "\n",
    "    # Add images\n",
    "    if image_summaries:\n",
    "        img_ids = [str(uuid.uuid4()) for _ in image_summaries]\n",
    "        summary_img = [\n",
    "            Document(page_content=s, metadata={id_key: img_ids[i]})\n",
    "            for i, s in enumerate(image_summaries)]\n",
    "        retriever.vectorstore.add_documents(summary_img)\n",
    "        retriever.docstore.mset(list(zip(img_ids, image_summaries)))  \n",
    "    return retriever"
   ]
  },
  {
   "cell_type": "code",
   "execution_count": 5,
   "id": "ea17fc5e",
   "metadata": {},
   "outputs": [],
   "source": [
    "def process_subfolder(subfolder_path, retriever):\n",
    "    print(f\"Processing subfolder: {subfolder_path}\")\n",
    "    delimiter = \"~~~\"\n",
    "    # text_elements = read_elements(output_folder, \"text_elements.txt\")\n",
    "    # table_elements = read_elements(output_folder, \"table_elements.txt\")\n",
    "    # text_summaries = read_elements(output_folder, \"text_summaries.txt\", delimiter)\n",
    "    # table_summaries = read_elements(output_folder, \"table_summaries.txt\", delimiter)\n",
    "    image_text_elements = read_jsonelements(subfolder_path, \"imagestexts.json\")\n",
    "    image_text_elements = [i['text'] for i in image_text_elements]\n",
    "    image_text_summaries = read_txtelements(subfolder_path, \"imagestexts_summary.txt\", delimiter)\n",
    "    image_summaries = read_txtelements(subfolder_path, \"image_summaries.txt\", delimiter)\n",
    "\n",
    "    retriever = add_data(image_text_summaries, image_text_elements, image_summaries, retriever)\n",
    "    return retriever"
   ]
  },
  {
   "cell_type": "code",
   "execution_count": 6,
   "id": "99aee7d8",
   "metadata": {},
   "outputs": [],
   "source": [
    "vectorstore = Chroma(collection_name=\"summaries\", embedding_function = HuggingFaceEmbeddings(model_name=\"sentence-transformers/all-MiniLM-L6-v2\"))\n",
    "store = InMemoryStore()  \n",
    "id_key = \"doc_id\"\n",
    "retriever = MultiVectorRetriever(vectorstore=vectorstore, docstore=store, id_key=id_key,)\n",
    "retriever.search_kwargs['k'] = 4"
   ]
  },
  {
   "cell_type": "code",
   "execution_count": 7,
   "id": "b95f52c1",
   "metadata": {},
   "outputs": [],
   "source": [
    "output_folder = \"/home/vqa/RAG/10_manuals_256_summaries\""
   ]
  },
  {
   "cell_type": "code",
   "execution_count": 8,
   "id": "ce9f277c",
   "metadata": {},
   "outputs": [
    {
     "name": "stdout",
     "output_type": "stream",
     "text": [
      "Processing subfolder: /home/vqa/RAG/10_manuals_256_summaries/samsung_cell phone accessories manuals_de30be54-38b5-46f4-8dc4-a2376a6e571d_extracted\n",
      "Processing subfolder: /home/vqa/RAG/10_manuals_256_summaries/bose_headphones manuals_9917ef89-897c-6524-2502-2b0a91ec7d62_extracted\n",
      "Processing subfolder: /home/vqa/RAG/10_manuals_256_summaries/owg_en_wms_soundlink_adapterkit_extracted\n",
      "Processing subfolder: /home/vqa/RAG/10_manuals_256_summaries/bose_headphones_manuals_6d12e20d-cf8d-4337-b073-53d7e85e4163_extracted\n",
      "Processing subfolder: /home/vqa/RAG/10_manuals_256_summaries/samsung_video gaming accessories manuals_f0ee75e7-18ff-4260-ac5c-3db2ec0f8fd4_extracted\n",
      "Processing subfolder: /home/vqa/RAG/10_manuals_256_summaries/sony_laptop_manuals_a02cf092-3538-4646-ab93-8cae84a07ad2_extracted\n",
      "Processing subfolder: /home/vqa/RAG/10_manuals_256_summaries/og_wave-bma_en_extracted\n",
      "Processing subfolder: /home/vqa/RAG/10_manuals_256_summaries/samsung_audio_box_eo-sb330_um_sea_rev.1.0_140728_screen_extracted\n",
      "Processing subfolder: /home/vqa/RAG/10_manuals_256_summaries/dell_cell phone manuals_4686e2e1-87a4-4f6a-bf20-61c646c11bb9_extracted\n",
      "Processing subfolder: /home/vqa/RAG/10_manuals_256_summaries/samsung_vacuum cleaner manuals_8cb9360e-cafe-4c53-9d35-ef193667e586_extracted\n"
     ]
    }
   ],
   "source": [
    "for item in os.listdir(output_folder):\n",
    "    item_path = os.path.join(output_folder, item)\n",
    "    if os.path.isdir(item_path):\n",
    "        # Now item_path is a subdirectory within output_folder\n",
    "        # For each subdirectory, perform the operations you need\n",
    "        process_subfolder(item_path, retriever)"
   ]
  },
  {
   "cell_type": "code",
   "execution_count": 9,
   "id": "fa3aff59",
   "metadata": {},
   "outputs": [],
   "source": [
    "from langchain_core.runnables import RunnablePassthrough\n",
    "from langchain_core.output_parsers import StrOutputParser\n",
    "# from langchain_core.output_parsers import OutputParser\n",
    "from langchain_core.prompts import PromptTemplate\n",
    "from langchain_community.embeddings import HuggingFaceEmbeddings\n",
    "from langchain_community.chat_models import ChatOllama\n",
    "from langchain_core.prompts import ChatPromptTemplate"
   ]
  },
  {
   "cell_type": "code",
   "execution_count": 10,
   "id": "f89f74e4",
   "metadata": {},
   "outputs": [],
   "source": [
    "# Prompt template\n",
    "template = \"\"\"Answer the question based only on the following context, which can include text and tables:\n",
    "{context}\n",
    "Question: {question}\n",
    "Answer:\n",
    "\"\"\""
   ]
  },
  {
   "cell_type": "code",
   "execution_count": 11,
   "id": "4ef65077",
   "metadata": {},
   "outputs": [],
   "source": [
    "# prompt = PromptTemplate.from_template(template)\n",
    "prompt = ChatPromptTemplate.from_template(template)"
   ]
  },
  {
   "cell_type": "code",
   "execution_count": 12,
   "id": "6348b6f9",
   "metadata": {},
   "outputs": [],
   "source": [
    "model = Ollama(model=\"llama2:7b-chat\")\n",
    "# model = Ollama(model=\"llama2\", verbose=True)"
   ]
  },
  {
   "cell_type": "code",
   "execution_count": 13,
   "id": "68042952",
   "metadata": {},
   "outputs": [],
   "source": [
    "# RAG pipeline\n",
    "chain = (\n",
    "    {\"context\": retriever, \n",
    "     \"question\": RunnablePassthrough(),}\n",
    "    | prompt\n",
    "    | model\n",
    "    | StrOutputParser())"
   ]
  },
  {
   "cell_type": "code",
   "execution_count": 14,
   "id": "a89a6d4c",
   "metadata": {},
   "outputs": [],
   "source": [
    "from datasets import Dataset\n",
    "import pandas as pd\n",
    "import json\n",
    "from tabulate import tabulate"
   ]
  },
  {
   "cell_type": "code",
   "execution_count": 15,
   "id": "cba044d1",
   "metadata": {},
   "outputs": [
    {
     "name": "stdout",
     "output_type": "stream",
     "text": [
      "+-----+-------------------------------------------------------------------------------+---------------------------------------------------------------------------------------------------------------------------------+-------------------------------------------------------------------------------------------------------------------------------------------------------------------------------------------------------------------------------------------------------------------------------------------------+\n",
      "|     | id                                                                            | question                                                                                                                        | ground_truth                                                                                                                                                                                                                                                                                    |\n",
      "|-----+-------------------------------------------------------------------------------+---------------------------------------------------------------------------------------------------------------------------------+-------------------------------------------------------------------------------------------------------------------------------------------------------------------------------------------------------------------------------------------------------------------------------------------------|\n",
      "|   0 | bose_headphones manuals_9917ef89-897c-6524-2502-2b0a91ec7d62                  | Where can I know the complete Declaration of Conformity?                                                                        | You can search the website at www.Bose.com/compliance.                                                                                                                                                                                                                                          |\n",
      "|   1 | bose_headphones manuals_9917ef89-897c-6524-2502-2b0a91ec7d62                  | What does my Bose mobile on-ear headset include?                                                                                | It includes on-ear headphones, a headphone cord with an inline microphone, four 3.5mm to 2.5mm mobile phone adapters, and a carrying case.                                                                                                                                                      |\n",
      "|   2 | bose_headphones manuals_9917ef89-897c-6524-2502-2b0a91ec7d62                  | How many types of adapters are there for mobile phones?                                                                         | Each adapter has a symbol of a circle, triangle, diamond, or square.                                                                                                                                                                                                                            |\n",
      "|   3 | bose_headphones manuals_9917ef89-897c-6524-2502-2b0a91ec7d62                  | If my phone needs to use an adapter to connect the headset. What should I do?                                                   | You should find the appropriate adapter and connect the headphone cord plug to the adapter. Then you should connect the adapter to your phone.                                                                                                                                                  |\n",
      "|   4 | bose_headphones manuals_9917ef89-897c-6524-2502-2b0a91ec7d62                  | How can I put the headset in the case?                                                                                          | You can rotate the earcups until the cushions face you, lay the headset down in front of you, and pivot the earcups into the headband and place the headset in the case.                                                                                                                        |\n",
      "|   5 | bose_headphones manuals_9917ef89-897c-6524-2502-2b0a91ec7d62                  | How can I take the headset out of the case?                                                                                     | You can lift the headset out of the case and pivot the earcups out of the headband, hold the headset with the headband up, and rotate the earcups until the cushions face teacher other.                                                                                                        |\n",
      "|   6 | bose_headphones manuals_9917ef89-897c-6524-2502-2b0a91ec7d62                  | How can I clean the headset?                                                                                                    | You need to be sure the earcup ports are kept clear and that no moisture is allowed to get inside the earcup.                                                                                                                                                                                   |\n",
      "|   7 | bose_headphones manuals_9917ef89-897c-6524-2502-2b0a91ec7d62                  | What should I make sure of when reattaching earcup cushions?                                                                    | You can make sure the cushion is flush all the way around and that there are no gaps between the cushion and the earcup.                                                                                                                                                                        |\n",
      "|   8 | bose_headphones manuals_9917ef89-897c-6524-2502-2b0a91ec7d62                  | What can I do if I still need help?                                                                                             | You can call for assistance if I still need help.                                                                                                                                                                                                                                               |\n",
      "|   9 | bose_headphones manuals_9917ef89-897c-6524-2502-2b0a91ec7d62                  | What is the official website of Bose in Japan?                                                                                  | The official website of Bose in Japan is www.BoseIndia.jp.                                                                                                                                                                                                                                      |\n",
      "|  10 | bose_headphones manuals_9917ef89-897c-6524-2502-2b0a91ec7d62                  | What is the official website of Bose in the United Kingdom?                                                                     | The official website of Bose in Nederland is www.Bose.co.uk.                                                                                                                                                                                                                                    |\n",
      "|  11 | bose_headphones_manuals_6d12e20d-cf8d-4337-b073-53d7e85e4163                  | Can I use headphones when operating a motor vehicle?                                                                            | No, you can not use headphones when operating a motor vehicle or anywhere the  inability to hear outside sounds may present a danger to you or others.                                                                                                                                          |\n",
      "|  12 | bose_headphones_manuals_6d12e20d-cf8d-4337-b073-53d7e85e4163                  | What does the Bose OE2 audio headphone include?                                                                                 | It includes six components which are R and L mark, replaceable ear cup cushion, adjustable headband, audio cable and carry case.                                                                                                                                                                |\n",
      "|  13 | bose_headphones_manuals_6d12e20d-cf8d-4337-b073-53d7e85e4163                  | Can I exceed or rotate the earcups?                                                                                             | You can not try to exceed the limits of the pivots or over-rotate the  earcups.                                                                                                                                                                                                                 |\n",
      "|  14 | bose_headphones_manuals_6d12e20d-cf8d-4337-b073-53d7e85e4163                  | Where can I find replacement parts and accessories?                                                                             | You can find them in Bose Customer Service. See the contact information for your area  included in this guide.                                                                                                                                                                                  |\n",
      "|  15 | bose_headphones_manuals_6d12e20d-cf8d-4337-b073-53d7e85e4163                  | What should I do if any problems persists?                                                                                      | You should contact Bose Customer Service and see the  phone number for your area, included in this guide.                                                                                                                                                                                       |\n",
      "|  16 | bose_headphones_manuals_6d12e20d-cf8d-4337-b073-53d7e85e4163                  | What are the steps to reattach earcup cushion?                                                                                  | 1. Place the edge of the earcup cushion skirt into the slot behind  the earcup flange.                                                                                                                                                                                                          |\n",
      "|     |                                                                               |                                                                                                                                 | 2. Work the remainder of the skirt into the slot all the way around  the earcup.                                                                                                                                                                                                                |\n",
      "|  17 | bose_headphones_manuals_6d12e20d-cf8d-4337-b073-53d7e85e4163                  | How to obtain Limited Warranty Service?                                                                                         | 1. Contact the Bose organization in your country or region.                                                                                                                                                                                                                                     |\n",
      "|     |                                                                               |                                                                                                                                 | 2. Label and ship the product to the address  provided by the Bose organization in your country.                                                                                                                                                                                                |\n",
      "|     |                                                                               |                                                                                                                                 | 3. Place any necessary return authorization number prominently  on the outside of the carton.                                                                                                                                                                                                   |\n",
      "|  18 | bose_headphones_manuals_6d12e20d-cf8d-4337-b073-53d7e85e4163                  | What do you think of the hazardous standard of plastic parts?                                                                   | The plastic parts which contained in all of the homogeneous materials is below the limit requirement.                                                                                                                                                                                           |\n",
      "|  19 | bose_headphones_manuals_6d12e20d-cf8d-4337-b073-53d7e85e4163                  | What is the telephone number of the Bose corporation in Denmark?                                                                | The telephone number of the Bose corporation in Denmark is 4343 7777.                                                                                                                                                                                                                           |\n",
      "|  20 | bose_headphones_manuals_6d12e20d-cf8d-4337-b073-53d7e85e4163                  | What is the website of Bose in Hong Kong?                                                                                       | The website of Bose in Hong Kong is support_hk@Bose.com.                                                                                                                                                                                                                                        |\n",
      "|  21 | dell_cell phone manuals_4686e2e1-87a4-4f6a-bf20-61c646c11bb9                  | What does a WARNING indicate?                                                                                                   | It shows potential for property damage, personal injury, or death.                                                                                                                                                                                                                              |\n",
      "|  22 | dell_cell phone manuals_4686e2e1-87a4-4f6a-bf20-61c646c11bb9                  | Does every order include a Mini-USB to 3.5 mm audio adapter?                                                                    | It depends on the choice you made during the purchase.                                                                                                                                                                                                                                          |\n",
      "|  23 | dell_cell phone manuals_4686e2e1-87a4-4f6a-bf20-61c646c11bb9                  | What should I do before using the smartphone?                                                                                   | You have to install the battery, and SIM card, and charge the battery.                                                                                                                                                                                                                          |\n",
      "|  24 | dell_cell phone manuals_4686e2e1-87a4-4f6a-bf20-61c646c11bb9                  | What should I do to make sure of proper installation?                                                                           | You have to align the cut corners in the card and the SIM card slot.                                                                                                                                                                                                                            |\n",
      "|  25 | dell_cell phone manuals_4686e2e1-87a4-4f6a-bf20-61c646c11bb9                  | How can I charge the battery?                                                                                                   | First, please use the Mini-USB to USB cable, plug the power adapter into a power outlet, and then into your phone. Next, you have to charge the phone for at least 12 hours.                                                                                                                    |\n",
      "|  26 | dell_cell phone manuals_4686e2e1-87a4-4f6a-bf20-61c646c11bb9                  | How can I turn on the phone?                                                                                                    | Please push and hold the power button for two seconds.                                                                                                                                                                                                                                          |\n",
      "|  27 | dell_cell phone manuals_4686e2e1-87a4-4f6a-bf20-61c646c11bb9                  | Can you tell me the use of the camera flash?                                                                                    | It is used to take photos in dim lights.                                                                                                                                                                                                                                                        |\n",
      "|  28 | dell_cell phone manuals_4686e2e1-87a4-4f6a-bf20-61c646c11bb9                  | What is the function of the Home button?                                                                                        | When you press the button shortly, it can navigate back one screen at a time. And when you press and hold it, you can return to the Home screen.                                                                                                                                                |\n",
      "|  29 | dell_cell phone manuals_4686e2e1-87a4-4f6a-bf20-61c646c11bb9                  | What is the function of the Camera button?                                                                                      | You can press it to activate the camera and you can take photos or capture videos.                                                                                                                                                                                                              |\n",
      "|  30 | dell_cell phone manuals_4686e2e1-87a4-4f6a-bf20-61c646c11bb9                  | How to switch between the screens?                                                                                              | You have to swipe your finger or the optional stylus across the screen from left to right, or right to left.                                                                                                                                                                                    |\n",
      "|  31 | dell_cell phone manuals_4686e2e1-87a4-4f6a-bf20-61c646c11bb9                  | What is the function of the icons?                                                                                              | It indicates the new message, upcoming calendar event, alarm, or other information important to you.                                                                                                                                                                                            |\n",
      "|  32 | dell_cell phone manuals_4686e2e1-87a4-4f6a-bf20-61c646c11bb9                  | How can I know whether my Bluetooth is connected?                                                                               | If the Bluetooth button turns blue, it means that your Bluetooth is connected.                                                                                                                                                                                                                  |\n",
      "|  33 | dell_cell phone manuals_4686e2e1-87a4-4f6a-bf20-61c646c11bb9                  | How can I enter a number?                                                                                                       | Please tap the on-screen dial pad.                                                                                                                                                                                                                                                              |\n",
      "|  34 | dell_cell phone manuals_4686e2e1-87a4-4f6a-bf20-61c646c11bb9                  | I want to change the message service settings, what should I do?                                                                | You can press More on the short menu to change the message service settings.                                                                                                                                                                                                                    |\n",
      "|  35 | dell_cell phone manuals_4686e2e1-87a4-4f6a-bf20-61c646c11bb9                  | How to use the Internet Browser?                                                                                                | First, you may tap the Browser icon to open the Internet Browser and press the Options button and select Go. Then, you can enter either a search phrase to search for the sites online.                                                                                                         |\n",
      "|  36 | dell_cell phone manuals_4686e2e1-87a4-4f6a-bf20-61c646c11bb9                  | How to take a photo?                                                                                                            | First, you may tap the Camera icon or press the camera button. Then, please select either still image or video mode. Next, you should tap the screen or press the camera button to take a picture.                                                                                              |\n",
      "|  37 | dell_cell phone manuals_4686e2e1-87a4-4f6a-bf20-61c646c11bb9                  | How can I delete an icon?                                                                                                       | You may press and hold the icon, and follow the instructions on the screen.                                                                                                                                                                                                                     |\n",
      "|  38 | dell_cell phone manuals_4686e2e1-87a4-4f6a-bf20-61c646c11bb9                  | What is the function of the microfiber pouch?                                                                                   | It allows you to store the phone for protection when you don't use it, and to clean the screen as needed.                                                                                                                                                                                       |\n",
      "|  39 | og_wave-bma_en                                                                | I want to use this product outdoors. Is that OK?                                                                                | No, it is designed for indoor use only.                                                                                                                                                                                                                                                         |\n",
      "|  40 | og_wave-bma_en                                                                | How can I know whether this equipment causes interference to television reception or not?                                       | You can test it by turning the equipment off and on.                                                                                                                                                                                                                                            |\n",
      "|  41 | og_wave-bma_en                                                                | Where can I see the additional instructions?                                                                                    | You can see the additional instructions on the Important Safety Instructions sheet (North America only) enclosed in the shipping carton.                                                                                                                                                        |\n",
      "|  42 | og_wave-bma_en                                                                | Is there any interference between the adapter and the system?                                                                   | Yes, you need to make sure that they are 5 cm apart to avoid interference.                                                                                                                                                                                                                      |\n",
      "|  43 | og_wave-bma_en                                                                | What is the entry code?                                                                                                         | You can enter <0000>.                                                                                                                                                                                                                                                                           |\n",
      "|  44 | og_wave-bma_en                                                                | What should I do if I cannot hear music after pairing?                                                                          | You can quit and restart your music app.                                                                                                                                                                                                                                                        |\n",
      "|  45 | og_wave-bma_en                                                                | How long should I press the Presets 6 button?                                                                                   | You should press and hold the button on the remote for 10 seconds until a tone is heard.                                                                                                                                                                                                        |\n",
      "|  46 | og_wave-bma_en                                                                | What is the function of the button Mute?                                                                                        | If you press Mute for one time, it can mute the audio. And you can press again to restore audio.                                                                                                                                                                                                |\n",
      "|  47 | og_wave-bma_en                                                                | What should I do if I want to turn up the volume?                                                                               | You can turn up the volume by pressing the up arrow under the Volume button.                                                                                                                                                                                                                    |\n",
      "|  48 | og_wave-bma_en                                                                | There is no sound when the Bluetooth enabled device plays music, what can I do?                                                 | You should check whether:                                                                                                                                                                                                                                                                       |\n",
      "|     |                                                                               |                                                                                                                                 | 1 \"Bose Adapter\" is selected in the Bluetooth dedvice list                                                                                                                                                                                                                                      |\n",
      "|     |                                                                               |                                                                                                                                 | 2 Wave system volume, the volume on your Bluetooth,your music application and is turned up and not muted                                                                                                                                                                                        |\n",
      "|     |                                                                               |                                                                                                                                 | After doing so, if there is still no sound,you can restart the music application on your Bluetooth and restart your Bluetooth enabled device.                                                                                                                                                   |\n",
      "|  49 | og_wave-bma_en                                                                | I accendantally drop water on it and I think it's damage, call I botain warranty service?                                       | No, you can not obtain warranty service for damage by excess moisture.                                                                                                                                                                                                                          |\n",
      "|  50 | og_wave-bma_en                                                                | Shall I pay for the shipping cost when I transport it for warranty service?                                                     | Yes, you shall pay for it.                                                                                                                                                                                                                                                                      |\n",
      "|  51 | og_wave-bma_en                                                                | Why can the music adapter not be used in conjunction with a multi-disc changer?                                                 | Because Wave systems have only one Bose link input.                                                                                                                                                                                                                                             |\n",
      "|  52 | owg_en_wms_soundlink_adapterkit                                               | What does the exclamation point within an equilateral triangle mean?                                                            | It means that the user should pay attention to the presence of important operating and maintenance instructions in this owner's guide.                                                                                                                                                          |\n",
      "|  53 | owg_en_wms_soundlink_adapterkit                                               | Can I use the product without charging?                                                                                         | No, the product should be used with the power supply provided.                                                                                                                                                                                                                                  |\n",
      "|  54 | owg_en_wms_soundlink_adapterkit                                               | What specifications does the product comply with in the U.S.?                                                                   | The product complies with SFR 47 Part 15 specifications in the U.S..                                                                                                                                                                                                                            |\n",
      "|  55 | owg_en_wms_soundlink_adapterkit                                               | How many versions of the SoundLink kit?                                                                                         | There are 2 versions: 1. Using a kit with basic content only. 2. Using a kit with both basic and update contents.                                                                                                                                                                               |\n",
      "|  56 | owg_en_wms_soundlink_adapterkit                                               | How can I withdraw the CD in the end?                                                                                           | The CD will be ejected when the update is complete.                                                                                                                                                                                                                                             |\n",
      "|  57 | owg_en_wms_soundlink_adapterkit                                               | How far should I place the SoundLink adapter and the Wave system?                                                               | They should be placed at least 2 in. (5 cm) apart.                                                                                                                                                                                                                                              |\n",
      "|  58 | owg_en_wms_soundlink_adapterkit                                               | What will happen if the required power pack is not connected when you press the SoundLink/CD button?                            | Scrolls across the Wave system display if the required power pack is not connected when you press the SoundLink/CD button.                                                                                                                                                                      |\n",
      "|  59 | owg_en_wms_soundlink_adapterkit                                               | Can I lay the USB antenna flat and then plug it into the computer?                                                              | No, you can't. You should lift the antenna on the USB key to the vertical position and plug the key into a USB port on your computer.                                                                                                                                                           |\n",
      "|  60 | owg_en_wms_soundlink_adapterkit                                               | Where is the Flashing power light?                                                                                              | It is in the USB key.                                                                                                                                                                                                                                                                           |\n",
      "|  61 | owg_en_wms_soundlink_adapterkit                                               | I want to reconnect to my Wave system, but it shows nothing, what should I do?                                                  | You may not turn on your computer at first, and then you must make sure that you can see COMPUTER on the display.                                                                                                                                                                               |\n",
      "|  62 | owg_en_wms_soundlink_adapterkit                                               | Which button does the SoundLink kit remote control include?                                                                     | It includes Mute, Volume, Seek/Track, SoundLink/AUX and Play/Pause.                                                                                                                                                                                                                             |\n",
      "|  63 | owg_en_wms_soundlink_adapterkit                                               | What would happen if battery is incorrectly replaced?                                                                           | Battery will be in danger of explosion.                                                                                                                                                                                                                                                         |\n",
      "|  64 | owg_en_wms_soundlink_adapterkit                                               | What should I do if this does not resolve the problem?                                                                          | You should contact Bose Customer Service.                                                                                                                                                                                                                                                       |\n",
      "|  65 | owg_en_wms_soundlink_adapterkit                                               | Which part should I see on page 15?                                                                                             | You should see \"Manually Linking the SoundLink adapter and USB key.                                                                                                                                                                                                                             |\n",
      "|  66 | owg_en_wms_soundlink_adapterkit                                               | Should I need to restart my computer after taking measures to solve the problem?                                                | Yes, you should restart your computer.                                                                                                                                                                                                                                                          |\n",
      "|  67 | owg_en_wms_soundlink_adapterkit                                               | Do all players and Internet radio services support this form of playback control?                                               | No, not all players and Internet radio services support this form of playback control.                                                                                                                                                                                                          |\n",
      "|  68 | owg_en_wms_soundlink_adapterkit                                               | Which button should I press and hold when I link the USB?                                                                       | You should press and hold Presets 5 on the remote control until DISCOVERABLE is displayed and flashing on the wave system display.                                                                                                                                                              |\n",
      "|  69 | owg_en_wms_soundlink_adapterkit                                               | What should I do if I want to know the Bose contact information in my country?                                                  | You should visit Global.Bose.com.                                                                                                                                                                                                                                                               |\n",
      "|  70 | samsung_audio_box_eo-sb330_um_sea_rev.1.0_140728_screen                       | How many buttons can I find on the front of the device?                                                                         | You can find 7 buttons on the front of the device.                                                                                                                                                                                                                                              |\n",
      "|  71 | samsung_audio_box_eo-sb330_um_sea_rev.1.0_140728_screen                       | Are the items supplied with the devices and available accessories the same in different regions?                                | No, the items supplied with the devices and available accessories may vary by region.                                                                                                                                                                                                           |\n",
      "|  72 | samsung_audio_box_eo-sb330_um_sea_rev.1.0_140728_screen                       | When should i charge the battery completely?                                                                                    | Charge the battery completely before using the device for the first time or after it has not been used for an extended period.                                                                                                                                                                  |\n",
      "|  73 | samsung_audio_box_eo-sb330_um_sea_rev.1.0_140728_screen                       | When does the status indicator turn red?                                                                                        | The status indicator turns red while the device is being charged.                                                                                                                                                                                                                               |\n",
      "|  74 | samsung_audio_box_eo-sb330_um_sea_rev.1.0_140728_screen                       | How can I measure the battery charge?                                                                                           | You can measure the battery charge by pressing and holding the Talk and Volume-button simultaneously. And then the status indicator flashes four times in different colors according to the charge left on the battery.                                                                         |\n",
      "|  75 | samsung_audio_box_eo-sb330_um_sea_rev.1.0_140728_screen                       | What is the indicator color, when the charge level of the device is more than 80%?                                              | It is bule.                                                                                                                                                                                                                                                                                     |\n",
      "|  76 | samsung_audio_box_eo-sb330_um_sea_rev.1.0_140728_screen                       | How many status indicator flashes when the device is turned on?                                                                 | When the devices turned on the status indicators flashes blue 4 times.                                                                                                                                                                                                                          |\n",
      "|  77 | samsung_audio_box_eo-sb330_um_sea_rev.1.0_140728_screen                       | How can I connect via Bluetooth?                                                                                                | You can turn on Level Box. And then press and hold the Pairing button for about 3 seconds.                                                                                                                                                                                                      |\n",
      "|  78 | samsung_audio_box_eo-sb330_um_sea_rev.1.0_140728_screen                       | When the pairing is completed, what does the Level Box appear?                                                                  | You can see the Level Box appears as “connected ” when the pairing is complete.                                                                                                                                                                                                                 |\n",
      "|  79 | samsung_audio_box_eo-sb330_um_sea_rev.1.0_140728_screen                       | What is the reason for the not available NFC feature?                                                                           | It is not available because another device is connected to the Bluetooth speaker.                                                                                                                                                                                                               |\n",
      "|  80 | samsung_audio_box_eo-sb330_um_sea_rev.1.0_140728_screen                       | What should I do before making a connection with the audio cable?                                                               | You should end the Bluetooth connection between the product and any other device.                                                                                                                                                                                                               |\n",
      "|  81 | samsung_audio_box_eo-sb330_um_sea_rev.1.0_140728_screen                       | How can I turn on the voice recognition feature of the connected device?                                                        | You can press the Talk button to turn on the voice recognition feature.                                                                                                                                                                                                                         |\n",
      "|  82 | samsung_audio_box_eo-sb330_um_sea_rev.1.0_140728_screen                       | What will happen when I press the Play/Stop button twice?                                                                       | It will skip to the next file when you press it twice.                                                                                                                                                                                                                                          |\n",
      "|  83 | samsung_audio_box_eo-sb330_um_sea_rev.1.0_140728_screen                       | What can I do to answer a call when a smartphone is connected to the Level Box?                                                 | You can press the Talk button to answer the call.                                                                                                                                                                                                                                               |\n",
      "|  84 | samsung_audio_box_eo-sb330_um_sea_rev.1.0_140728_screen                       | One call is incoming during a call and I want to switch between them, what can I do?                                            | You can press and hold the \"Talk\" button.                                                                                                                                                                                                                                                       |\n",
      "|  85 | samsung_audio_box_eo-sb330_um_sea_rev.1.0_140728_screen                       | Why can't I use the application?                                                                                                | Maybe it's because your devices are not connected via the Bluetooth feature.                                                                                                                                                                                                                    |\n",
      "|  86 | samsung_audio_box_eo-sb330_um_sea_rev.1.0_140728_screen                       | Why is the connection off when the range is about 9 meters? Isn't the wireless connection range 10 meters?                      | No, the wireless connection range is not always 10 meters. It can be affected by your usage environment.                                                                                                                                                                                        |\n",
      "|  87 | samsung_audio_box_eo-sb330_um_sea_rev.1.0_140728_screen                       | If the battery is broken, can I change it to another one?                                                                       | You'd better not do so before you asked the manufacturer whether the new one is suitable.                                                                                                                                                                                                       |\n",
      "|  88 | samsung_audio_box_eo-sb330_um_sea_rev.1.0_140728_screen                       | Can I wash it with the cleanser?                                                                                                | No, you can wipe it with a towel or an eraser instead of any chemicals or detergents.                                                                                                                                                                                                           |\n",
      "|  89 | samsung_audio_box_eo-sb330_um_sea_rev.1.0_140728_screen                       | Why can't I operate it?                                                                                                         | Maybe it's because you change or modify it. Changes or modifications not expressly approved by Samsung will void the User's authority to operate the equipment.                                                                                                                                 |\n",
      "|  90 | samsung_audio_box_eo-sb330_um_sea_rev.1.0_140728_screen                       | What's the phone number of Samsung Electronics America, Inc?                                                                    | The phone number is 1-800-SAMSUNG.                                                                                                                                                                                                                                                              |\n",
      "|  91 | samsung_cell phone accessories manuals_de30be54-38b5-46f4-8dc4-a2376a6e571d   | What is the World Wide Web of the SAMSUNG?                                                                                      | It is the http://www.samsungmobileusa.com.                                                                                                                                                                                                                                                      |\n",
      "|  92 | samsung_cell phone accessories manuals_de30be54-38b5-46f4-8dc4-a2376a6e571d   | How to avoid damaging the performance and reducing the battery life?                                                            | Please don't store it at high temperatures (above 50℃/122℉).                                                                                                                                                                                                                                    |\n",
      "|  93 | samsung_cell phone accessories manuals_de30be54-38b5-46f4-8dc4-a2376a6e571d   | Where is the Microphone of the device?                                                                                          | The microphone is located at the lower part of the headset body device.                                                                                                                                                                                                                         |\n",
      "|  94 | samsung_cell phone accessories manuals_de30be54-38b5-46f4-8dc4-a2376a6e571d   | What can I do with the Volume Button?                                                                                           | Please press the button to adjust the volume. During a call, you can press and hold to mute the microphone.                                                                                                                                                                                     |\n",
      "|  95 | samsung_cell phone accessories manuals_de30be54-38b5-46f4-8dc4-a2376a6e571d   | What if the charging does not begin?                                                                                            | Please unplug the travel adapter and plug it in again.                                                                                                                                                                                                                                          |\n",
      "|  96 | samsung_cell phone accessories manuals_de30be54-38b5-46f4-8dc4-a2376a6e571d   | What is the battery level if the indicator light flashes blue?                                                                  | The battery level is above 80% if the indicator light flashes blue.                                                                                                                                                                                                                             |\n",
      "|  97 | samsung_cell phone accessories manuals_de30be54-38b5-46f4-8dc4-a2376a6e571d   | What will happen if my headset powers off during a call?                                                                        | The call will be automatically transferred to the phone.                                                                                                                                                                                                                                        |\n",
      "|  98 | samsung_cell phone accessories manuals_de30be54-38b5-46f4-8dc4-a2376a6e571d   | How can I know if I turn off my headset?                                                                                        | You can see both the blue and red indicator lights flash when you turn off your headset.                                                                                                                                                                                                        |\n",
      "|  99 | samsung_cell phone accessories manuals_de30be54-38b5-46f4-8dc4-a2376a6e571d   | How can I make my headset enter Pairing mode?                                                                                   | You can turn on your headset, press and hold the Talk button until the indicator light turns blue and stays lit after blinking. And your headset automatically enters Pairing mode when you turn on it for the first time.                                                                      |\n",
      "| 100 | samsung_cell phone accessories manuals_de30be54-38b5-46f4-8dc4-a2376a6e571d   | How can I reconnect the headset?                                                                                                | You can press the Talk button and use the Bluetooth menu on your phone to reconnect the headset.                                                                                                                                                                                                |\n",
      "| 101 | samsung_cell phone accessories manuals_de30be54-38b5-46f4-8dc4-a2376a6e571d   | How can I reject a call using my headset?                                                                                       | You can press and hold the Talk button to reject a call when a call comes in.                                                                                                                                                                                                                   |\n",
      "| 102 | samsung_cell phone accessories manuals_de30be54-38b5-46f4-8dc4-a2376a6e571d   | How can I place the first call on hold and answer a second call?                                                                | You can press and hold the Talk button when you hear waiting tones to place the first call on hold and answer a second call.                                                                                                                                                                    |\n",
      "| 103 | samsung_cell phone accessories manuals_de30be54-38b5-46f4-8dc4-a2376a6e571d   | How can I reduce any static or interference while on a call?                                                                    | You can keep the headset away from other devices that use or produce radio waves.                                                                                                                                                                                                               |\n",
      "| 104 | samsung_cell phone accessories manuals_de30be54-38b5-46f4-8dc4-a2376a6e571d   | Why do I hear an echo while on a call?                                                                                          | You can adjust the headset volume, or move to another area and try again.                                                                                                                                                                                                                       |\n",
      "| 105 | samsung_cell phone accessories manuals_de30be54-38b5-46f4-8dc4-a2376a6e571d   | Are users permitted to make changes or modify the device in any way?                                                            | No. Users are not permitted to make changes or modify the device in any way.                                                                                                                                                                                                                    |\n",
      "| 106 | samsung_cell phone accessories manuals_de30be54-38b5-46f4-8dc4-a2376a6e571d   | I am in South America. How can I connect the travel adapter?                                                                    | You should use an attachment plug adaptor of the proper configuration for the power outlet.                                                                                                                                                                                                     |\n",
      "| 107 | samsung_cell phone accessories manuals_de30be54-38b5-46f4-8dc4-a2376a6e571d   | If my product is lost in shipping. Can I ask Samsung for compensation?                                                          | No, you can't. Samsung will not assume any responsibility for any loss or damage incurred in shipping.                                                                                                                                                                                          |\n",
      "| 108 | samsung_cell phone accessories manuals_de30be54-38b5-46f4-8dc4-a2376a6e571d   | What is the standby time of my mobile phone?                                                                                    | It will up to 200 hours.                                                                                                                                                                                                                                                                        |\n",
      "| 109 | samsung_vacuum cleaner manuals_8cb9360e-cafe-4c53-9d35-ef193667e586           | How to receive more complete service about this product?                                                                        | You should register your product at www.sansung.com/register.                                                                                                                                                                                                                                   |\n",
      "| 110 | samsung_vacuum cleaner manuals_8cb9360e-cafe-4c53-9d35-ef193667e586           | How to store it properly?                                                                                                       | You should store it indoors, in a cool and dry area.                                                                                                                                                                                                                                            |\n",
      "| 111 | samsung_vacuum cleaner manuals_8cb9360e-cafe-4c53-9d35-ef193667e586           | Can I plug in my vacuum cleaner directly?                                                                                       | No, you can't. You should be familiar with all instructions and operating procedures.                                                                                                                                                                                                           |\n",
      "| 112 | samsung_vacuum cleaner manuals_8cb9360e-cafe-4c53-9d35-ef193667e586           | Where should I install the Combination Tool?                                                                                    | You should attach it to the holder on the left side of the vacuum cleaner.                                                                                                                                                                                                                      |\n",
      "| 113 | samsung_vacuum cleaner manuals_8cb9360e-cafe-4c53-9d35-ef193667e586           | How to change the cleaning positions?                                                                                           | You can press the handle release pedal located on the lower left side of the vacuum with your foot to place your vacuum into one of three cleaning positions.                                                                                                                                   |\n",
      "| 114 | samsung_vacuum cleaner manuals_8cb9360e-cafe-4c53-9d35-ef193667e586           | How to prevent the brush stops rotating?                                                                                        | You shouldn't put too much pressure.                                                                                                                                                                                                                                                            |\n",
      "| 115 | samsung_vacuum cleaner manuals_8cb9360e-cafe-4c53-9d35-ef193667e586           | What if the suction is weak although the dust bin is empty?                                                                     | Please open the cover and clean the Grille.                                                                                                                                                                                                                                                     |\n",
      "| 116 | samsung_vacuum cleaner manuals_8cb9360e-cafe-4c53-9d35-ef193667e586           | How to replace the post-motor filter?                                                                                           | First, unplug the Vacuum Cleaner from the electrical outlet. When the filter becomes dirty, open the door, remove the filter and replace it.                                                                                                                                                    |\n",
      "| 117 | samsung_vacuum cleaner manuals_8cb9360e-cafe-4c53-9d35-ef193667e586           | What if I properly install the Rotating Floor Brush?                                                                            | The Drive Belt will center itself on the Rotating Brush crown.                                                                                                                                                                                                                                  |\n",
      "| 118 | samsung_vacuum cleaner manuals_8cb9360e-cafe-4c53-9d35-ef193667e586           | What should I do after removing a screw?                                                                                        | You can lift the cover belt off.                                                                                                                                                                                                                                                                |\n",
      "| 119 | samsung_vacuum cleaner manuals_8cb9360e-cafe-4c53-9d35-ef193667e586           | The Mini Turbo Brush is clogged or debris is wrapped around the brush roll?                                                     | Please maintain Mini Turbo Brush.                                                                                                                                                                                                                                                               |\n",
      "| 120 | samsung_video gaming accessories manuals_f0ee75e7-18ff-4260-ac5c-3db2ec0f8fd4 | What if I place conductive objects on the top of the controller?                                                                | It may cause personal injury due to fire, electric shock, or falling objects.                                                                                                                                                                                                                   |\n",
      "| 121 | samsung_video gaming accessories manuals_f0ee75e7-18ff-4260-ac5c-3db2ec0f8fd4 | How to avoid injury from tip-over?                                                                                              | Please use caution when moving the cart/ apparatus combination.                                                                                                                                                                                                                                 |\n",
      "| 122 | samsung_video gaming accessories manuals_f0ee75e7-18ff-4260-ac5c-3db2ec0f8fd4 | What's included in the remote controller?                                                                                       | It includes a controller and a user guide.                                                                                                                                                                                                                                                      |\n",
      "| 123 | samsung_video gaming accessories manuals_f0ee75e7-18ff-4260-ac5c-3db2ec0f8fd4 | What if I want long-distance coaxial communications?                                                                            | You could use this switch for amplifying the control signal.                                                                                                                                                                                                                                    |\n",
      "| 124 | samsung_video gaming accessories manuals_f0ee75e7-18ff-4260-ac5c-3db2ec0f8fd4 | What's the effective range of valid address?                                                                                    | The effective range of valid address is between 0 and 255(1-255 for multiprotocol).                                                                                                                                                                                                             |\n",
      "| 125 | samsung_video gaming accessories manuals_f0ee75e7-18ff-4260-ac5c-3db2ec0f8fd4 | How can I dispose of the wasted batteries?                                                                                      | You should collect it individually and keep it away from children.                                                                                                                                                                                                                              |\n",
      "| 126 | samsung_video gaming accessories manuals_f0ee75e7-18ff-4260-ac5c-3db2ec0f8fd4 | Can I connect the device with a DC12V power source?                                                                             | Yes, you can do it by using DC12V power connector(2-pin).                                                                                                                                                                                                                                       |\n",
      "| 127 | samsung_video gaming accessories manuals_f0ee75e7-18ff-4260-ac5c-3db2ec0f8fd4 | How can I clean the product?                                                                                                    | You can use dry cloth only to clean it.                                                                                                                                                                                                                                                         |\n",
      "| 128 | samsung_video gaming accessories manuals_f0ee75e7-18ff-4260-ac5c-3db2ec0f8fd4 | What's the size of the battery of this product?                                                                                 | You will need to insert 4 AA-sized batteries into it.                                                                                                                                                                                                                                           |\n",
      "| 129 | samsung_video gaming accessories manuals_f0ee75e7-18ff-4260-ac5c-3db2ec0f8fd4 | Do RS-485 input and COAXITRON control support all protocols?                                                                    | No, they support SAMSUNG-E and SAMSUNG-T protocols only.                                                                                                                                                                                                                                        |\n",
      "| 130 | samsung_video gaming accessories manuals_f0ee75e7-18ff-4260-ac5c-3db2ec0f8fd4 | Can RS-232 device control support all protocols?                                                                                | No, this device supports SAMSUNG-E protocol only.                                                                                                                                                                                                                                               |\n",
      "| 131 | samsung_video gaming accessories manuals_f0ee75e7-18ff-4260-ac5c-3db2ec0f8fd4 | How to use the menu to controlling the camera?                                                                                  | Firstly, you can press and hold ENTER to move to the main menu screen. Secondly, press ENTER briefly to confirm the current settings. Thirdly, you can move the cursor's direction by using the four direction keys.                                                                            |\n",
      "| 132 | samsung_video gaming accessories manuals_f0ee75e7-18ff-4260-ac5c-3db2ec0f8fd4 | What kind of battery should I prepare for the battery compartment?                                                              | You need to prepare four AA-sized batteries for the battery compartment.                                                                                                                                                                                                                        |\n",
      "| 133 | samsung_video gaming accessories manuals_f0ee75e7-18ff-4260-ac5c-3db2ec0f8fd4 | How should I select a protocol?                                                                                                 | You should use a combination of pin 1,2,3.                                                                                                                                                                                                                                                      |\n",
      "| 134 | samsung_video gaming accessories manuals_f0ee75e7-18ff-4260-ac5c-3db2ec0f8fd4 | What's the net weight of the device?                                                                                            | Its net weight is 200 grams.                                                                                                                                                                                                                                                                    |\n",
      "| 135 | samsung_video gaming accessories manuals_f0ee75e7-18ff-4260-ac5c-3db2ec0f8fd4 | What is the telephone number of SAMSUNG TECHWIN AMERICA Inc?                                                                    | The number is +1-877-213-1222.                                                                                                                                                                                                                                                                  |\n",
      "| 136 | sony_laptop_manuals_a02cf092-3538-4646-ab93-8cae84a07ad2                      | What is the 3D function?                                                                                                        | It allows quick and easy playback of various types of 3D content.                                                                                                                                                                                                                               |\n",
      "| 137 | sony_laptop_manuals_a02cf092-3538-4646-ab93-8cae84a07ad2                      | Can children watch 3D video images or use stereoscopic 3D-related software?                                                     | You'd better consult your doctor before allowing young children to watch them or use the software because the vision of young children, especially those under six years old, is still under development. And adults should supervise young children to ensure they follow the recommendations. |\n",
      "| 138 | sony_laptop_manuals_a02cf092-3538-4646-ab93-8cae84a07ad2                      | I like surfing the internet on the computer tilting my head. If I do the same thing while viewing 3D images, what would happen? | The 3D effect may be less pronounced or the color of the images may change.                                                                                                                                                                                                                     |\n",
      "| 139 | sony_laptop_manuals_a02cf092-3538-4646-ab93-8cae84a07ad2                      | Can I charge the battery with devices other than the ones specified by Sony?                                                    | No. It may cause the 3D glasses to malfunction.                                                                                                                                                                                                                                                 |\n",
      "| 140 | sony_laptop_manuals_a02cf092-3538-4646-ab93-8cae84a07ad2                      | How can I select 3D-related software?                                                                                           | You can click Start, All Programs, and VAIO 3D Portal to start VAIO 3D Portal then select the software you want to use.                                                                                                                                                                         |\n",
      "| 141 | sony_laptop_manuals_a02cf092-3538-4646-ab93-8cae84a07ad2                      | When I play 3D videos, what software can I use?                                                                                 | You can use NVIDIA 3D Vision Video Player to play 3D videos.                                                                                                                                                                                                                                    |\n",
      "| 142 | sony_laptop_manuals_a02cf092-3538-4646-ab93-8cae84a07ad2                      | How can I view 3D photos or videos?                                                                                             | You can start the software that su[[prts 3D photo or video playback and start 3D photo or video playback, then turn on the 3D glasses and wear them, and then press the 3D button on your computer. The 3D indicator light turns on during the 3D playback.                                     |\n",
      "| 143 | sony_laptop_manuals_a02cf092-3538-4646-ab93-8cae84a07ad2                      | How can I adjust the 3D settings?                                                                                               | You can click Start, All Programs, and VAIO Control Center, then click 3D Effect Settings in the left pane of the window to adjust the 3D effect.                                                                                                                                               |\n",
      "| 144 | sony_laptop_manuals_a02cf092-3538-4646-ab93-8cae84a07ad2                      | Why I cannot find the 3D button and the 3D indicator on my computer when I display 3D images on 3D TV?                          | The 3D button and the 3D indicator on your computer are not available when 3D images are displayed on the 3D TV.                                                                                                                                                                                |\n",
      "| 145 | sony_laptop_manuals_a02cf092-3538-4646-ab93-8cae84a07ad2                      | What does it indicate if the LED indicator blinks three times every three seconds?                                              | It indicates that the battery of your 3D glasses is low. You need to charge the battery.                                                                                                                                                                                                        |\n",
      "| 146 | sony_laptop_manuals_a02cf092-3538-4646-ab93-8cae84a07ad2                      | How can I disable the 3D function?                                                                                              | You can open VAIO Control Center and click 3D Function and 3D Display Function Settings to disable the 3D function.                                                                                                                                                                             |\n",
      "| 147 | sony_laptop_manuals_a02cf092-3538-4646-ab93-8cae84a07ad2                      | Can I replace or purchase an additional 3D glasses?                                                                             | Yes. The TDG-BR250 3D glasses are available for purchase as of March 2011.                                                                                                                                                                                                                      |\n",
      "+-----+-------------------------------------------------------------------------------+---------------------------------------------------------------------------------------------------------------------------------+-------------------------------------------------------------------------------------------------------------------------------------------------------------------------------------------------------------------------------------------------------------------------------------------------+\n",
      "No.of.unique values : 10\n"
     ]
    }
   ],
   "source": [
    "\n",
    "data = []\n",
    "with open('10_manuals.jsonl', 'r') as f:\n",
    "# with open('20_manuals.jsonl', 'r') as f:\n",
    "    for line in f:\n",
    "\n",
    "        json_data = json.loads(line)\n",
    "        id = json_data['id'][:-6]\n",
    "        qa_data = json_data['qa_data']\n",
    "        for i in qa_data:\n",
    "            question = i['question']['text']\n",
    "            answer = i['answer']['text']\n",
    "        data.append({'id': id, 'question' : question, 'ground_truth': answer})\n",
    "\n",
    "df = pd.DataFrame(data)\n",
    "df = pd.DataFrame(data, columns = ['id', 'question', 'ground_truth'])\n",
    "print(tabulate(df, headers='keys', tablefmt='psql'))\n",
    "\n",
    "n = len(pd.unique(df['id']))\n",
    "print(\"No.of.unique values :\", n)"
   ]
  },
  {
   "cell_type": "code",
   "execution_count": 16,
   "id": "63436121",
   "metadata": {},
   "outputs": [
    {
     "name": "stdout",
     "output_type": "stream",
     "text": [
      "['bose_headphones manuals_9917ef89-897c-6524-2502-2b0a91ec7d62'\n",
      " 'bose_headphones_manuals_6d12e20d-cf8d-4337-b073-53d7e85e4163'\n",
      " 'dell_cell phone manuals_4686e2e1-87a4-4f6a-bf20-61c646c11bb9'\n",
      " 'og_wave-bma_en' 'owg_en_wms_soundlink_adapterkit'\n",
      " 'samsung_audio_box_eo-sb330_um_sea_rev.1.0_140728_screen'\n",
      " 'samsung_cell phone accessories manuals_de30be54-38b5-46f4-8dc4-a2376a6e571d'\n",
      " 'samsung_vacuum cleaner manuals_8cb9360e-cafe-4c53-9d35-ef193667e586'\n",
      " 'samsung_video gaming accessories manuals_f0ee75e7-18ff-4260-ac5c-3db2ec0f8fd4'\n",
      " 'sony_laptop_manuals_a02cf092-3538-4646-ab93-8cae84a07ad2']\n"
     ]
    }
   ],
   "source": [
    "import pandas as pd\n",
    "\n",
    "unique_values = (pd.unique(df['id']))\n",
    "print(unique_values)\n",
    "unique_values_df = pd.DataFrame({'unique_values': unique_values})\n",
    "merged_df = pd.merge(df, unique_values_df, how='inner', left_on='id', right_on='unique_values')\n",
    "df = merged_df.groupby('unique_values').head(10)\n",
    "\n"
   ]
  },
  {
   "cell_type": "code",
   "execution_count": 17,
   "id": "6dd66458",
   "metadata": {},
   "outputs": [
    {
     "name": "stderr",
     "output_type": "stream",
     "text": [
      "/tmp/ipykernel_13661/786108205.py:1: SettingWithCopyWarning: \n",
      "A value is trying to be set on a copy of a slice from a DataFrame\n",
      "\n",
      "See the caveats in the documentation: https://pandas.pydata.org/pandas-docs/stable/user_guide/indexing.html#returning-a-view-versus-a-copy\n",
      "  df.drop(columns=['unique_values'], inplace=True)\n"
     ]
    }
   ],
   "source": [
    "df.drop(columns=['unique_values'], inplace=True)"
   ]
  },
  {
   "cell_type": "code",
   "execution_count": 18,
   "id": "2dd2c4ae",
   "metadata": {},
   "outputs": [],
   "source": [
    "# print(len(retriever.get_relevant_documents(\"Which battery does the CD player use?\")))"
   ]
  },
  {
   "cell_type": "code",
   "execution_count": 28,
   "id": "8e19511a",
   "metadata": {},
   "outputs": [
    {
     "name": "stdout",
     "output_type": "stream",
     "text": [
      "Based on the context provided, my answer to your question is:\n",
      "\n",
      "The image is a close-up of a word written in bold text.\n"
     ]
    }
   ],
   "source": [
    "# answer = chain.invoke(\"\")\n",
    "# print(answer)"
   ]
  },
  {
   "cell_type": "code",
   "execution_count": 20,
   "id": "ba4ec689",
   "metadata": {},
   "outputs": [
    {
     "name": "stdout",
     "output_type": "stream",
     "text": [
      "Based on the given context, a WARNING indicator on the Dell cellphone likely indicates that there is a potential risk or danger associated with the device or its usage. The arrow pointing to the location of the WARNING suggests that it is located nearby and worth paying attention to.\n"
     ]
    }
   ],
   "source": [
    "# answer = chain.invoke(\"For the Dell cellphone, what does a WARNING indicate?\")\n",
    "# print(answer)\n"
   ]
  },
  {
   "cell_type": "code",
   "execution_count": 21,
   "id": "11a46a26",
   "metadata": {},
   "outputs": [
    {
     "name": "stdout",
     "output_type": "stream",
     "text": [
      "Based on the provided context, the function of the Camera button on the Dell cellphone can be inferred as follows:\n",
      "\n",
      "1. The image shows two buttons located at the bottom part of the device: one closer to the left side and another near the center-right area. Since the button closer to the left side is labeled \"Camera,\" it suggests that this button might control the phone's camera functionality.\n",
      "2. The presence of a keypad on the cellphone suggests that it may be an older model, possibly from the early 2000s or late 1990s. In those times, the keypad was a common design feature for mobile phones, and the Camera button could have been used to activate the camera function.\n",
      "3. The image also shows several wires connected to various components on the phone, indicating that charging or data transfer may be possible through these connections. However, given the age of the device, it is more likely that the wires are for charging purposes only.\n",
      "4. Finally, the tiny person visible in the image may represent someone holding the device, suggesting that the Camera button could be used to take pictures or videos with the phone's built-in camera.\n",
      "\n",
      "Based on these observations, it is probable that the Camera button on the Dell cellphone is used to activate and control the phone's built-in camera function for taking photos or videos.\n"
     ]
    }
   ],
   "source": [
    "# answer = chain.invoke(\"For the Dell cellphone, what is the function of the Camera button?\")\n",
    "# print(answer)\n"
   ]
  },
  {
   "cell_type": "code",
   "execution_count": 22,
   "id": "3083a6c3",
   "metadata": {},
   "outputs": [
    {
     "name": "stdout",
     "output_type": "stream",
     "text": [
      "Before using your Dell Mini 3i smartphone, you should follow the instructions provided in the \"Setting Up Your Mini 3i Smartphone\" document. This will help you properly set up and configure your device for optimal performance and safety. Specifically, you should:\n",
      "\n",
      "1. Read the user manual carefully to understand the features and capabilities of your smartphone.\n",
      "2. Ensure that your smartphone is compatible with your service provider's network.\n",
      "3. Activate your smartphone by following the instructions provided by your service provider.\n",
      "4. Set up your smartphone's security features, such as a password or fingerprint recognition, to protect your device and personal data.\n",
      "5. Familiarize yourself with the smartphone's physical layout and button functions to avoid accidental calls or text messages.\n",
      "6. Review the safety precautions and cautions outlined in the \"Notes, Cautions, and Warnings\" section of the document to avoid potential damage to your device or personal injury.\n",
      "\n",
      "By following these steps, you can ensure a smooth and safe transition into using your Dell Mini 3i smartphone.\n"
     ]
    }
   ],
   "source": [
    "# answer = chain.invoke(\"For the Dell cellphone, what should I do before using the smartphone?\")\n",
    "# print(answer)\n"
   ]
  },
  {
   "cell_type": "code",
   "execution_count": 23,
   "id": "05dd330c",
   "metadata": {},
   "outputs": [
    {
     "name": "stdout",
     "output_type": "stream",
     "text": [
      "Based on the context provided, it seems that the image depicts a smartphone with various options and settings visible on its screen. The image includes several labeled numbers, which may indicate measurements or specifications related to the phone's design or dimensions. Additionally, there are two smaller figures visible at the top-left corner of the image, which might represent more options or settings related to the app being used or accessed.\n",
      "\n",
      "As for the function of the icons on the screen, it is likely that they are part of the interface or illustrations that accompany the user experience. The icons may represent different features or functions of the phone, such as a camera, internet browser, or music player. Alternatively, the icons could be used to indicate different settings or preferences related to the app being used. Without more information or context, it is difficult to provide a definitive answer to this question.\n"
     ]
    }
   ],
   "source": [
    "# answer = chain.invoke(\"For the Dell cellphone, what is the function of the icons?\")\n",
    "# print(answer)\n"
   ]
  },
  {
   "cell_type": "code",
   "execution_count": 29,
   "id": "345df0f3",
   "metadata": {},
   "outputs": [
    {
     "name": "stdout",
     "output_type": "stream",
     "text": [
      "For safety reasons, it is important to only use the adapter provided by Samsung for this product. Plugging in any other adapter may cause damage or electric shock, which could result in injury or even death. Additionally, connecting multiple controllers to a single adapter can lead to abnormal heat generation or other issues, so it's crucial to follow the recommended usage guidelines to avoid any risks. To ensure your safety and the proper functioning of your vacuum cleaner, always use only the standard adapter provided by Samsung.\n"
     ]
    }
   ],
   "source": [
    "answer = chain.invoke(\"For the Samsung vacuum cleaner, can I plug in my vacuum cleaner directly?\")\n",
    "print(answer)\n"
   ]
  },
  {
   "cell_type": "code",
   "execution_count": 30,
   "id": "eef47aa7",
   "metadata": {},
   "outputs": [
    {
     "name": "stdout",
     "output_type": "stream",
     "text": [
      "For the Samsung vacuum cleaner, there are a few steps you can take to remove debris from the Mini Turbo Brush when it becomes clogged or wrapped around the brush roll:\n",
      "\n",
      "1. Turn off the vacuum cleaner and unplug it: Before attempting to clean the Mini Turbo Brush, make sure the vacuum cleaner is turned off and unplugged from the wall outlet. This will prevent any accidental start-ups or electrical shocks.\n",
      "2. Remove any loose debris: Use your hands or a soft brush to gently remove any loose debris or hair that may be wrapped around the brush roll. Avoid using force or scrubbing too hard, as this can damage the brush or the vacuum cleaner.\n",
      "3. Use compressed air: If there are small debris particles stuck inside the Mini Turbo Brush, try using a can of compressed air to blow them out. Hold the can upside down and spray the debris away from the brush roll.\n",
      "4. Use a soft-bristled brush: For more stubborn debris or hair that is wrapped around the brush roll, use a soft-bristled brush (like a makeup brush) to gently scrub it away. Be careful not to apply too much pressure, as you don't want to damage the brush or the vacuum cleaner.\n",
      "5. Check the Mini Turbo Brush filter: If the debris is stuck in the filter of the Mini Turbo Brush, remove and clean it according to the manufacturer's instructions. This will ensure that the brush can continue to function properly.\n",
      "6. Consider replacing the Mini Turbo Brush: If the Mini Turbo Brush is frequently getting clogged or damaged, you may want to consider replacing it with a new one. This can be especially important if you have pets or allergies, as the brush can become less effective at picking up pet hair and dander over time.\n",
      "\n",
      "By following these steps, you should be able to remove any debris that is clogged or wrapped around the Mini Turbo Brush on your Samsung vacuum cleaner.\n"
     ]
    }
   ],
   "source": [
    "answer = chain.invoke(\"For the Samsung vacuum cleaner, what should I do if the Mini Turbo Brush is clogged or debris is wrapped around the brush roll?\")\n",
    "print(answer)\n"
   ]
  },
  {
   "cell_type": "code",
   "execution_count": 31,
   "id": "7ef34c56",
   "metadata": {},
   "outputs": [
    {
     "name": "stdout",
     "output_type": "stream",
     "text": [
      "The Combination Tool for the Samsung vacuum cleaner can be installed in various locations depending on your cleaning needs and preferences. Here are some options to consider:\n",
      "\n",
      "1. Extension Wand: The Combination Tool can be attached to the extension wand of the vacuum cleaner, providing you with more reach and flexibility when cleaning hard-to-reach areas such as stairs, ceilings, and corners.\n",
      "2. Dusting Brush: You can install the Combination Tool on the dusting brush of the vacuum cleaner for quick and easy cleaning of upholstery, curtains, and other delicate surfaces.\n",
      "3. Floor Cleaner Tool: Attach the Combination Tool to the floor cleaner tool of the vacuum cleaner for deeper cleaning of carpets, rugs, and hardwood floors. This tool is particularly useful for removing dirt and debris from tight spaces and crevices.\n",
      "4. Handheld Vacuum: If you want a more portable cleaning solution, you can detach the Combination Tool from the vacuum cleaner and use it as a handheld vacuum for cleaning small areas, stairs, and upholstery.\n",
      "\n",
      "Remember to always refer to the user manual for specific installation instructions and guidelines for your Samsung vacuum cleaner.\n"
     ]
    }
   ],
   "source": [
    "answer = chain.invoke(\"For the Samsung vacuum cleaner, where should I install the Combination Tool?\")\n",
    "print(answer)"
   ]
  },
  {
   "cell_type": "code",
   "execution_count": 32,
   "id": "9c15ccb5",
   "metadata": {},
   "outputs": [
    {
     "name": "stdout",
     "output_type": "stream",
     "text": [
      "After removing a screw for a Samsung vacuum cleaner, there are several steps you should take to ensure proper maintenance and safety:\n",
      "\n",
      "1. Check the manual: Before attempting any repairs or maintenance on your vacuum cleaner, consult the user manual provided by Samsung. The manual will outline the recommended procedures for servicing your specific model of vacuum cleaner.\n",
      "2. Unplug the vacuum: Always unplug your vacuum cleaner from the wall outlet before performing any maintenance or repairs. This will help prevent accidental start-up or electrical shock.\n",
      "3. Remove any attachments: If you are planning to remove any attachments, such as crevice tools or upholstery brushes, do so carefully and according to the manufacturer's instructions.\n",
      "4. Inspect for damage: Use a flashlight to inspect the internal components of your vacuum cleaner for any signs of damage or wear. Check for loose or damaged parts, such as belts, filters, or motor brushes.\n",
      "5. Replace worn parts: If you find any worn or damaged parts, replace them with new ones according to Samsung's recommendations. Be sure to use only genuine Samsung parts to ensure proper compatibility and performance.\n",
      "6. Reassemble the vacuum: Once you have completed any necessary repairs or maintenance, reassemble the vacuum cleaner in the reverse order of how you disassembled it. Make sure all screws are securely tightened and the power cord is properly connected.\n",
      "7. Test the vacuum: Before using your vacuum cleaner again, test it to ensure it is functioning properly. Run a few strokes over a hard surface, such as a wood floor or tile, to check for any issues with suction or noise.\n",
      "\n",
      "Remember, if you are unsure about how to perform any maintenance or repairs on your Samsung vacuum cleaner, consult a professional authorized service center for assistance.\n"
     ]
    }
   ],
   "source": [
    "answer = chain.invoke(\"For the Samsung vacuum cleaner, what should I do after removing a screw? \")\n",
    "print(answer)\n"
   ]
  },
  {
   "cell_type": "code",
   "execution_count": 33,
   "id": "906cec14",
   "metadata": {},
   "outputs": [
    {
     "name": "stdout",
     "output_type": "stream",
     "text": [
      "To adjust the 3D settings on your Sony laptop, follow these steps:\n",
      "\n",
      "1. Click on the Start menu and select Settings.\n",
      "2. In the Settings window, click on the \"Display\" option.\n",
      "3. In the Display window, click on the \"3D\" tab.\n",
      "4. Under the \"3D\" tab, you will see options to adjust the 3D settings. You can choose the type of 3D content you want to play, such as Blu-ray 3D discs or 3D photos.\n",
      "5. Adjust the brightness and contrast of the 3D image to your liking.\n",
      "6. If you are using a 3D display, you can adjust the 3D depth level to enhance the 3D experience.\n",
      "7. Once you have made your adjustments, click \"Apply\" to save your changes.\n",
      "\n",
      "Note: The exact steps may vary depending on the Sony laptop model and its specific features. Refer to the user manual or online support resources for more detailed instructions.\n"
     ]
    }
   ],
   "source": [
    "answer = chain.invoke(\"For the Sony laptop, how can I adjust the 3D settings?\")\n",
    "print(answer)\n"
   ]
  },
  {
   "cell_type": "code",
   "execution_count": 34,
   "id": "f9f99537",
   "metadata": {},
   "outputs": [
    {
     "name": "stdout",
     "output_type": "stream",
     "text": [
      "When viewing 3D images on your Sony laptop, it's important to follow the instructions in the manuals that came with your computer to avoid any discomfort or eye strain. Some people may experience eye strain, fatigue, or nausea while watching 3D video images or using stereoscopic 3D-related software.\n",
      "\n",
      "To minimize the risk of discomfort, Sony recommends that all viewers take regular breaks while watching 3D video images or using stereoscopic 3D-related software. The length and frequency of necessary breaks will vary from person to person, so you should decide what works best for you. If you experience any discomfort, stop watching the 3D video images or using stereoscopic 3D-related software until the discomfort ends; consult a doctor if necessary.\n",
      "\n",
      "It's also important to position yourself correctly while viewing 3D content. Sony suggests that you sit at a comfortable distance from the screen, ideally between 1.5 and 2.5 times the screen's diagonal measurement. You should also ensure that the screen is perpendicular to your line of sight and that there are no obstructions between you and the screen.\n",
      "\n",
      "Remember, it's essential to prioritize your eye health when viewing 3D content on your laptop. If you have any concerns or experience discomfort during use, consult a doctor or an optometrist for professional advice.\n"
     ]
    }
   ],
   "source": [
    "answer = chain.invoke(\"For the Sony laptop, I like suring the internet on the computer tilting my head. If I do the same thing while viewing 3D images, what would happen?\")\n",
    "print(answer)\n"
   ]
  },
  {
   "cell_type": "code",
   "execution_count": 35,
   "id": "9b8393d4",
   "metadata": {},
   "outputs": [
    {
     "name": "stdout",
     "output_type": "stream",
     "text": [
      "To view 3D photos or videos on your Sony laptop, follow these steps:\n",
      "\n",
      "1. Ensure that your laptop has the latest drivers and software updates installed.\n",
      "2. Connect your laptop to a 3D-enabled display device (such as a 3D TV or monitor) using an HDMI cable or wireless connection.\n",
      "3. Open the Photos or Videos application on your laptop.\n",
      "4. Locate the 3D content you wish to view (e.g., 3D photos or videos).\n",
      "5. Click on the \"Play\" button to start playing the content.\n",
      "6. Adjust the 3D settings in the display device's settings menu according to your preference. Some common options include adjusting the 3D depth, brightness, and contrast.\n",
      "7. Enjoy your 3D content!\n",
      "\n",
      "Note: If you don't have a 3D-enabled display device, you can also view 3D content on your laptop using built-in stereoscopic 3D capabilities. To enable this feature, go to the Display settings in your laptop's settings menu and select \"Stereoscopic 3D\" or a similar option.\n"
     ]
    }
   ],
   "source": [
    "answer = chain.invoke(\"For the Sony laptop, how can I view 3D photos or videos?\")\n",
    "print(answer)\n"
   ]
  },
  {
   "cell_type": "code",
   "execution_count": 36,
   "id": "c922f142",
   "metadata": {},
   "outputs": [
    {
     "name": "stdout",
     "output_type": "stream",
     "text": [
      "The 3D function on the Sony laptop is designed to work with compatible 3D content and 3D-capable TVs. If you are not seeing the 3D button or indicator on your computer when displaying 3D images on a 3D TV, there could be several reasons why:\n",
      "\n",
      "1. Compatibility issues: Make sure that the 3D content you are trying to play is compatible with the Sony laptop's 3D function. Some content may not be supported or may require additional software or hardware configurations.\n",
      "2. 3D TV compatibility: Ensure that your 3D TV is compatible with the Sony laptop's 3D signal. Check the TV's manual or manufacturer's website for information on its 3D capabilities and connectivity options.\n",
      "3. HDMI connection: Make sure that the Sony laptop is connected to the 3D TV via an HDMI cable. If the connection is not proper, you may not see the 3D button or indicator on the computer.\n",
      "4. Display settings: Check your computer's display settings to ensure that it is set to display 3D content correctly. You may need to adjust the display settings in the laptop's settings menu or use the TV's built-in settings menu.\n",
      "5. Software issues: Ensure that the Sony laptop's software is up-to-date and compatible with the 3D function. Check for any software updates or patches that may be needed to resolve compatibility issues.\n",
      "6. Hardware issues: In some cases, hardware issues can prevent the 3D function from working correctly. Check the laptop's hardware components, such as the graphics card or display panel, to ensure they are functioning properly.\n",
      "\n",
      "If you have checked all of these potential issues and are still unable to find the 3D button or indicator on your computer, contact Sony support for further assistance.\n"
     ]
    }
   ],
   "source": [
    "answer = chain.invoke(\"For the Sony laptop, why I cannot find the 3D button and the 3D indicator on my computer when I display 3D images on 3D TV?\")\n",
    "print(answer)\n"
   ]
  },
  {
   "cell_type": "code",
   "execution_count": 24,
   "id": "2f48c29c",
   "metadata": {},
   "outputs": [
    {
     "name": "stdout",
     "output_type": "stream",
     "text": [
      "[('Where can I know the complete Declaration of Conformity?', 'You can search the website at www.Bose.com/compliance.'), ('What does my Bose mobile on-ear headset include?', 'It includes on-ear headphones, a headphone cord with an inline microphone, four 3.5mm to 2.5mm mobile phone adapters, and a carrying case.'), ('How many types of adapters are there for mobile phones?', 'Each adapter has a symbol of a circle, triangle, diamond, or square.'), ('If my phone needs to use an adapter to connect the headset. What should I do?', 'You should find the appropriate adapter and connect the headphone cord plug to the adapter. Then you should connect the adapter to your phone.  '), ('How can I put the headset in the case?', 'You can rotate the earcups until the cushions face you, lay the headset down in front of you, and pivot the earcups into the headband and place the headset in the case.'), ('How can I take the headset out of the case?', 'You can lift the headset out of the case and pivot the earcups out of the headband, hold the headset with the headband up, and rotate the earcups until the cushions face teacher other.'), ('How can I clean the headset?', 'You need to be sure the earcup ports are kept clear and that no moisture is allowed to get inside the earcup.'), ('What should I make sure of when reattaching earcup cushions?', 'You can make sure the cushion is flush all the way around and that there are no gaps between the cushion and the earcup.'), ('What can I do if I still need help?', 'You can call for assistance if I still need help.'), ('What is the official website of Bose in Japan?', 'The official website of Bose in Japan is www.BoseIndia.jp.'), ('Can I use headphones when operating a motor vehicle?', 'No, you can not use headphones when operating a motor vehicle or anywhere the  inability to hear outside sounds may present a danger to you or others.'), ('What does the Bose OE2 audio headphone include?', 'It includes six components which are R and L mark, replaceable ear cup cushion, adjustable headband, audio cable and carry case.'), ('Can I exceed or rotate the earcups?', 'You can not try to exceed the limits of the pivots or over-rotate the  earcups.'), ('Where can I find replacement parts and accessories?', 'You can find them in Bose Customer Service. See the contact information for your area  included in this guide.'), ('What should I do if any problems persists?', 'You should contact Bose Customer Service and see the  phone number for your area, included in this guide.'), ('What are the steps to reattach earcup cushion?', '1. Place the edge of the earcup cushion skirt into the slot behind  the earcup flange.\\n2. Work the remainder of the skirt into the slot all the way around  the earcup.'), ('How to obtain Limited Warranty Service?', '1. Contact the Bose organization in your country or region.\\n2. Label and ship the product to the address  provided by the Bose organization in your country.\\n3. Place any necessary return authorization number prominently  on the outside of the carton.'), ('What do you think of the hazardous standard of plastic parts?', 'The plastic parts which contained in all of the homogeneous materials is below the limit requirement.'), ('What is the telephone number of the Bose corporation in Denmark?\\n', 'The telephone number of the Bose corporation in Denmark is 4343 7777.'), ('What is the website of Bose in Hong Kong?', 'The website of Bose in Hong Kong is support_hk@Bose.com.'), ('What does a WARNING indicate?', 'It shows potential for property damage, personal injury, or death.'), ('Does every order include a Mini-USB to 3.5 mm audio adapter?', 'It depends on the choice you made during the purchase.'), ('What should I do before using the smartphone?', 'You have to install the battery, and SIM card, and charge the battery.'), ('What should I do to make sure of proper installation?', 'You have to align the cut corners in the card and the SIM card slot.'), ('How can I charge the battery?', 'First, please use the Mini-USB to USB cable, plug the power adapter into a power outlet, and then into your phone. Next, you have to charge the phone for at least 12 hours.'), ('How can I turn on the phone?', 'Please push and hold the power button for two seconds.'), ('Can you tell me the use of the camera flash?', 'It is used to take photos in dim lights.'), ('What is the function of the Home button?', 'When you press the button shortly, it can navigate back one screen at a time. And when you press and hold it, you can return to the Home screen.'), ('What is the function of the Camera button?', 'You can press it to activate the camera and you can take photos or capture videos.'), ('How to switch between the screens?', 'You have to swipe your finger or the optional stylus across the screen from left to right, or right to left.'), ('I want to use this product outdoors. Is that OK?', 'No, it is designed for indoor use only.'), ('How can I know whether this equipment causes interference to television reception or not?', 'You can test it by turning the equipment off and on.'), ('Where can I see the additional instructions?', 'You can see the additional instructions on the Important Safety Instructions sheet (North America only) enclosed in the shipping carton.'), ('Is there any interference between the adapter and the system?', 'Yes, you need to make sure that they are 5 cm apart to avoid interference.'), ('What is the entry code?', 'You can enter <0000>.'), ('What should I do if I cannot hear music after pairing?', 'You can quit and restart your music app.'), ('How long should I press the Presets 6 button?', 'You should press and hold the button on the remote for 10 seconds until a tone is heard.'), ('What is the function of the button Mute?', 'If you press Mute for one time, it can mute the audio. And you can press again to restore audio.'), ('What should I do if I want to turn up the volume?', 'You can turn up the volume by pressing the up arrow under the Volume button.'), ('There is no sound when the Bluetooth enabled device plays music, what can I do?', 'You should check whether:\\n1 \"Bose Adapter\" is selected in the Bluetooth dedvice list\\n2 Wave system volume, the volume on your Bluetooth,your music application and is turned up and not muted\\nAfter doing so, if there is still no sound,you can restart the music application on your Bluetooth and restart your Bluetooth enabled device.'), ('What does the exclamation point within an equilateral triangle mean?', \"It means that the user should pay attention to the presence of important operating and maintenance instructions in this owner's guide.\"), ('Can I use the product without charging?', 'No, the product should be used with the power supply provided.'), ('What specifications does the product comply with in the U.S.?', 'The product complies with SFR 47 Part 15 specifications in the U.S..'), ('How many versions of the SoundLink kit?', 'There are 2 versions: 1. Using a kit with basic content only. 2. Using a kit with both basic and update contents.'), ('How can I withdraw the CD in the end?', 'The CD will be ejected when the update is complete.'), ('How far should I place the SoundLink adapter and the Wave system?', 'They should be placed at least 2 in. (5 cm) apart.'), ('What will happen if the required power pack is not connected when you press the SoundLink/CD button?', 'Scrolls across the Wave system display if the required power pack is not connected when you press the SoundLink/CD button.'), ('Can I lay the USB antenna flat and then plug it into the computer?', \"No, you can't. You should lift the antenna on the USB key to the vertical position and plug the key into a USB port on your computer.\"), ('Where is the Flashing power light?', 'It is in the USB key.'), ('I want to reconnect to my Wave system, but it shows nothing, what should I do?', 'You may not turn on your computer at first, and then you must make sure that you can see COMPUTER on the display.'), ('How many buttons can I find on the front of the device?', 'You can find 7 buttons on the front of the device.'), ('Are the items supplied with the devices and available accessories the same in different regions?', 'No, the items supplied with the devices and available accessories may vary by region.'), ('When should i charge the battery completely?', 'Charge the battery completely before using the device for the first time or after it has not been used for an extended period.'), ('When does the status indicator turn red?', 'The status indicator turns red while the device is being charged.'), ('How can I measure the battery charge?', 'You can measure the battery charge by pressing and holding the Talk and Volume-button simultaneously. And then the status indicator flashes four times in different colors according to the charge left on the battery.'), ('What is the indicator color, when the charge level of the device is more than 80%?', 'It is bule.'), ('How many status indicator flashes when the device is turned on?', 'When the devices turned on the status indicators flashes blue 4 times.'), ('How can I connect via Bluetooth?', 'You can turn on Level Box. And then press and hold the Pairing button for about 3 seconds.'), ('When the pairing is completed, what does the Level Box appear?', 'You can see the Level Box appears as “connected ” when the pairing is complete.'), ('What is the reason for the not available NFC feature?', 'It is not available because another device is connected to the Bluetooth speaker.'), ('What is the World Wide Web of the SAMSUNG?', 'It is the http://www.samsungmobileusa.com.'), ('How to avoid damaging the performance and reducing the battery life?', \"Please don't store it at high temperatures (above 50℃/122℉).\"), ('Where is the Microphone of the device?', 'The microphone is located at the lower part of the headset body device.'), ('What can I do with the Volume Button?', 'Please press the button to adjust the volume. During a call, you can press and hold to mute the microphone.'), ('What if the charging does not begin?', 'Please unplug the travel adapter and plug it in again.'), ('What is the battery level if the indicator light flashes blue?', 'The battery level is above 80% if the indicator light flashes blue.'), ('What will happen if my headset powers off during a call?', 'The call will be automatically transferred to the phone.'), ('How can I know if I turn off my headset?', 'You can see both the blue and red indicator lights flash when you turn off your headset.'), ('How can I make my headset enter Pairing mode?', 'You can turn on your headset, press and hold the Talk button until the indicator light turns blue and stays lit after blinking. And your headset automatically enters Pairing mode when you turn on it for the first time.'), ('How can I reconnect the headset?', 'You can press the Talk button and use the Bluetooth menu on your phone to reconnect the headset.'), ('How to receive more complete service about this product?', 'You should register your product at www.sansung.com/register.'), ('How to store it properly?', 'You should store it indoors, in a cool and dry area.'), ('Can I plug in my vacuum cleaner directly?', \"No, you can't. You should be familiar with all instructions and operating procedures.\"), ('Where should I install the Combination Tool?', 'You should attach it to the holder on the left side of the vacuum cleaner.'), ('How to change the cleaning positions?', 'You can press the handle release pedal located on the lower left side of the vacuum with your foot to place your vacuum into one of three cleaning positions.'), ('How to prevent the brush stops rotating?', \"You shouldn't put too much pressure.\"), ('What if the suction is weak although the dust bin is empty?', 'Please open the cover and clean the Grille.'), ('How to replace the post-motor filter?', 'First, unplug the Vacuum Cleaner from the electrical outlet. When the filter becomes dirty, open the door, remove the filter and replace it.'), ('What if I properly install the Rotating Floor Brush?', 'The Drive Belt will center itself on the Rotating Brush crown.'), ('What should I do after removing a screw?', 'You can lift the cover belt off.'), ('What if I place conductive objects on the top of the controller?', 'It may cause personal injury due to fire, electric shock, or falling objects.'), ('How to avoid injury from tip-over?', 'Please use caution when moving the cart/ apparatus combination.'), (\"What's included in the remote controller?\", 'It includes a controller and a user guide.'), ('What if I want long-distance coaxial communications?', 'You could use this switch for amplifying the control signal.'), (\"What's the effective range of valid address?\", 'The effective range of valid address is between 0 and 255(1-255 for multiprotocol).'), ('How can I dispose of the wasted batteries?', 'You should collect it individually and keep it away from children.'), ('Can I connect the device with a DC12V power source?', 'Yes, you can do it by using DC12V power connector(2-pin).'), ('How can I clean the product?', 'You can use dry cloth only to clean it.'), (\"What's the size of the battery of this product?\", 'You will need to insert 4 AA-sized batteries into it.'), ('Do RS-485 input and COAXITRON control support all protocols?', 'No, they support SAMSUNG-E and SAMSUNG-T protocols only.'), ('What is the 3D function?', 'It allows quick and easy playback of various types of 3D content.'), ('Can children watch 3D video images or use stereoscopic 3D-related software?', \"You'd better consult your doctor before allowing young children to watch them or use the software because the vision of young children, especially those under six years old, is still under development. And adults should supervise young children to ensure they follow the recommendations.\"), ('I like surfing the internet on the computer tilting my head. If I do the same thing while viewing 3D images, what would happen?', 'The 3D effect may be less pronounced or the color of the images may change.'), ('Can I charge the battery with devices other than the ones specified by Sony?', 'No. It may cause the 3D glasses to malfunction.'), ('How can I select 3D-related software?', 'You can click Start, All Programs, and VAIO 3D Portal to start VAIO 3D Portal then select the software you want to use.'), ('When I play 3D videos, what software can I use?', 'You can use NVIDIA 3D Vision Video Player to play 3D videos.'), ('How can I view 3D photos or videos?', 'You can start the software that su[[prts 3D photo or video playback and start 3D photo or video playback, then turn on the 3D glasses and wear them, and then press the 3D button on your computer. The 3D indicator light turns on during the 3D playback.'), ('How can I adjust the 3D settings?', 'You can click Start, All Programs, and VAIO Control Center, then click 3D Effect Settings in the left pane of the window to adjust the 3D effect.'), ('Why I cannot find the 3D button and the 3D indicator on my computer when I display 3D images on 3D TV?', 'The 3D button and the 3D indicator on your computer are not available when 3D images are displayed on the 3D TV.'), ('What does it indicate if the LED indicator blinks three times every three seconds?', 'It indicates that the battery of your 3D glasses is low. You need to charge the battery.')]\n"
     ]
    }
   ],
   "source": [
    "# MAKE THE DATEFRAME INTO A LIST OF TUPLES\n",
    "\n",
    "qa_list = [(row['question'], row['ground_truth']) for index, row in df.iterrows()]\n",
    "print(qa_list)"
   ]
  },
  {
   "cell_type": "code",
   "execution_count": 25,
   "id": "2d764d00",
   "metadata": {},
   "outputs": [],
   "source": [
    "\n",
    "import os\n",
    "\n",
    "# Update with your API URL if using a hosted instance of Langsmith.\n",
    "os.environ[\"LANGCHAIN_ENDPOINT\"] = \"https://api.smith.langchain.com\"\n",
    "# os.environ[\"LANGCHAIN_API_KEY\"] = \"ls__9478a4fed44b477bbd2a4040c50cc935\"  # Cissis\n",
    "os.environ[\"LANGCHAIN_API_KEY\"] = \"ls__ed021d06cdab4f0b837aa6b4bf174513\"  # Cissis 2\n",
    "# os.environ[\"LANGCHAIN_API_KEY\"] = \"ls__dfec5f97d1de407f93106c572de7ca06\" # Martas\n",
    "project_name = \"summary_rag\"  # Update with your project name"
   ]
  },
  {
   "cell_type": "code",
   "execution_count": 26,
   "id": "ac3029c0",
   "metadata": {},
   "outputs": [],
   "source": [
    "from langsmith import Client\n",
    "\n",
    "client = Client()"
   ]
  },
  {
   "cell_type": "code",
   "execution_count": 27,
   "id": "4928837c",
   "metadata": {},
   "outputs": [
    {
     "ename": "KeyboardInterrupt",
     "evalue": "",
     "output_type": "error",
     "traceback": [
      "\u001b[0;31m---------------------------------------------------------------------------\u001b[0m",
      "\u001b[0;31mKeyboardInterrupt\u001b[0m                         Traceback (most recent call last)",
      "Cell \u001b[0;32mIn[27], line 6\u001b[0m\n\u001b[1;32m      4\u001b[0m dataset \u001b[38;5;241m=\u001b[39m client\u001b[38;5;241m.\u001b[39mcreate_dataset(dataset_name\u001b[38;5;241m=\u001b[39mdataset_name)\n\u001b[1;32m      5\u001b[0m \u001b[38;5;28;01mfor\u001b[39;00m q, a \u001b[38;5;129;01min\u001b[39;00m qa_list:\n\u001b[0;32m----> 6\u001b[0m     \u001b[43mclient\u001b[49m\u001b[38;5;241;43m.\u001b[39;49m\u001b[43mcreate_example\u001b[49m\u001b[43m(\u001b[49m\n\u001b[1;32m      7\u001b[0m \u001b[43m        \u001b[49m\u001b[43minputs\u001b[49m\u001b[38;5;241;43m=\u001b[39;49m\u001b[43m{\u001b[49m\u001b[38;5;124;43m\"\u001b[39;49m\u001b[38;5;124;43mquestion\u001b[39;49m\u001b[38;5;124;43m\"\u001b[39;49m\u001b[43m:\u001b[49m\u001b[43m \u001b[49m\u001b[43mq\u001b[49m\u001b[43m}\u001b[49m\u001b[43m,\u001b[49m\u001b[43m \u001b[49m\u001b[43moutputs\u001b[49m\u001b[38;5;241;43m=\u001b[39;49m\u001b[43m{\u001b[49m\u001b[38;5;124;43m\"\u001b[39;49m\u001b[38;5;124;43manswer\u001b[39;49m\u001b[38;5;124;43m\"\u001b[39;49m\u001b[43m:\u001b[49m\u001b[43m \u001b[49m\u001b[43ma\u001b[49m\u001b[43m}\u001b[49m\u001b[43m,\u001b[49m\u001b[43m \u001b[49m\u001b[43mdataset_id\u001b[49m\u001b[43m \u001b[49m\u001b[38;5;241;43m=\u001b[39;49m\u001b[43m \u001b[49m\u001b[43mdataset\u001b[49m\u001b[38;5;241;43m.\u001b[39;49m\u001b[43mid\u001b[49m\n\u001b[1;32m      8\u001b[0m \u001b[43m    \u001b[49m\u001b[43m)\u001b[49m\n",
      "File \u001b[0;32m~/RAG/venv8/lib/python3.8/site-packages/langsmith/utils.py:92\u001b[0m, in \u001b[0;36mxor_args.<locals>.decorator.<locals>.wrapper\u001b[0;34m(*args, **kwargs)\u001b[0m\n\u001b[1;32m     86\u001b[0m     invalid_group_names \u001b[38;5;241m=\u001b[39m [\u001b[38;5;124m\"\u001b[39m\u001b[38;5;124m, \u001b[39m\u001b[38;5;124m\"\u001b[39m\u001b[38;5;241m.\u001b[39mjoin(arg_groups[i]) \u001b[38;5;28;01mfor\u001b[39;00m i \u001b[38;5;129;01min\u001b[39;00m invalid_groups]\n\u001b[1;32m     87\u001b[0m     \u001b[38;5;28;01mraise\u001b[39;00m \u001b[38;5;167;01mValueError\u001b[39;00m(\n\u001b[1;32m     88\u001b[0m         \u001b[38;5;124m\"\u001b[39m\u001b[38;5;124mExactly one argument in each of the following\u001b[39m\u001b[38;5;124m\"\u001b[39m\n\u001b[1;32m     89\u001b[0m         \u001b[38;5;124m\"\u001b[39m\u001b[38;5;124m groups must be defined:\u001b[39m\u001b[38;5;124m\"\u001b[39m\n\u001b[1;32m     90\u001b[0m         \u001b[38;5;124mf\u001b[39m\u001b[38;5;124m\"\u001b[39m\u001b[38;5;124m \u001b[39m\u001b[38;5;132;01m{\u001b[39;00m\u001b[38;5;124m'\u001b[39m\u001b[38;5;124m, \u001b[39m\u001b[38;5;124m'\u001b[39m\u001b[38;5;241m.\u001b[39mjoin(invalid_group_names)\u001b[38;5;132;01m}\u001b[39;00m\u001b[38;5;124m\"\u001b[39m\n\u001b[1;32m     91\u001b[0m     )\n\u001b[0;32m---> 92\u001b[0m \u001b[38;5;28;01mreturn\u001b[39;00m \u001b[43mfunc\u001b[49m\u001b[43m(\u001b[49m\u001b[38;5;241;43m*\u001b[39;49m\u001b[43margs\u001b[49m\u001b[43m,\u001b[49m\u001b[43m \u001b[49m\u001b[38;5;241;43m*\u001b[39;49m\u001b[38;5;241;43m*\u001b[39;49m\u001b[43mkwargs\u001b[49m\u001b[43m)\u001b[49m\n",
      "File \u001b[0;32m~/RAG/venv8/lib/python3.8/site-packages/langsmith/client.py:2512\u001b[0m, in \u001b[0;36mClient.create_example\u001b[0;34m(self, inputs, dataset_id, dataset_name, created_at, outputs, example_id)\u001b[0m\n\u001b[1;32m   2510\u001b[0m     data[\u001b[38;5;124m\"\u001b[39m\u001b[38;5;124mid\u001b[39m\u001b[38;5;124m\"\u001b[39m] \u001b[38;5;241m=\u001b[39m example_id\n\u001b[1;32m   2511\u001b[0m example \u001b[38;5;241m=\u001b[39m ls_schemas\u001b[38;5;241m.\u001b[39mExampleCreate(\u001b[38;5;241m*\u001b[39m\u001b[38;5;241m*\u001b[39mdata)\n\u001b[0;32m-> 2512\u001b[0m response \u001b[38;5;241m=\u001b[39m \u001b[38;5;28;43mself\u001b[39;49m\u001b[38;5;241;43m.\u001b[39;49m\u001b[43msession\u001b[49m\u001b[38;5;241;43m.\u001b[39;49m\u001b[43mpost\u001b[49m\u001b[43m(\u001b[49m\n\u001b[1;32m   2513\u001b[0m \u001b[43m    \u001b[49m\u001b[38;5;124;43mf\u001b[39;49m\u001b[38;5;124;43m\"\u001b[39;49m\u001b[38;5;132;43;01m{\u001b[39;49;00m\u001b[38;5;28;43mself\u001b[39;49m\u001b[38;5;241;43m.\u001b[39;49m\u001b[43mapi_url\u001b[49m\u001b[38;5;132;43;01m}\u001b[39;49;00m\u001b[38;5;124;43m/examples\u001b[39;49m\u001b[38;5;124;43m\"\u001b[39;49m\u001b[43m,\u001b[49m\n\u001b[1;32m   2514\u001b[0m \u001b[43m    \u001b[49m\u001b[43mheaders\u001b[49m\u001b[38;5;241;43m=\u001b[39;49m\u001b[43m{\u001b[49m\u001b[38;5;241;43m*\u001b[39;49m\u001b[38;5;241;43m*\u001b[39;49m\u001b[38;5;28;43mself\u001b[39;49m\u001b[38;5;241;43m.\u001b[39;49m\u001b[43m_headers\u001b[49m\u001b[43m,\u001b[49m\u001b[43m \u001b[49m\u001b[38;5;124;43m\"\u001b[39;49m\u001b[38;5;124;43mContent-Type\u001b[39;49m\u001b[38;5;124;43m\"\u001b[39;49m\u001b[43m:\u001b[49m\u001b[43m \u001b[49m\u001b[38;5;124;43m\"\u001b[39;49m\u001b[38;5;124;43mapplication/json\u001b[39;49m\u001b[38;5;124;43m\"\u001b[39;49m\u001b[43m}\u001b[49m\u001b[43m,\u001b[49m\n\u001b[1;32m   2515\u001b[0m \u001b[43m    \u001b[49m\u001b[43mdata\u001b[49m\u001b[38;5;241;43m=\u001b[39;49m\u001b[43mexample\u001b[49m\u001b[38;5;241;43m.\u001b[39;49m\u001b[43mjson\u001b[49m\u001b[43m(\u001b[49m\u001b[43m)\u001b[49m\u001b[43m,\u001b[49m\n\u001b[1;32m   2516\u001b[0m \u001b[43m\u001b[49m\u001b[43m)\u001b[49m\n\u001b[1;32m   2517\u001b[0m ls_utils\u001b[38;5;241m.\u001b[39mraise_for_status_with_text(response)\n\u001b[1;32m   2518\u001b[0m result \u001b[38;5;241m=\u001b[39m response\u001b[38;5;241m.\u001b[39mjson()\n",
      "File \u001b[0;32m~/RAG/venv8/lib/python3.8/site-packages/requests/sessions.py:637\u001b[0m, in \u001b[0;36mSession.post\u001b[0;34m(self, url, data, json, **kwargs)\u001b[0m\n\u001b[1;32m    626\u001b[0m \u001b[38;5;28;01mdef\u001b[39;00m \u001b[38;5;21mpost\u001b[39m(\u001b[38;5;28mself\u001b[39m, url, data\u001b[38;5;241m=\u001b[39m\u001b[38;5;28;01mNone\u001b[39;00m, json\u001b[38;5;241m=\u001b[39m\u001b[38;5;28;01mNone\u001b[39;00m, \u001b[38;5;241m*\u001b[39m\u001b[38;5;241m*\u001b[39mkwargs):\n\u001b[1;32m    627\u001b[0m \u001b[38;5;250m    \u001b[39m\u001b[38;5;124mr\u001b[39m\u001b[38;5;124;03m\"\"\"Sends a POST request. Returns :class:`Response` object.\u001b[39;00m\n\u001b[1;32m    628\u001b[0m \n\u001b[1;32m    629\u001b[0m \u001b[38;5;124;03m    :param url: URL for the new :class:`Request` object.\u001b[39;00m\n\u001b[0;32m   (...)\u001b[0m\n\u001b[1;32m    634\u001b[0m \u001b[38;5;124;03m    :rtype: requests.Response\u001b[39;00m\n\u001b[1;32m    635\u001b[0m \u001b[38;5;124;03m    \"\"\"\u001b[39;00m\n\u001b[0;32m--> 637\u001b[0m     \u001b[38;5;28;01mreturn\u001b[39;00m \u001b[38;5;28;43mself\u001b[39;49m\u001b[38;5;241;43m.\u001b[39;49m\u001b[43mrequest\u001b[49m\u001b[43m(\u001b[49m\u001b[38;5;124;43m\"\u001b[39;49m\u001b[38;5;124;43mPOST\u001b[39;49m\u001b[38;5;124;43m\"\u001b[39;49m\u001b[43m,\u001b[49m\u001b[43m \u001b[49m\u001b[43murl\u001b[49m\u001b[43m,\u001b[49m\u001b[43m \u001b[49m\u001b[43mdata\u001b[49m\u001b[38;5;241;43m=\u001b[39;49m\u001b[43mdata\u001b[49m\u001b[43m,\u001b[49m\u001b[43m \u001b[49m\u001b[43mjson\u001b[49m\u001b[38;5;241;43m=\u001b[39;49m\u001b[43mjson\u001b[49m\u001b[43m,\u001b[49m\u001b[43m \u001b[49m\u001b[38;5;241;43m*\u001b[39;49m\u001b[38;5;241;43m*\u001b[39;49m\u001b[43mkwargs\u001b[49m\u001b[43m)\u001b[49m\n",
      "File \u001b[0;32m~/RAG/venv8/lib/python3.8/site-packages/requests/sessions.py:589\u001b[0m, in \u001b[0;36mSession.request\u001b[0;34m(self, method, url, params, data, headers, cookies, files, auth, timeout, allow_redirects, proxies, hooks, stream, verify, cert, json)\u001b[0m\n\u001b[1;32m    584\u001b[0m send_kwargs \u001b[38;5;241m=\u001b[39m {\n\u001b[1;32m    585\u001b[0m     \u001b[38;5;124m\"\u001b[39m\u001b[38;5;124mtimeout\u001b[39m\u001b[38;5;124m\"\u001b[39m: timeout,\n\u001b[1;32m    586\u001b[0m     \u001b[38;5;124m\"\u001b[39m\u001b[38;5;124mallow_redirects\u001b[39m\u001b[38;5;124m\"\u001b[39m: allow_redirects,\n\u001b[1;32m    587\u001b[0m }\n\u001b[1;32m    588\u001b[0m send_kwargs\u001b[38;5;241m.\u001b[39mupdate(settings)\n\u001b[0;32m--> 589\u001b[0m resp \u001b[38;5;241m=\u001b[39m \u001b[38;5;28;43mself\u001b[39;49m\u001b[38;5;241;43m.\u001b[39;49m\u001b[43msend\u001b[49m\u001b[43m(\u001b[49m\u001b[43mprep\u001b[49m\u001b[43m,\u001b[49m\u001b[43m \u001b[49m\u001b[38;5;241;43m*\u001b[39;49m\u001b[38;5;241;43m*\u001b[39;49m\u001b[43msend_kwargs\u001b[49m\u001b[43m)\u001b[49m\n\u001b[1;32m    591\u001b[0m \u001b[38;5;28;01mreturn\u001b[39;00m resp\n",
      "File \u001b[0;32m~/RAG/venv8/lib/python3.8/site-packages/requests/sessions.py:703\u001b[0m, in \u001b[0;36mSession.send\u001b[0;34m(self, request, **kwargs)\u001b[0m\n\u001b[1;32m    700\u001b[0m start \u001b[38;5;241m=\u001b[39m preferred_clock()\n\u001b[1;32m    702\u001b[0m \u001b[38;5;66;03m# Send the request\u001b[39;00m\n\u001b[0;32m--> 703\u001b[0m r \u001b[38;5;241m=\u001b[39m \u001b[43madapter\u001b[49m\u001b[38;5;241;43m.\u001b[39;49m\u001b[43msend\u001b[49m\u001b[43m(\u001b[49m\u001b[43mrequest\u001b[49m\u001b[43m,\u001b[49m\u001b[43m \u001b[49m\u001b[38;5;241;43m*\u001b[39;49m\u001b[38;5;241;43m*\u001b[39;49m\u001b[43mkwargs\u001b[49m\u001b[43m)\u001b[49m\n\u001b[1;32m    705\u001b[0m \u001b[38;5;66;03m# Total elapsed time of the request (approximately)\u001b[39;00m\n\u001b[1;32m    706\u001b[0m elapsed \u001b[38;5;241m=\u001b[39m preferred_clock() \u001b[38;5;241m-\u001b[39m start\n",
      "File \u001b[0;32m~/RAG/venv8/lib/python3.8/site-packages/requests/adapters.py:486\u001b[0m, in \u001b[0;36mHTTPAdapter.send\u001b[0;34m(self, request, stream, timeout, verify, cert, proxies)\u001b[0m\n\u001b[1;32m    483\u001b[0m     timeout \u001b[38;5;241m=\u001b[39m TimeoutSauce(connect\u001b[38;5;241m=\u001b[39mtimeout, read\u001b[38;5;241m=\u001b[39mtimeout)\n\u001b[1;32m    485\u001b[0m \u001b[38;5;28;01mtry\u001b[39;00m:\n\u001b[0;32m--> 486\u001b[0m     resp \u001b[38;5;241m=\u001b[39m \u001b[43mconn\u001b[49m\u001b[38;5;241;43m.\u001b[39;49m\u001b[43murlopen\u001b[49m\u001b[43m(\u001b[49m\n\u001b[1;32m    487\u001b[0m \u001b[43m        \u001b[49m\u001b[43mmethod\u001b[49m\u001b[38;5;241;43m=\u001b[39;49m\u001b[43mrequest\u001b[49m\u001b[38;5;241;43m.\u001b[39;49m\u001b[43mmethod\u001b[49m\u001b[43m,\u001b[49m\n\u001b[1;32m    488\u001b[0m \u001b[43m        \u001b[49m\u001b[43murl\u001b[49m\u001b[38;5;241;43m=\u001b[39;49m\u001b[43murl\u001b[49m\u001b[43m,\u001b[49m\n\u001b[1;32m    489\u001b[0m \u001b[43m        \u001b[49m\u001b[43mbody\u001b[49m\u001b[38;5;241;43m=\u001b[39;49m\u001b[43mrequest\u001b[49m\u001b[38;5;241;43m.\u001b[39;49m\u001b[43mbody\u001b[49m\u001b[43m,\u001b[49m\n\u001b[1;32m    490\u001b[0m \u001b[43m        \u001b[49m\u001b[43mheaders\u001b[49m\u001b[38;5;241;43m=\u001b[39;49m\u001b[43mrequest\u001b[49m\u001b[38;5;241;43m.\u001b[39;49m\u001b[43mheaders\u001b[49m\u001b[43m,\u001b[49m\n\u001b[1;32m    491\u001b[0m \u001b[43m        \u001b[49m\u001b[43mredirect\u001b[49m\u001b[38;5;241;43m=\u001b[39;49m\u001b[38;5;28;43;01mFalse\u001b[39;49;00m\u001b[43m,\u001b[49m\n\u001b[1;32m    492\u001b[0m \u001b[43m        \u001b[49m\u001b[43massert_same_host\u001b[49m\u001b[38;5;241;43m=\u001b[39;49m\u001b[38;5;28;43;01mFalse\u001b[39;49;00m\u001b[43m,\u001b[49m\n\u001b[1;32m    493\u001b[0m \u001b[43m        \u001b[49m\u001b[43mpreload_content\u001b[49m\u001b[38;5;241;43m=\u001b[39;49m\u001b[38;5;28;43;01mFalse\u001b[39;49;00m\u001b[43m,\u001b[49m\n\u001b[1;32m    494\u001b[0m \u001b[43m        \u001b[49m\u001b[43mdecode_content\u001b[49m\u001b[38;5;241;43m=\u001b[39;49m\u001b[38;5;28;43;01mFalse\u001b[39;49;00m\u001b[43m,\u001b[49m\n\u001b[1;32m    495\u001b[0m \u001b[43m        \u001b[49m\u001b[43mretries\u001b[49m\u001b[38;5;241;43m=\u001b[39;49m\u001b[38;5;28;43mself\u001b[39;49m\u001b[38;5;241;43m.\u001b[39;49m\u001b[43mmax_retries\u001b[49m\u001b[43m,\u001b[49m\n\u001b[1;32m    496\u001b[0m \u001b[43m        \u001b[49m\u001b[43mtimeout\u001b[49m\u001b[38;5;241;43m=\u001b[39;49m\u001b[43mtimeout\u001b[49m\u001b[43m,\u001b[49m\n\u001b[1;32m    497\u001b[0m \u001b[43m        \u001b[49m\u001b[43mchunked\u001b[49m\u001b[38;5;241;43m=\u001b[39;49m\u001b[43mchunked\u001b[49m\u001b[43m,\u001b[49m\n\u001b[1;32m    498\u001b[0m \u001b[43m    \u001b[49m\u001b[43m)\u001b[49m\n\u001b[1;32m    500\u001b[0m \u001b[38;5;28;01mexcept\u001b[39;00m (ProtocolError, \u001b[38;5;167;01mOSError\u001b[39;00m) \u001b[38;5;28;01mas\u001b[39;00m err:\n\u001b[1;32m    501\u001b[0m     \u001b[38;5;28;01mraise\u001b[39;00m \u001b[38;5;167;01mConnectionError\u001b[39;00m(err, request\u001b[38;5;241m=\u001b[39mrequest)\n",
      "File \u001b[0;32m~/RAG/venv8/lib/python3.8/site-packages/urllib3/connectionpool.py:790\u001b[0m, in \u001b[0;36mHTTPConnectionPool.urlopen\u001b[0;34m(self, method, url, body, headers, retries, redirect, assert_same_host, timeout, pool_timeout, release_conn, chunked, body_pos, preload_content, decode_content, **response_kw)\u001b[0m\n\u001b[1;32m    787\u001b[0m response_conn \u001b[38;5;241m=\u001b[39m conn \u001b[38;5;28;01mif\u001b[39;00m \u001b[38;5;129;01mnot\u001b[39;00m release_conn \u001b[38;5;28;01melse\u001b[39;00m \u001b[38;5;28;01mNone\u001b[39;00m\n\u001b[1;32m    789\u001b[0m \u001b[38;5;66;03m# Make the request on the HTTPConnection object\u001b[39;00m\n\u001b[0;32m--> 790\u001b[0m response \u001b[38;5;241m=\u001b[39m \u001b[38;5;28;43mself\u001b[39;49m\u001b[38;5;241;43m.\u001b[39;49m\u001b[43m_make_request\u001b[49m\u001b[43m(\u001b[49m\n\u001b[1;32m    791\u001b[0m \u001b[43m    \u001b[49m\u001b[43mconn\u001b[49m\u001b[43m,\u001b[49m\n\u001b[1;32m    792\u001b[0m \u001b[43m    \u001b[49m\u001b[43mmethod\u001b[49m\u001b[43m,\u001b[49m\n\u001b[1;32m    793\u001b[0m \u001b[43m    \u001b[49m\u001b[43murl\u001b[49m\u001b[43m,\u001b[49m\n\u001b[1;32m    794\u001b[0m \u001b[43m    \u001b[49m\u001b[43mtimeout\u001b[49m\u001b[38;5;241;43m=\u001b[39;49m\u001b[43mtimeout_obj\u001b[49m\u001b[43m,\u001b[49m\n\u001b[1;32m    795\u001b[0m \u001b[43m    \u001b[49m\u001b[43mbody\u001b[49m\u001b[38;5;241;43m=\u001b[39;49m\u001b[43mbody\u001b[49m\u001b[43m,\u001b[49m\n\u001b[1;32m    796\u001b[0m \u001b[43m    \u001b[49m\u001b[43mheaders\u001b[49m\u001b[38;5;241;43m=\u001b[39;49m\u001b[43mheaders\u001b[49m\u001b[43m,\u001b[49m\n\u001b[1;32m    797\u001b[0m \u001b[43m    \u001b[49m\u001b[43mchunked\u001b[49m\u001b[38;5;241;43m=\u001b[39;49m\u001b[43mchunked\u001b[49m\u001b[43m,\u001b[49m\n\u001b[1;32m    798\u001b[0m \u001b[43m    \u001b[49m\u001b[43mretries\u001b[49m\u001b[38;5;241;43m=\u001b[39;49m\u001b[43mretries\u001b[49m\u001b[43m,\u001b[49m\n\u001b[1;32m    799\u001b[0m \u001b[43m    \u001b[49m\u001b[43mresponse_conn\u001b[49m\u001b[38;5;241;43m=\u001b[39;49m\u001b[43mresponse_conn\u001b[49m\u001b[43m,\u001b[49m\n\u001b[1;32m    800\u001b[0m \u001b[43m    \u001b[49m\u001b[43mpreload_content\u001b[49m\u001b[38;5;241;43m=\u001b[39;49m\u001b[43mpreload_content\u001b[49m\u001b[43m,\u001b[49m\n\u001b[1;32m    801\u001b[0m \u001b[43m    \u001b[49m\u001b[43mdecode_content\u001b[49m\u001b[38;5;241;43m=\u001b[39;49m\u001b[43mdecode_content\u001b[49m\u001b[43m,\u001b[49m\n\u001b[1;32m    802\u001b[0m \u001b[43m    \u001b[49m\u001b[38;5;241;43m*\u001b[39;49m\u001b[38;5;241;43m*\u001b[39;49m\u001b[43mresponse_kw\u001b[49m\u001b[43m,\u001b[49m\n\u001b[1;32m    803\u001b[0m \u001b[43m\u001b[49m\u001b[43m)\u001b[49m\n\u001b[1;32m    805\u001b[0m \u001b[38;5;66;03m# Everything went great!\u001b[39;00m\n\u001b[1;32m    806\u001b[0m clean_exit \u001b[38;5;241m=\u001b[39m \u001b[38;5;28;01mTrue\u001b[39;00m\n",
      "File \u001b[0;32m~/RAG/venv8/lib/python3.8/site-packages/urllib3/connectionpool.py:536\u001b[0m, in \u001b[0;36mHTTPConnectionPool._make_request\u001b[0;34m(self, conn, method, url, body, headers, retries, timeout, chunked, response_conn, preload_content, decode_content, enforce_content_length)\u001b[0m\n\u001b[1;32m    534\u001b[0m \u001b[38;5;66;03m# Receive the response from the server\u001b[39;00m\n\u001b[1;32m    535\u001b[0m \u001b[38;5;28;01mtry\u001b[39;00m:\n\u001b[0;32m--> 536\u001b[0m     response \u001b[38;5;241m=\u001b[39m \u001b[43mconn\u001b[49m\u001b[38;5;241;43m.\u001b[39;49m\u001b[43mgetresponse\u001b[49m\u001b[43m(\u001b[49m\u001b[43m)\u001b[49m\n\u001b[1;32m    537\u001b[0m \u001b[38;5;28;01mexcept\u001b[39;00m (BaseSSLError, \u001b[38;5;167;01mOSError\u001b[39;00m) \u001b[38;5;28;01mas\u001b[39;00m e:\n\u001b[1;32m    538\u001b[0m     \u001b[38;5;28mself\u001b[39m\u001b[38;5;241m.\u001b[39m_raise_timeout(err\u001b[38;5;241m=\u001b[39me, url\u001b[38;5;241m=\u001b[39murl, timeout_value\u001b[38;5;241m=\u001b[39mread_timeout)\n",
      "File \u001b[0;32m~/RAG/venv8/lib/python3.8/site-packages/urllib3/connection.py:461\u001b[0m, in \u001b[0;36mHTTPConnection.getresponse\u001b[0;34m(self)\u001b[0m\n\u001b[1;32m    458\u001b[0m \u001b[38;5;28;01mfrom\u001b[39;00m \u001b[38;5;21;01m.\u001b[39;00m\u001b[38;5;21;01mresponse\u001b[39;00m \u001b[38;5;28;01mimport\u001b[39;00m HTTPResponse\n\u001b[1;32m    460\u001b[0m \u001b[38;5;66;03m# Get the response from http.client.HTTPConnection\u001b[39;00m\n\u001b[0;32m--> 461\u001b[0m httplib_response \u001b[38;5;241m=\u001b[39m \u001b[38;5;28;43msuper\u001b[39;49m\u001b[43m(\u001b[49m\u001b[43m)\u001b[49m\u001b[38;5;241;43m.\u001b[39;49m\u001b[43mgetresponse\u001b[49m\u001b[43m(\u001b[49m\u001b[43m)\u001b[49m\n\u001b[1;32m    463\u001b[0m \u001b[38;5;28;01mtry\u001b[39;00m:\n\u001b[1;32m    464\u001b[0m     assert_header_parsing(httplib_response\u001b[38;5;241m.\u001b[39mmsg)\n",
      "File \u001b[0;32m/usr/lib/python3.8/http/client.py:1348\u001b[0m, in \u001b[0;36mHTTPConnection.getresponse\u001b[0;34m(self)\u001b[0m\n\u001b[1;32m   1346\u001b[0m \u001b[38;5;28;01mtry\u001b[39;00m:\n\u001b[1;32m   1347\u001b[0m     \u001b[38;5;28;01mtry\u001b[39;00m:\n\u001b[0;32m-> 1348\u001b[0m         \u001b[43mresponse\u001b[49m\u001b[38;5;241;43m.\u001b[39;49m\u001b[43mbegin\u001b[49m\u001b[43m(\u001b[49m\u001b[43m)\u001b[49m\n\u001b[1;32m   1349\u001b[0m     \u001b[38;5;28;01mexcept\u001b[39;00m \u001b[38;5;167;01mConnectionError\u001b[39;00m:\n\u001b[1;32m   1350\u001b[0m         \u001b[38;5;28mself\u001b[39m\u001b[38;5;241m.\u001b[39mclose()\n",
      "File \u001b[0;32m/usr/lib/python3.8/http/client.py:316\u001b[0m, in \u001b[0;36mHTTPResponse.begin\u001b[0;34m(self)\u001b[0m\n\u001b[1;32m    314\u001b[0m \u001b[38;5;66;03m# read until we get a non-100 response\u001b[39;00m\n\u001b[1;32m    315\u001b[0m \u001b[38;5;28;01mwhile\u001b[39;00m \u001b[38;5;28;01mTrue\u001b[39;00m:\n\u001b[0;32m--> 316\u001b[0m     version, status, reason \u001b[38;5;241m=\u001b[39m \u001b[38;5;28;43mself\u001b[39;49m\u001b[38;5;241;43m.\u001b[39;49m\u001b[43m_read_status\u001b[49m\u001b[43m(\u001b[49m\u001b[43m)\u001b[49m\n\u001b[1;32m    317\u001b[0m     \u001b[38;5;28;01mif\u001b[39;00m status \u001b[38;5;241m!=\u001b[39m CONTINUE:\n\u001b[1;32m    318\u001b[0m         \u001b[38;5;28;01mbreak\u001b[39;00m\n",
      "File \u001b[0;32m/usr/lib/python3.8/http/client.py:277\u001b[0m, in \u001b[0;36mHTTPResponse._read_status\u001b[0;34m(self)\u001b[0m\n\u001b[1;32m    276\u001b[0m \u001b[38;5;28;01mdef\u001b[39;00m \u001b[38;5;21m_read_status\u001b[39m(\u001b[38;5;28mself\u001b[39m):\n\u001b[0;32m--> 277\u001b[0m     line \u001b[38;5;241m=\u001b[39m \u001b[38;5;28mstr\u001b[39m(\u001b[38;5;28;43mself\u001b[39;49m\u001b[38;5;241;43m.\u001b[39;49m\u001b[43mfp\u001b[49m\u001b[38;5;241;43m.\u001b[39;49m\u001b[43mreadline\u001b[49m\u001b[43m(\u001b[49m\u001b[43m_MAXLINE\u001b[49m\u001b[43m \u001b[49m\u001b[38;5;241;43m+\u001b[39;49m\u001b[43m \u001b[49m\u001b[38;5;241;43m1\u001b[39;49m\u001b[43m)\u001b[49m, \u001b[38;5;124m\"\u001b[39m\u001b[38;5;124miso-8859-1\u001b[39m\u001b[38;5;124m\"\u001b[39m)\n\u001b[1;32m    278\u001b[0m     \u001b[38;5;28;01mif\u001b[39;00m \u001b[38;5;28mlen\u001b[39m(line) \u001b[38;5;241m>\u001b[39m _MAXLINE:\n\u001b[1;32m    279\u001b[0m         \u001b[38;5;28;01mraise\u001b[39;00m LineTooLong(\u001b[38;5;124m\"\u001b[39m\u001b[38;5;124mstatus line\u001b[39m\u001b[38;5;124m\"\u001b[39m)\n",
      "File \u001b[0;32m/usr/lib/python3.8/socket.py:669\u001b[0m, in \u001b[0;36mSocketIO.readinto\u001b[0;34m(self, b)\u001b[0m\n\u001b[1;32m    667\u001b[0m \u001b[38;5;28;01mwhile\u001b[39;00m \u001b[38;5;28;01mTrue\u001b[39;00m:\n\u001b[1;32m    668\u001b[0m     \u001b[38;5;28;01mtry\u001b[39;00m:\n\u001b[0;32m--> 669\u001b[0m         \u001b[38;5;28;01mreturn\u001b[39;00m \u001b[38;5;28;43mself\u001b[39;49m\u001b[38;5;241;43m.\u001b[39;49m\u001b[43m_sock\u001b[49m\u001b[38;5;241;43m.\u001b[39;49m\u001b[43mrecv_into\u001b[49m\u001b[43m(\u001b[49m\u001b[43mb\u001b[49m\u001b[43m)\u001b[49m\n\u001b[1;32m    670\u001b[0m     \u001b[38;5;28;01mexcept\u001b[39;00m timeout:\n\u001b[1;32m    671\u001b[0m         \u001b[38;5;28mself\u001b[39m\u001b[38;5;241m.\u001b[39m_timeout_occurred \u001b[38;5;241m=\u001b[39m \u001b[38;5;28;01mTrue\u001b[39;00m\n",
      "File \u001b[0;32m/usr/lib/python3.8/ssl.py:1270\u001b[0m, in \u001b[0;36mSSLSocket.recv_into\u001b[0;34m(self, buffer, nbytes, flags)\u001b[0m\n\u001b[1;32m   1266\u001b[0m     \u001b[38;5;28;01mif\u001b[39;00m flags \u001b[38;5;241m!=\u001b[39m \u001b[38;5;241m0\u001b[39m:\n\u001b[1;32m   1267\u001b[0m         \u001b[38;5;28;01mraise\u001b[39;00m \u001b[38;5;167;01mValueError\u001b[39;00m(\n\u001b[1;32m   1268\u001b[0m           \u001b[38;5;124m\"\u001b[39m\u001b[38;5;124mnon-zero flags not allowed in calls to recv_into() on \u001b[39m\u001b[38;5;132;01m%s\u001b[39;00m\u001b[38;5;124m\"\u001b[39m \u001b[38;5;241m%\u001b[39m\n\u001b[1;32m   1269\u001b[0m           \u001b[38;5;28mself\u001b[39m\u001b[38;5;241m.\u001b[39m\u001b[38;5;18m__class__\u001b[39m)\n\u001b[0;32m-> 1270\u001b[0m     \u001b[38;5;28;01mreturn\u001b[39;00m \u001b[38;5;28;43mself\u001b[39;49m\u001b[38;5;241;43m.\u001b[39;49m\u001b[43mread\u001b[49m\u001b[43m(\u001b[49m\u001b[43mnbytes\u001b[49m\u001b[43m,\u001b[49m\u001b[43m \u001b[49m\u001b[43mbuffer\u001b[49m\u001b[43m)\u001b[49m\n\u001b[1;32m   1271\u001b[0m \u001b[38;5;28;01melse\u001b[39;00m:\n\u001b[1;32m   1272\u001b[0m     \u001b[38;5;28;01mreturn\u001b[39;00m \u001b[38;5;28msuper\u001b[39m()\u001b[38;5;241m.\u001b[39mrecv_into(buffer, nbytes, flags)\n",
      "File \u001b[0;32m/usr/lib/python3.8/ssl.py:1128\u001b[0m, in \u001b[0;36mSSLSocket.read\u001b[0;34m(self, len, buffer)\u001b[0m\n\u001b[1;32m   1126\u001b[0m \u001b[38;5;28;01mtry\u001b[39;00m:\n\u001b[1;32m   1127\u001b[0m     \u001b[38;5;28;01mif\u001b[39;00m buffer \u001b[38;5;129;01mis\u001b[39;00m \u001b[38;5;129;01mnot\u001b[39;00m \u001b[38;5;28;01mNone\u001b[39;00m:\n\u001b[0;32m-> 1128\u001b[0m         \u001b[38;5;28;01mreturn\u001b[39;00m \u001b[38;5;28;43mself\u001b[39;49m\u001b[38;5;241;43m.\u001b[39;49m\u001b[43m_sslobj\u001b[49m\u001b[38;5;241;43m.\u001b[39;49m\u001b[43mread\u001b[49m\u001b[43m(\u001b[49m\u001b[38;5;28;43mlen\u001b[39;49m\u001b[43m,\u001b[49m\u001b[43m \u001b[49m\u001b[43mbuffer\u001b[49m\u001b[43m)\u001b[49m\n\u001b[1;32m   1129\u001b[0m     \u001b[38;5;28;01melse\u001b[39;00m:\n\u001b[1;32m   1130\u001b[0m         \u001b[38;5;28;01mreturn\u001b[39;00m \u001b[38;5;28mself\u001b[39m\u001b[38;5;241m.\u001b[39m_sslobj\u001b[38;5;241m.\u001b[39mread(\u001b[38;5;28mlen\u001b[39m)\n",
      "\u001b[0;31mKeyboardInterrupt\u001b[0m: "
     ]
    }
   ],
   "source": [
    "import uuid\n",
    "\n",
    "dataset_name = f\"Retrieval QA Questions {str(uuid.uuid4())}\"\n",
    "dataset = client.create_dataset(dataset_name=dataset_name)\n",
    "for q, a in qa_list:\n",
    "    client.create_example(\n",
    "        inputs={\"question\": q}, outputs={\"answer\": a}, dataset_id = dataset.id\n",
    "    )"
   ]
  },
  {
   "cell_type": "code",
   "execution_count": null,
   "id": "f13db444",
   "metadata": {},
   "outputs": [],
   "source": [
    "print(qa_list)"
   ]
  },
  {
   "cell_type": "code",
   "execution_count": null,
   "id": "52927791",
   "metadata": {},
   "outputs": [],
   "source": [
    "from langchain.smith import RunEvalConfig\n",
    "from langchain.evaluation import EvaluatorType\n",
    "\n",
    "eval_config = RunEvalConfig(\n",
    "    evaluators=[\n",
    "        RunEvalConfig.LabeledCriteria(\"relevance\"),\n",
    "        RunEvalConfig.LabeledCriteria(\"coherence\"), \n",
    "        \"cot_qa\"\n",
    "        ],\n",
    "    eval_llm = ChatOllama(model=\"llama2\"),\n",
    ")"
   ]
  },
  {
   "cell_type": "code",
   "execution_count": null,
   "id": "10def9d9",
   "metadata": {},
   "outputs": [],
   "source": [
    "gen_ans = []\n",
    "questions = []"
   ]
  },
  {
   "cell_type": "code",
   "execution_count": null,
   "id": "be846c5f",
   "metadata": {},
   "outputs": [],
   "source": [
    "def predict(inputs: dict):\n",
    "    gen_an = chain.invoke(inputs[\"question\"])\n",
    "    questions.append(inputs[\"question\"])\n",
    "    gen_ans.append(gen_an)\n",
    "    return gen_an"
   ]
  },
  {
   "cell_type": "code",
   "execution_count": null,
   "id": "4cdd0989",
   "metadata": {},
   "outputs": [],
   "source": [
    "print(gen_ans)"
   ]
  },
  {
   "cell_type": "code",
   "execution_count": null,
   "id": "180a1579",
   "metadata": {},
   "outputs": [],
   "source": [
    "_ = await client.arun_on_dataset(\n",
    "    dataset_name=dataset_name,\n",
    "    llm_or_chain_factory= predict, #lambda: chain,\n",
    "    evaluation=eval_config,\n",
    ")"
   ]
  },
  {
   "cell_type": "markdown",
   "id": "07fc0087",
   "metadata": {},
   "source": [
    "\n",
    "__________________"
   ]
  },
  {
   "cell_type": "code",
   "execution_count": null,
   "id": "cef693e9",
   "metadata": {},
   "outputs": [],
   "source": [
    "print(len(gen_ans))"
   ]
  },
  {
   "cell_type": "code",
   "execution_count": null,
   "id": "37d5237c",
   "metadata": {},
   "outputs": [],
   "source": [
    "print(len(questions))"
   ]
  },
  {
   "cell_type": "code",
   "execution_count": null,
   "id": "d6e4019c",
   "metadata": {},
   "outputs": [],
   "source": [
    "questions"
   ]
  },
  {
   "cell_type": "code",
   "execution_count": null,
   "id": "706d9f5c",
   "metadata": {},
   "outputs": [],
   "source": [
    "filtered_df = df[df['question'].isin(questions)]\n",
    "\n",
    "# Reorder the rows based on the order of questions in 'qs'\n",
    "ordered_df = filtered_df.set_index('question').reindex(questions).reset_index()\n",
    "\n",
    "ordered_df"
   ]
  },
  {
   "cell_type": "code",
   "execution_count": null,
   "id": "4c4aea8b",
   "metadata": {},
   "outputs": [],
   "source": [
    "ground_truth = ordered_df['ground_truth'].tolist()\n",
    "ground_truths = [[value] for value in ground_truth]\n",
    "print(ground_truths)"
   ]
  },
  {
   "cell_type": "code",
   "execution_count": null,
   "id": "c53ddb3e",
   "metadata": {},
   "outputs": [],
   "source": [
    "from bert_score import score\n",
    "\n",
    "# Example texts\n",
    "generated = gen_ans\n",
    "\n",
    "# Calculate BERTScore\n",
    "P, R, F1 = score(generated, ground_truths, lang='en', verbose=True)\n",
    "\n",
    "# Print scores\n",
    "print(f\"Precision: {P.mean()}\")\n",
    "print(f\"Recall: {R.mean()}\")\n",
    "print(f\"F1 Score: {F1.mean()}\")"
   ]
  }
 ],
 "metadata": {
  "jupytext": {
   "cell_metadata_filter": "-all",
   "main_language": "python",
   "notebook_metadata_filter": "-all"
  },
  "kernelspec": {
   "display_name": "venv8",
   "language": "python",
   "name": "python3"
  },
  "language_info": {
   "codemirror_mode": {
    "name": "ipython",
    "version": 3
   },
   "file_extension": ".py",
   "mimetype": "text/x-python",
   "name": "python",
   "nbconvert_exporter": "python",
   "pygments_lexer": "ipython3",
   "version": "3.8.10"
  }
 },
 "nbformat": 4,
 "nbformat_minor": 5
}
