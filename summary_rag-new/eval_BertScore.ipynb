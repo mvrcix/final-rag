{
 "cells": [
  {
   "cell_type": "code",
   "execution_count": 1,
   "id": "c99c9adc",
   "metadata": {},
   "outputs": [
    {
     "name": "stderr",
     "output_type": "stream",
     "text": [
      "/home/vqa/RAG/venv8/lib/python3.8/site-packages/deeplake/util/check_latest_version.py:32: UserWarning: A newer version of deeplake (3.9.4) is available. It's recommended that you update to the latest version using `pip install -U deeplake`.\n",
      "  warnings.warn(\n"
     ]
    }
   ],
   "source": [
    "import uuid\n",
    "import os\n",
    "import json\n",
    "from langchain.retrievers.multi_vector import MultiVectorRetriever\n",
    "from langchain.storage import InMemoryStore\n",
    "from langchain_community.vectorstores import Chroma\n",
    "from langchain_community.embeddings import HuggingFaceEmbeddings\n",
    "from langchain.schema.document import Document\n",
    "from datasets import Dataset\n",
    "from langchain_community.llms import Ollama\n",
    "from langchain.llms import Ollama\n",
    "import sys"
   ]
  },
  {
   "cell_type": "code",
   "execution_count": 2,
   "id": "81d1aff4",
   "metadata": {},
   "outputs": [],
   "source": [
    "__import__('pysqlite3')\n",
    "sys.modules['sqlite3'] = sys.modules.pop('pysqlite3')"
   ]
  },
  {
   "cell_type": "code",
   "execution_count": 3,
   "id": "49bb73dc",
   "metadata": {},
   "outputs": [],
   "source": [
    "def read_txtelements(output_folder, filename, delimiter):\n",
    "    with open(os.path.join(output_folder, filename), \"r\") as f:\n",
    "        return [s.strip() for s in f.read().split(delimiter) if s.strip()]\n",
    "\n",
    "def read_jsonelements(output_folder, filename):\n",
    "    with open(os.path.join(output_folder, filename), \"r\") as json_file:\n",
    "        return json.load(json_file)"
   ]
  },
  {
   "cell_type": "code",
   "execution_count": 4,
   "id": "f90775eb",
   "metadata": {},
   "outputs": [],
   "source": [
    "def add_data(image_text_summaries, image_text_elements, image_summaries, retriever):\n",
    "    # Add texts\n",
    "    # if text_summaries:\n",
    "    #     doc_ids = [str(uuid.uuid4()) for _ in text_elements]\n",
    "    #     summary_texts = [\n",
    "    #         Document(page_content=s, metadata={id_key: doc_ids[i]})\n",
    "    #         for i, s in enumerate(text_summaries)]\n",
    "    #     retriever.vectorstore.add_documents(summary_texts)\n",
    "    #     retriever.docstore.mset(list(zip(doc_ids, text_elements)))\n",
    "\n",
    "    # Add image texts\n",
    "    if image_text_summaries:\n",
    "        doc_ids = [str(uuid.uuid4()) for _ in image_text_elements]\n",
    "        summary_texts = [\n",
    "            Document(page_content=s, metadata={id_key: doc_ids[i]})\n",
    "            for i, s in enumerate(image_text_summaries)]\n",
    "        retriever.vectorstore.add_documents(summary_texts)\n",
    "        retriever.docstore.mset(list(zip(doc_ids, image_text_elements)))\n",
    "\n",
    "    # Add tables\n",
    "    # if table_summaries:\n",
    "    #     table_ids = [str(uuid.uuid4()) for _ in table_elements]\n",
    "    #     summary_tables = [\n",
    "    #         Document(page_content=s, metadata={id_key: table_ids[i]})\n",
    "    #         for i, s in enumerate(table_summaries)]\n",
    "    #     retriever.vectorstore.add_documents(summary_tables)\n",
    "    #     retriever.docstore.mset(list(zip(table_ids, table_elements)))\n",
    "\n",
    "    # Add images\n",
    "    if image_summaries:\n",
    "        img_ids = [str(uuid.uuid4()) for _ in image_summaries]\n",
    "        summary_img = [\n",
    "            Document(page_content=s, metadata={id_key: img_ids[i]})\n",
    "            for i, s in enumerate(image_summaries)]\n",
    "        retriever.vectorstore.add_documents(summary_img)\n",
    "        retriever.docstore.mset(list(zip(img_ids, image_summaries)))  \n",
    "    return retriever"
   ]
  },
  {
   "cell_type": "code",
   "execution_count": 5,
   "id": "a00c3dd6",
   "metadata": {},
   "outputs": [],
   "source": [
    "def process_subfolder(subfolder_path, retriever):\n",
    "    print(f\"Processing subfolder: {subfolder_path}\")\n",
    "    delimiter = \"~~~\"\n",
    "    # text_elements = read_elements(output_folder, \"text_elements.txt\")\n",
    "    # table_elements = read_elements(output_folder, \"table_elements.txt\")\n",
    "    # text_summaries = read_elements(output_folder, \"text_summaries.txt\", delimiter)\n",
    "    # table_summaries = read_elements(output_folder, \"table_summaries.txt\", delimiter)\n",
    "    image_text_elements = read_jsonelements(subfolder_path, \"imagestexts.json\")\n",
    "    image_text_elements = [i['text'] for i in image_text_elements]\n",
    "    image_text_summaries = read_txtelements(subfolder_path, \"imagestexts_summary.txt\", delimiter)\n",
    "    image_summaries = read_txtelements(subfolder_path, \"image_summaries.txt\", delimiter)\n",
    "\n",
    "    retriever = add_data(image_text_summaries, image_text_elements, image_summaries, retriever)\n",
    "    return retriever"
   ]
  },
  {
   "cell_type": "code",
   "execution_count": 6,
   "id": "1b0e7cd2",
   "metadata": {},
   "outputs": [],
   "source": [
    "vectorstore = Chroma(collection_name=\"summaries\", embedding_function = HuggingFaceEmbeddings(model_name=\"sentence-transformers/all-MiniLM-L6-v2\"))\n",
    "store = InMemoryStore()  \n",
    "id_key = \"doc_id\"\n",
    "retriever = MultiVectorRetriever(vectorstore=vectorstore, docstore=store, id_key=id_key,)\n"
   ]
  },
  {
   "cell_type": "code",
   "execution_count": 7,
   "id": "5eec9a45",
   "metadata": {},
   "outputs": [],
   "source": [
    "output_folder = \"/home/vqa/RAG/10_manuals_256_summaries\""
   ]
  },
  {
   "cell_type": "code",
   "execution_count": 8,
   "id": "e4b283e0",
   "metadata": {},
   "outputs": [
    {
     "name": "stdout",
     "output_type": "stream",
     "text": [
      "Processing subfolder: /home/vqa/RAG/10_manuals_256_summaries/samsung_cell phone accessories manuals_de30be54-38b5-46f4-8dc4-a2376a6e571d_extracted\n",
      "Processing subfolder: /home/vqa/RAG/10_manuals_256_summaries/bose_headphones manuals_9917ef89-897c-6524-2502-2b0a91ec7d62_extracted\n",
      "Processing subfolder: /home/vqa/RAG/10_manuals_256_summaries/owg_en_wms_soundlink_adapterkit_extracted\n",
      "Processing subfolder: /home/vqa/RAG/10_manuals_256_summaries/bose_headphones_manuals_6d12e20d-cf8d-4337-b073-53d7e85e4163_extracted\n",
      "Processing subfolder: /home/vqa/RAG/10_manuals_256_summaries/samsung_video gaming accessories manuals_f0ee75e7-18ff-4260-ac5c-3db2ec0f8fd4_extracted\n",
      "Processing subfolder: /home/vqa/RAG/10_manuals_256_summaries/sony_laptop_manuals_a02cf092-3538-4646-ab93-8cae84a07ad2_extracted\n",
      "Processing subfolder: /home/vqa/RAG/10_manuals_256_summaries/og_wave-bma_en_extracted\n",
      "Processing subfolder: /home/vqa/RAG/10_manuals_256_summaries/samsung_audio_box_eo-sb330_um_sea_rev.1.0_140728_screen_extracted\n",
      "Processing subfolder: /home/vqa/RAG/10_manuals_256_summaries/dell_cell phone manuals_4686e2e1-87a4-4f6a-bf20-61c646c11bb9_extracted\n",
      "Processing subfolder: /home/vqa/RAG/10_manuals_256_summaries/samsung_vacuum cleaner manuals_8cb9360e-cafe-4c53-9d35-ef193667e586_extracted\n"
     ]
    }
   ],
   "source": [
    "for item in os.listdir(output_folder):\n",
    "    item_path = os.path.join(output_folder, item)\n",
    "    if os.path.isdir(item_path):\n",
    "        # Now item_path is a subdirectory within output_folder\n",
    "        # For each subdirectory, perform the operations you need\n",
    "        process_subfolder(item_path, retriever)"
   ]
  },
  {
   "cell_type": "code",
   "execution_count": 9,
   "id": "58b94ad8",
   "metadata": {},
   "outputs": [],
   "source": [
    "from langchain_core.runnables import RunnablePassthrough\n",
    "from langchain_core.output_parsers import StrOutputParser\n",
    "from langchain_core.prompts import PromptTemplate\n",
    "from langchain_community.embeddings import HuggingFaceEmbeddings\n",
    "from langchain_community.chat_models import ChatOllama\n",
    "from langchain_core.prompts import ChatPromptTemplate"
   ]
  },
  {
   "cell_type": "code",
   "execution_count": 10,
   "id": "72f4b989",
   "metadata": {},
   "outputs": [],
   "source": [
    "# Prompt template\n",
    "template = \"\"\"Answer the question based only on the following context, which can include text and tables:\n",
    "{context}\n",
    "Question: {question}\n",
    "Answer:\n",
    "\"\"\""
   ]
  },
  {
   "cell_type": "code",
   "execution_count": 11,
   "id": "ca1291df",
   "metadata": {},
   "outputs": [],
   "source": [
    "# prompt = PromptTemplate.from_template(template)\n",
    "prompt = ChatPromptTemplate.from_template(template)"
   ]
  },
  {
   "cell_type": "code",
   "execution_count": 12,
   "id": "d14e49ef",
   "metadata": {},
   "outputs": [],
   "source": [
    "model = Ollama(model=\"llama2:7b-chat\")\n",
    "# model = Ollama(model=\"llama2\", verbose=True)"
   ]
  },
  {
   "cell_type": "code",
   "execution_count": 13,
   "id": "6019dc4a",
   "metadata": {},
   "outputs": [],
   "source": [
    "# RAG pipeline\n",
    "chain = (\n",
    "    {\"context\": retriever, \"question\": RunnablePassthrough()}\n",
    "    | prompt\n",
    "    | model\n",
    "    | StrOutputParser())"
   ]
  },
  {
   "cell_type": "code",
   "execution_count": 14,
   "id": "0cf9f98d",
   "metadata": {},
   "outputs": [
    {
     "name": "stdout",
     "output_type": "stream",
     "text": [
      "After removing a screw, you should ensure that the component or part being secured by the screw is properly secured and stable before proceeding with any further steps. This may involve tightening other screws or bolts to maintain the stability of the component, or it may involve replacing the removed screw with a new one to secure the component in place. It is important to follow proper safety protocols when working with mechanical components and to consult a professional if you are unsure about how to properly secure a component after removing a screw.\n"
     ]
    }
   ],
   "source": [
    "question = \"What should I do after removing a screw?\"\n",
    "\n",
    "\n",
    "\n",
    "answer = chain.invoke(question)\n",
    "print(answer)\n"
   ]
  },
  {
   "cell_type": "code",
   "execution_count": 15,
   "id": "1ca93b0e",
   "metadata": {},
   "outputs": [],
   "source": [
    "from datasets import Dataset\n",
    "import pandas as pd\n",
    "import json\n",
    "from tabulate import tabulate"
   ]
  },
  {
   "cell_type": "markdown",
   "id": "afb54545",
   "metadata": {},
   "source": [
    "EVALUATION"
   ]
  },
  {
   "cell_type": "code",
   "execution_count": 16,
   "id": "01d4eee5",
   "metadata": {},
   "outputs": [
    {
     "name": "stdout",
     "output_type": "stream",
     "text": [
      "+-----+-------------------------------------------------------------------------------+---------------------------------------------------------------------------------------------------------------------------------+-------------------------------------------------------------------------------------------------------------------------------------------------------------------------------------------------------------------------------------------------------------------------------------------------+\n",
      "|     | id                                                                            | question                                                                                                                        | ground_truth                                                                                                                                                                                                                                                                                    |\n",
      "|-----+-------------------------------------------------------------------------------+---------------------------------------------------------------------------------------------------------------------------------+-------------------------------------------------------------------------------------------------------------------------------------------------------------------------------------------------------------------------------------------------------------------------------------------------|\n",
      "|   0 | bose_headphones manuals_9917ef89-897c-6524-2502-2b0a91ec7d62                  | Where can I know the complete Declaration of Conformity?                                                                        | You can search the website at www.Bose.com/compliance.                                                                                                                                                                                                                                          |\n",
      "|   1 | bose_headphones manuals_9917ef89-897c-6524-2502-2b0a91ec7d62                  | What does my Bose mobile on-ear headset include?                                                                                | It includes on-ear headphones, a headphone cord with an inline microphone, four 3.5mm to 2.5mm mobile phone adapters, and a carrying case.                                                                                                                                                      |\n",
      "|   2 | bose_headphones manuals_9917ef89-897c-6524-2502-2b0a91ec7d62                  | How many types of adapters are there for mobile phones?                                                                         | Each adapter has a symbol of a circle, triangle, diamond, or square.                                                                                                                                                                                                                            |\n",
      "|   3 | bose_headphones manuals_9917ef89-897c-6524-2502-2b0a91ec7d62                  | If my phone needs to use an adapter to connect the headset. What should I do?                                                   | You should find the appropriate adapter and connect the headphone cord plug to the adapter. Then you should connect the adapter to your phone.                                                                                                                                                  |\n",
      "|   4 | bose_headphones manuals_9917ef89-897c-6524-2502-2b0a91ec7d62                  | How can I put the headset in the case?                                                                                          | You can rotate the earcups until the cushions face you, lay the headset down in front of you, and pivot the earcups into the headband and place the headset in the case.                                                                                                                        |\n",
      "|   5 | bose_headphones manuals_9917ef89-897c-6524-2502-2b0a91ec7d62                  | How can I take the headset out of the case?                                                                                     | You can lift the headset out of the case and pivot the earcups out of the headband, hold the headset with the headband up, and rotate the earcups until the cushions face teacher other.                                                                                                        |\n",
      "|   6 | bose_headphones manuals_9917ef89-897c-6524-2502-2b0a91ec7d62                  | How can I clean the headset?                                                                                                    | You need to be sure the earcup ports are kept clear and that no moisture is allowed to get inside the earcup.                                                                                                                                                                                   |\n",
      "|   7 | bose_headphones manuals_9917ef89-897c-6524-2502-2b0a91ec7d62                  | What should I make sure of when reattaching earcup cushions?                                                                    | You can make sure the cushion is flush all the way around and that there are no gaps between the cushion and the earcup.                                                                                                                                                                        |\n",
      "|   8 | bose_headphones manuals_9917ef89-897c-6524-2502-2b0a91ec7d62                  | What can I do if I still need help?                                                                                             | You can call for assistance if I still need help.                                                                                                                                                                                                                                               |\n",
      "|   9 | bose_headphones manuals_9917ef89-897c-6524-2502-2b0a91ec7d62                  | What is the official website of Bose in Japan?                                                                                  | The official website of Bose in Japan is www.BoseIndia.jp.                                                                                                                                                                                                                                      |\n",
      "|  10 | bose_headphones manuals_9917ef89-897c-6524-2502-2b0a91ec7d62                  | What is the official website of Bose in the United Kingdom?                                                                     | The official website of Bose in Nederland is www.Bose.co.uk.                                                                                                                                                                                                                                    |\n",
      "|  11 | bose_headphones_manuals_6d12e20d-cf8d-4337-b073-53d7e85e4163                  | Can I use headphones when operating a motor vehicle?                                                                            | No, you can not use headphones when operating a motor vehicle or anywhere the  inability to hear outside sounds may present a danger to you or others.                                                                                                                                          |\n",
      "|  12 | bose_headphones_manuals_6d12e20d-cf8d-4337-b073-53d7e85e4163                  | What does the Bose OE2 audio headphone include?                                                                                 | It includes six components which are R and L mark, replaceable ear cup cushion, adjustable headband, audio cable and carry case.                                                                                                                                                                |\n",
      "|  13 | bose_headphones_manuals_6d12e20d-cf8d-4337-b073-53d7e85e4163                  | Can I exceed or rotate the earcups?                                                                                             | You can not try to exceed the limits of the pivots or over-rotate the  earcups.                                                                                                                                                                                                                 |\n",
      "|  14 | bose_headphones_manuals_6d12e20d-cf8d-4337-b073-53d7e85e4163                  | Where can I find replacement parts and accessories?                                                                             | You can find them in Bose Customer Service. See the contact information for your area  included in this guide.                                                                                                                                                                                  |\n",
      "|  15 | bose_headphones_manuals_6d12e20d-cf8d-4337-b073-53d7e85e4163                  | What should I do if any problems persists?                                                                                      | You should contact Bose Customer Service and see the  phone number for your area, included in this guide.                                                                                                                                                                                       |\n",
      "|  16 | bose_headphones_manuals_6d12e20d-cf8d-4337-b073-53d7e85e4163                  | What are the steps to reattach earcup cushion?                                                                                  | 1. Place the edge of the earcup cushion skirt into the slot behind  the earcup flange.                                                                                                                                                                                                          |\n",
      "|     |                                                                               |                                                                                                                                 | 2. Work the remainder of the skirt into the slot all the way around  the earcup.                                                                                                                                                                                                                |\n",
      "|  17 | bose_headphones_manuals_6d12e20d-cf8d-4337-b073-53d7e85e4163                  | How to obtain Limited Warranty Service?                                                                                         | 1. Contact the Bose organization in your country or region.                                                                                                                                                                                                                                     |\n",
      "|     |                                                                               |                                                                                                                                 | 2. Label and ship the product to the address  provided by the Bose organization in your country.                                                                                                                                                                                                |\n",
      "|     |                                                                               |                                                                                                                                 | 3. Place any necessary return authorization number prominently  on the outside of the carton.                                                                                                                                                                                                   |\n",
      "|  18 | bose_headphones_manuals_6d12e20d-cf8d-4337-b073-53d7e85e4163                  | What do you think of the hazardous standard of plastic parts?                                                                   | The plastic parts which contained in all of the homogeneous materials is below the limit requirement.                                                                                                                                                                                           |\n",
      "|  19 | bose_headphones_manuals_6d12e20d-cf8d-4337-b073-53d7e85e4163                  | What is the telephone number of the Bose corporation in Denmark?                                                                | The telephone number of the Bose corporation in Denmark is 4343 7777.                                                                                                                                                                                                                           |\n",
      "|  20 | bose_headphones_manuals_6d12e20d-cf8d-4337-b073-53d7e85e4163                  | What is the website of Bose in Hong Kong?                                                                                       | The website of Bose in Hong Kong is support_hk@Bose.com.                                                                                                                                                                                                                                        |\n",
      "|  21 | dell_cell phone manuals_4686e2e1-87a4-4f6a-bf20-61c646c11bb9                  | What does a WARNING indicate?                                                                                                   | It shows potential for property damage, personal injury, or death.                                                                                                                                                                                                                              |\n",
      "|  22 | dell_cell phone manuals_4686e2e1-87a4-4f6a-bf20-61c646c11bb9                  | Does every order include a Mini-USB to 3.5 mm audio adapter?                                                                    | It depends on the choice you made during the purchase.                                                                                                                                                                                                                                          |\n",
      "|  23 | dell_cell phone manuals_4686e2e1-87a4-4f6a-bf20-61c646c11bb9                  | What should I do before using the smartphone?                                                                                   | You have to install the battery, and SIM card, and charge the battery.                                                                                                                                                                                                                          |\n",
      "|  24 | dell_cell phone manuals_4686e2e1-87a4-4f6a-bf20-61c646c11bb9                  | What should I do to make sure of proper installation?                                                                           | You have to align the cut corners in the card and the SIM card slot.                                                                                                                                                                                                                            |\n",
      "|  25 | dell_cell phone manuals_4686e2e1-87a4-4f6a-bf20-61c646c11bb9                  | How can I charge the battery?                                                                                                   | First, please use the Mini-USB to USB cable, plug the power adapter into a power outlet, and then into your phone. Next, you have to charge the phone for at least 12 hours.                                                                                                                    |\n",
      "|  26 | dell_cell phone manuals_4686e2e1-87a4-4f6a-bf20-61c646c11bb9                  | How can I turn on the phone?                                                                                                    | Please push and hold the power button for two seconds.                                                                                                                                                                                                                                          |\n",
      "|  27 | dell_cell phone manuals_4686e2e1-87a4-4f6a-bf20-61c646c11bb9                  | Can you tell me the use of the camera flash?                                                                                    | It is used to take photos in dim lights.                                                                                                                                                                                                                                                        |\n",
      "|  28 | dell_cell phone manuals_4686e2e1-87a4-4f6a-bf20-61c646c11bb9                  | What is the function of the Home button?                                                                                        | When you press the button shortly, it can navigate back one screen at a time. And when you press and hold it, you can return to the Home screen.                                                                                                                                                |\n",
      "|  29 | dell_cell phone manuals_4686e2e1-87a4-4f6a-bf20-61c646c11bb9                  | What is the function of the Camera button?                                                                                      | You can press it to activate the camera and you can take photos or capture videos.                                                                                                                                                                                                              |\n",
      "|  30 | dell_cell phone manuals_4686e2e1-87a4-4f6a-bf20-61c646c11bb9                  | How to switch between the screens?                                                                                              | You have to swipe your finger or the optional stylus across the screen from left to right, or right to left.                                                                                                                                                                                    |\n",
      "|  31 | dell_cell phone manuals_4686e2e1-87a4-4f6a-bf20-61c646c11bb9                  | What is the function of the icons?                                                                                              | It indicates the new message, upcoming calendar event, alarm, or other information important to you.                                                                                                                                                                                            |\n",
      "|  32 | dell_cell phone manuals_4686e2e1-87a4-4f6a-bf20-61c646c11bb9                  | How can I know whether my Bluetooth is connected?                                                                               | If the Bluetooth button turns blue, it means that your Bluetooth is connected.                                                                                                                                                                                                                  |\n",
      "|  33 | dell_cell phone manuals_4686e2e1-87a4-4f6a-bf20-61c646c11bb9                  | How can I enter a number?                                                                                                       | Please tap the on-screen dial pad.                                                                                                                                                                                                                                                              |\n",
      "|  34 | dell_cell phone manuals_4686e2e1-87a4-4f6a-bf20-61c646c11bb9                  | I want to change the message service settings, what should I do?                                                                | You can press More on the short menu to change the message service settings.                                                                                                                                                                                                                    |\n",
      "|  35 | dell_cell phone manuals_4686e2e1-87a4-4f6a-bf20-61c646c11bb9                  | How to use the Internet Browser?                                                                                                | First, you may tap the Browser icon to open the Internet Browser and press the Options button and select Go. Then, you can enter either a search phrase to search for the sites online.                                                                                                         |\n",
      "|  36 | dell_cell phone manuals_4686e2e1-87a4-4f6a-bf20-61c646c11bb9                  | How to take a photo?                                                                                                            | First, you may tap the Camera icon or press the camera button. Then, please select either still image or video mode. Next, you should tap the screen or press the camera button to take a picture.                                                                                              |\n",
      "|  37 | dell_cell phone manuals_4686e2e1-87a4-4f6a-bf20-61c646c11bb9                  | How can I delete an icon?                                                                                                       | You may press and hold the icon, and follow the instructions on the screen.                                                                                                                                                                                                                     |\n",
      "|  38 | dell_cell phone manuals_4686e2e1-87a4-4f6a-bf20-61c646c11bb9                  | What is the function of the microfiber pouch?                                                                                   | It allows you to store the phone for protection when you don't use it, and to clean the screen as needed.                                                                                                                                                                                       |\n",
      "|  39 | og_wave-bma_en                                                                | I want to use this product outdoors. Is that OK?                                                                                | No, it is designed for indoor use only.                                                                                                                                                                                                                                                         |\n",
      "|  40 | og_wave-bma_en                                                                | How can I know whether this equipment causes interference to television reception or not?                                       | You can test it by turning the equipment off and on.                                                                                                                                                                                                                                            |\n",
      "|  41 | og_wave-bma_en                                                                | Where can I see the additional instructions?                                                                                    | You can see the additional instructions on the Important Safety Instructions sheet (North America only) enclosed in the shipping carton.                                                                                                                                                        |\n",
      "|  42 | og_wave-bma_en                                                                | Is there any interference between the adapter and the system?                                                                   | Yes, you need to make sure that they are 5 cm apart to avoid interference.                                                                                                                                                                                                                      |\n",
      "|  43 | og_wave-bma_en                                                                | What is the entry code?                                                                                                         | You can enter <0000>.                                                                                                                                                                                                                                                                           |\n",
      "|  44 | og_wave-bma_en                                                                | What should I do if I cannot hear music after pairing?                                                                          | You can quit and restart your music app.                                                                                                                                                                                                                                                        |\n",
      "|  45 | og_wave-bma_en                                                                | How long should I press the Presets 6 button?                                                                                   | You should press and hold the button on the remote for 10 seconds until a tone is heard.                                                                                                                                                                                                        |\n",
      "|  46 | og_wave-bma_en                                                                | What is the function of the button Mute?                                                                                        | If you press Mute for one time, it can mute the audio. And you can press again to restore audio.                                                                                                                                                                                                |\n",
      "|  47 | og_wave-bma_en                                                                | What should I do if I want to turn up the volume?                                                                               | You can turn up the volume by pressing the up arrow under the Volume button.                                                                                                                                                                                                                    |\n",
      "|  48 | og_wave-bma_en                                                                | There is no sound when the Bluetooth enabled device plays music, what can I do?                                                 | You should check whether:                                                                                                                                                                                                                                                                       |\n",
      "|     |                                                                               |                                                                                                                                 | 1 \"Bose Adapter\" is selected in the Bluetooth dedvice list                                                                                                                                                                                                                                      |\n",
      "|     |                                                                               |                                                                                                                                 | 2 Wave system volume, the volume on your Bluetooth,your music application and is turned up and not muted                                                                                                                                                                                        |\n",
      "|     |                                                                               |                                                                                                                                 | After doing so, if there is still no sound,you can restart the music application on your Bluetooth and restart your Bluetooth enabled device.                                                                                                                                                   |\n",
      "|  49 | og_wave-bma_en                                                                | I accendantally drop water on it and I think it's damage, call I botain warranty service?                                       | No, you can not obtain warranty service for damage by excess moisture.                                                                                                                                                                                                                          |\n",
      "|  50 | og_wave-bma_en                                                                | Shall I pay for the shipping cost when I transport it for warranty service?                                                     | Yes, you shall pay for it.                                                                                                                                                                                                                                                                      |\n",
      "|  51 | og_wave-bma_en                                                                | Why can the music adapter not be used in conjunction with a multi-disc changer?                                                 | Because Wave systems have only one Bose link input.                                                                                                                                                                                                                                             |\n",
      "|  52 | owg_en_wms_soundlink_adapterkit                                               | What does the exclamation point within an equilateral triangle mean?                                                            | It means that the user should pay attention to the presence of important operating and maintenance instructions in this owner's guide.                                                                                                                                                          |\n",
      "|  53 | owg_en_wms_soundlink_adapterkit                                               | Can I use the product without charging?                                                                                         | No, the product should be used with the power supply provided.                                                                                                                                                                                                                                  |\n",
      "|  54 | owg_en_wms_soundlink_adapterkit                                               | What specifications does the product comply with in the U.S.?                                                                   | The product complies with SFR 47 Part 15 specifications in the U.S..                                                                                                                                                                                                                            |\n",
      "|  55 | owg_en_wms_soundlink_adapterkit                                               | How many versions of the SoundLink kit?                                                                                         | There are 2 versions: 1. Using a kit with basic content only. 2. Using a kit with both basic and update contents.                                                                                                                                                                               |\n",
      "|  56 | owg_en_wms_soundlink_adapterkit                                               | How can I withdraw the CD in the end?                                                                                           | The CD will be ejected when the update is complete.                                                                                                                                                                                                                                             |\n",
      "|  57 | owg_en_wms_soundlink_adapterkit                                               | How far should I place the SoundLink adapter and the Wave system?                                                               | They should be placed at least 2 in. (5 cm) apart.                                                                                                                                                                                                                                              |\n",
      "|  58 | owg_en_wms_soundlink_adapterkit                                               | What will happen if the required power pack is not connected when you press the SoundLink/CD button?                            | Scrolls across the Wave system display if the required power pack is not connected when you press the SoundLink/CD button.                                                                                                                                                                      |\n",
      "|  59 | owg_en_wms_soundlink_adapterkit                                               | Can I lay the USB antenna flat and then plug it into the computer?                                                              | No, you can't. You should lift the antenna on the USB key to the vertical position and plug the key into a USB port on your computer.                                                                                                                                                           |\n",
      "|  60 | owg_en_wms_soundlink_adapterkit                                               | Where is the Flashing power light?                                                                                              | It is in the USB key.                                                                                                                                                                                                                                                                           |\n",
      "|  61 | owg_en_wms_soundlink_adapterkit                                               | I want to reconnect to my Wave system, but it shows nothing, what should I do?                                                  | You may not turn on your computer at first, and then you must make sure that you can see COMPUTER on the display.                                                                                                                                                                               |\n",
      "|  62 | owg_en_wms_soundlink_adapterkit                                               | Which button does the SoundLink kit remote control include?                                                                     | It includes Mute, Volume, Seek/Track, SoundLink/AUX and Play/Pause.                                                                                                                                                                                                                             |\n",
      "|  63 | owg_en_wms_soundlink_adapterkit                                               | What would happen if battery is incorrectly replaced?                                                                           | Battery will be in danger of explosion.                                                                                                                                                                                                                                                         |\n",
      "|  64 | owg_en_wms_soundlink_adapterkit                                               | What should I do if this does not resolve the problem?                                                                          | You should contact Bose Customer Service.                                                                                                                                                                                                                                                       |\n",
      "|  65 | owg_en_wms_soundlink_adapterkit                                               | Which part should I see on page 15?                                                                                             | You should see \"Manually Linking the SoundLink adapter and USB key.                                                                                                                                                                                                                             |\n",
      "|  66 | owg_en_wms_soundlink_adapterkit                                               | Should I need to restart my computer after taking measures to solve the problem?                                                | Yes, you should restart your computer.                                                                                                                                                                                                                                                          |\n",
      "|  67 | owg_en_wms_soundlink_adapterkit                                               | Do all players and Internet radio services support this form of playback control?                                               | No, not all players and Internet radio services support this form of playback control.                                                                                                                                                                                                          |\n",
      "|  68 | owg_en_wms_soundlink_adapterkit                                               | Which button should I press and hold when I link the USB?                                                                       | You should press and hold Presets 5 on the remote control until DISCOVERABLE is displayed and flashing on the wave system display.                                                                                                                                                              |\n",
      "|  69 | owg_en_wms_soundlink_adapterkit                                               | What should I do if I want to know the Bose contact information in my country?                                                  | You should visit Global.Bose.com.                                                                                                                                                                                                                                                               |\n",
      "|  70 | samsung_audio_box_eo-sb330_um_sea_rev.1.0_140728_screen                       | How many buttons can I find on the front of the device?                                                                         | You can find 7 buttons on the front of the device.                                                                                                                                                                                                                                              |\n",
      "|  71 | samsung_audio_box_eo-sb330_um_sea_rev.1.0_140728_screen                       | Are the items supplied with the devices and available accessories the same in different regions?                                | No, the items supplied with the devices and available accessories may vary by region.                                                                                                                                                                                                           |\n",
      "|  72 | samsung_audio_box_eo-sb330_um_sea_rev.1.0_140728_screen                       | When should i charge the battery completely?                                                                                    | Charge the battery completely before using the device for the first time or after it has not been used for an extended period.                                                                                                                                                                  |\n",
      "|  73 | samsung_audio_box_eo-sb330_um_sea_rev.1.0_140728_screen                       | When does the status indicator turn red?                                                                                        | The status indicator turns red while the device is being charged.                                                                                                                                                                                                                               |\n",
      "|  74 | samsung_audio_box_eo-sb330_um_sea_rev.1.0_140728_screen                       | How can I measure the battery charge?                                                                                           | You can measure the battery charge by pressing and holding the Talk and Volume-button simultaneously. And then the status indicator flashes four times in different colors according to the charge left on the battery.                                                                         |\n",
      "|  75 | samsung_audio_box_eo-sb330_um_sea_rev.1.0_140728_screen                       | What is the indicator color, when the charge level of the device is more than 80%?                                              | It is bule.                                                                                                                                                                                                                                                                                     |\n",
      "|  76 | samsung_audio_box_eo-sb330_um_sea_rev.1.0_140728_screen                       | How many status indicator flashes when the device is turned on?                                                                 | When the devices turned on the status indicators flashes blue 4 times.                                                                                                                                                                                                                          |\n",
      "|  77 | samsung_audio_box_eo-sb330_um_sea_rev.1.0_140728_screen                       | How can I connect via Bluetooth?                                                                                                | You can turn on Level Box. And then press and hold the Pairing button for about 3 seconds.                                                                                                                                                                                                      |\n",
      "|  78 | samsung_audio_box_eo-sb330_um_sea_rev.1.0_140728_screen                       | When the pairing is completed, what does the Level Box appear?                                                                  | You can see the Level Box appears as “connected ” when the pairing is complete.                                                                                                                                                                                                                 |\n",
      "|  79 | samsung_audio_box_eo-sb330_um_sea_rev.1.0_140728_screen                       | What is the reason for the not available NFC feature?                                                                           | It is not available because another device is connected to the Bluetooth speaker.                                                                                                                                                                                                               |\n",
      "|  80 | samsung_audio_box_eo-sb330_um_sea_rev.1.0_140728_screen                       | What should I do before making a connection with the audio cable?                                                               | You should end the Bluetooth connection between the product and any other device.                                                                                                                                                                                                               |\n",
      "|  81 | samsung_audio_box_eo-sb330_um_sea_rev.1.0_140728_screen                       | How can I turn on the voice recognition feature of the connected device?                                                        | You can press the Talk button to turn on the voice recognition feature.                                                                                                                                                                                                                         |\n",
      "|  82 | samsung_audio_box_eo-sb330_um_sea_rev.1.0_140728_screen                       | What will happen when I press the Play/Stop button twice?                                                                       | It will skip to the next file when you press it twice.                                                                                                                                                                                                                                          |\n",
      "|  83 | samsung_audio_box_eo-sb330_um_sea_rev.1.0_140728_screen                       | What can I do to answer a call when a smartphone is connected to the Level Box?                                                 | You can press the Talk button to answer the call.                                                                                                                                                                                                                                               |\n",
      "|  84 | samsung_audio_box_eo-sb330_um_sea_rev.1.0_140728_screen                       | One call is incoming during a call and I want to switch between them, what can I do?                                            | You can press and hold the \"Talk\" button.                                                                                                                                                                                                                                                       |\n",
      "|  85 | samsung_audio_box_eo-sb330_um_sea_rev.1.0_140728_screen                       | Why can't I use the application?                                                                                                | Maybe it's because your devices are not connected via the Bluetooth feature.                                                                                                                                                                                                                    |\n",
      "|  86 | samsung_audio_box_eo-sb330_um_sea_rev.1.0_140728_screen                       | Why is the connection off when the range is about 9 meters? Isn't the wireless connection range 10 meters?                      | No, the wireless connection range is not always 10 meters. It can be affected by your usage environment.                                                                                                                                                                                        |\n",
      "|  87 | samsung_audio_box_eo-sb330_um_sea_rev.1.0_140728_screen                       | If the battery is broken, can I change it to another one?                                                                       | You'd better not do so before you asked the manufacturer whether the new one is suitable.                                                                                                                                                                                                       |\n",
      "|  88 | samsung_audio_box_eo-sb330_um_sea_rev.1.0_140728_screen                       | Can I wash it with the cleanser?                                                                                                | No, you can wipe it with a towel or an eraser instead of any chemicals or detergents.                                                                                                                                                                                                           |\n",
      "|  89 | samsung_audio_box_eo-sb330_um_sea_rev.1.0_140728_screen                       | Why can't I operate it?                                                                                                         | Maybe it's because you change or modify it. Changes or modifications not expressly approved by Samsung will void the User's authority to operate the equipment.                                                                                                                                 |\n",
      "|  90 | samsung_audio_box_eo-sb330_um_sea_rev.1.0_140728_screen                       | What's the phone number of Samsung Electronics America, Inc?                                                                    | The phone number is 1-800-SAMSUNG.                                                                                                                                                                                                                                                              |\n",
      "|  91 | samsung_cell phone accessories manuals_de30be54-38b5-46f4-8dc4-a2376a6e571d   | What is the World Wide Web of the SAMSUNG?                                                                                      | It is the http://www.samsungmobileusa.com.                                                                                                                                                                                                                                                      |\n",
      "|  92 | samsung_cell phone accessories manuals_de30be54-38b5-46f4-8dc4-a2376a6e571d   | How to avoid damaging the performance and reducing the battery life?                                                            | Please don't store it at high temperatures (above 50℃/122℉).                                                                                                                                                                                                                                    |\n",
      "|  93 | samsung_cell phone accessories manuals_de30be54-38b5-46f4-8dc4-a2376a6e571d   | Where is the Microphone of the device?                                                                                          | The microphone is located at the lower part of the headset body device.                                                                                                                                                                                                                         |\n",
      "|  94 | samsung_cell phone accessories manuals_de30be54-38b5-46f4-8dc4-a2376a6e571d   | What can I do with the Volume Button?                                                                                           | Please press the button to adjust the volume. During a call, you can press and hold to mute the microphone.                                                                                                                                                                                     |\n",
      "|  95 | samsung_cell phone accessories manuals_de30be54-38b5-46f4-8dc4-a2376a6e571d   | What if the charging does not begin?                                                                                            | Please unplug the travel adapter and plug it in again.                                                                                                                                                                                                                                          |\n",
      "|  96 | samsung_cell phone accessories manuals_de30be54-38b5-46f4-8dc4-a2376a6e571d   | What is the battery level if the indicator light flashes blue?                                                                  | The battery level is above 80% if the indicator light flashes blue.                                                                                                                                                                                                                             |\n",
      "|  97 | samsung_cell phone accessories manuals_de30be54-38b5-46f4-8dc4-a2376a6e571d   | What will happen if my headset powers off during a call?                                                                        | The call will be automatically transferred to the phone.                                                                                                                                                                                                                                        |\n",
      "|  98 | samsung_cell phone accessories manuals_de30be54-38b5-46f4-8dc4-a2376a6e571d   | How can I know if I turn off my headset?                                                                                        | You can see both the blue and red indicator lights flash when you turn off your headset.                                                                                                                                                                                                        |\n",
      "|  99 | samsung_cell phone accessories manuals_de30be54-38b5-46f4-8dc4-a2376a6e571d   | How can I make my headset enter Pairing mode?                                                                                   | You can turn on your headset, press and hold the Talk button until the indicator light turns blue and stays lit after blinking. And your headset automatically enters Pairing mode when you turn on it for the first time.                                                                      |\n",
      "| 100 | samsung_cell phone accessories manuals_de30be54-38b5-46f4-8dc4-a2376a6e571d   | How can I reconnect the headset?                                                                                                | You can press the Talk button and use the Bluetooth menu on your phone to reconnect the headset.                                                                                                                                                                                                |\n",
      "| 101 | samsung_cell phone accessories manuals_de30be54-38b5-46f4-8dc4-a2376a6e571d   | How can I reject a call using my headset?                                                                                       | You can press and hold the Talk button to reject a call when a call comes in.                                                                                                                                                                                                                   |\n",
      "| 102 | samsung_cell phone accessories manuals_de30be54-38b5-46f4-8dc4-a2376a6e571d   | How can I place the first call on hold and answer a second call?                                                                | You can press and hold the Talk button when you hear waiting tones to place the first call on hold and answer a second call.                                                                                                                                                                    |\n",
      "| 103 | samsung_cell phone accessories manuals_de30be54-38b5-46f4-8dc4-a2376a6e571d   | How can I reduce any static or interference while on a call?                                                                    | You can keep the headset away from other devices that use or produce radio waves.                                                                                                                                                                                                               |\n",
      "| 104 | samsung_cell phone accessories manuals_de30be54-38b5-46f4-8dc4-a2376a6e571d   | Why do I hear an echo while on a call?                                                                                          | You can adjust the headset volume, or move to another area and try again.                                                                                                                                                                                                                       |\n",
      "| 105 | samsung_cell phone accessories manuals_de30be54-38b5-46f4-8dc4-a2376a6e571d   | Are users permitted to make changes or modify the device in any way?                                                            | No. Users are not permitted to make changes or modify the device in any way.                                                                                                                                                                                                                    |\n",
      "| 106 | samsung_cell phone accessories manuals_de30be54-38b5-46f4-8dc4-a2376a6e571d   | I am in South America. How can I connect the travel adapter?                                                                    | You should use an attachment plug adaptor of the proper configuration for the power outlet.                                                                                                                                                                                                     |\n",
      "| 107 | samsung_cell phone accessories manuals_de30be54-38b5-46f4-8dc4-a2376a6e571d   | If my product is lost in shipping. Can I ask Samsung for compensation?                                                          | No, you can't. Samsung will not assume any responsibility for any loss or damage incurred in shipping.                                                                                                                                                                                          |\n",
      "| 108 | samsung_cell phone accessories manuals_de30be54-38b5-46f4-8dc4-a2376a6e571d   | What is the standby time of my mobile phone?                                                                                    | It will up to 200 hours.                                                                                                                                                                                                                                                                        |\n",
      "| 109 | samsung_vacuum cleaner manuals_8cb9360e-cafe-4c53-9d35-ef193667e586           | How to receive more complete service about this product?                                                                        | You should register your product at www.sansung.com/register.                                                                                                                                                                                                                                   |\n",
      "| 110 | samsung_vacuum cleaner manuals_8cb9360e-cafe-4c53-9d35-ef193667e586           | How to store it properly?                                                                                                       | You should store it indoors, in a cool and dry area.                                                                                                                                                                                                                                            |\n",
      "| 111 | samsung_vacuum cleaner manuals_8cb9360e-cafe-4c53-9d35-ef193667e586           | Can I plug in my vacuum cleaner directly?                                                                                       | No, you can't. You should be familiar with all instructions and operating procedures.                                                                                                                                                                                                           |\n",
      "| 112 | samsung_vacuum cleaner manuals_8cb9360e-cafe-4c53-9d35-ef193667e586           | Where should I install the Combination Tool?                                                                                    | You should attach it to the holder on the left side of the vacuum cleaner.                                                                                                                                                                                                                      |\n",
      "| 113 | samsung_vacuum cleaner manuals_8cb9360e-cafe-4c53-9d35-ef193667e586           | How to change the cleaning positions?                                                                                           | You can press the handle release pedal located on the lower left side of the vacuum with your foot to place your vacuum into one of three cleaning positions.                                                                                                                                   |\n",
      "| 114 | samsung_vacuum cleaner manuals_8cb9360e-cafe-4c53-9d35-ef193667e586           | How to prevent the brush stops rotating?                                                                                        | You shouldn't put too much pressure.                                                                                                                                                                                                                                                            |\n",
      "| 115 | samsung_vacuum cleaner manuals_8cb9360e-cafe-4c53-9d35-ef193667e586           | What if the suction is weak although the dust bin is empty?                                                                     | Please open the cover and clean the Grille.                                                                                                                                                                                                                                                     |\n",
      "| 116 | samsung_vacuum cleaner manuals_8cb9360e-cafe-4c53-9d35-ef193667e586           | How to replace the post-motor filter?                                                                                           | First, unplug the Vacuum Cleaner from the electrical outlet. When the filter becomes dirty, open the door, remove the filter and replace it.                                                                                                                                                    |\n",
      "| 117 | samsung_vacuum cleaner manuals_8cb9360e-cafe-4c53-9d35-ef193667e586           | What if I properly install the Rotating Floor Brush?                                                                            | The Drive Belt will center itself on the Rotating Brush crown.                                                                                                                                                                                                                                  |\n",
      "| 118 | samsung_vacuum cleaner manuals_8cb9360e-cafe-4c53-9d35-ef193667e586           | What should I do after removing a screw?                                                                                        | You can lift the cover belt off.                                                                                                                                                                                                                                                                |\n",
      "| 119 | samsung_vacuum cleaner manuals_8cb9360e-cafe-4c53-9d35-ef193667e586           | The Mini Turbo Brush is clogged or debris is wrapped around the brush roll?                                                     | Please maintain Mini Turbo Brush.                                                                                                                                                                                                                                                               |\n",
      "| 120 | samsung_video gaming accessories manuals_f0ee75e7-18ff-4260-ac5c-3db2ec0f8fd4 | What if I place conductive objects on the top of the controller?                                                                | It may cause personal injury due to fire, electric shock, or falling objects.                                                                                                                                                                                                                   |\n",
      "| 121 | samsung_video gaming accessories manuals_f0ee75e7-18ff-4260-ac5c-3db2ec0f8fd4 | How to avoid injury from tip-over?                                                                                              | Please use caution when moving the cart/ apparatus combination.                                                                                                                                                                                                                                 |\n",
      "| 122 | samsung_video gaming accessories manuals_f0ee75e7-18ff-4260-ac5c-3db2ec0f8fd4 | What's included in the remote controller?                                                                                       | It includes a controller and a user guide.                                                                                                                                                                                                                                                      |\n",
      "| 123 | samsung_video gaming accessories manuals_f0ee75e7-18ff-4260-ac5c-3db2ec0f8fd4 | What if I want long-distance coaxial communications?                                                                            | You could use this switch for amplifying the control signal.                                                                                                                                                                                                                                    |\n",
      "| 124 | samsung_video gaming accessories manuals_f0ee75e7-18ff-4260-ac5c-3db2ec0f8fd4 | What's the effective range of valid address?                                                                                    | The effective range of valid address is between 0 and 255(1-255 for multiprotocol).                                                                                                                                                                                                             |\n",
      "| 125 | samsung_video gaming accessories manuals_f0ee75e7-18ff-4260-ac5c-3db2ec0f8fd4 | How can I dispose of the wasted batteries?                                                                                      | You should collect it individually and keep it away from children.                                                                                                                                                                                                                              |\n",
      "| 126 | samsung_video gaming accessories manuals_f0ee75e7-18ff-4260-ac5c-3db2ec0f8fd4 | Can I connect the device with a DC12V power source?                                                                             | Yes, you can do it by using DC12V power connector(2-pin).                                                                                                                                                                                                                                       |\n",
      "| 127 | samsung_video gaming accessories manuals_f0ee75e7-18ff-4260-ac5c-3db2ec0f8fd4 | How can I clean the product?                                                                                                    | You can use dry cloth only to clean it.                                                                                                                                                                                                                                                         |\n",
      "| 128 | samsung_video gaming accessories manuals_f0ee75e7-18ff-4260-ac5c-3db2ec0f8fd4 | What's the size of the battery of this product?                                                                                 | You will need to insert 4 AA-sized batteries into it.                                                                                                                                                                                                                                           |\n",
      "| 129 | samsung_video gaming accessories manuals_f0ee75e7-18ff-4260-ac5c-3db2ec0f8fd4 | Do RS-485 input and COAXITRON control support all protocols?                                                                    | No, they support SAMSUNG-E and SAMSUNG-T protocols only.                                                                                                                                                                                                                                        |\n",
      "| 130 | samsung_video gaming accessories manuals_f0ee75e7-18ff-4260-ac5c-3db2ec0f8fd4 | Can RS-232 device control support all protocols?                                                                                | No, this device supports SAMSUNG-E protocol only.                                                                                                                                                                                                                                               |\n",
      "| 131 | samsung_video gaming accessories manuals_f0ee75e7-18ff-4260-ac5c-3db2ec0f8fd4 | How to use the menu to controlling the camera?                                                                                  | Firstly, you can press and hold ENTER to move to the main menu screen. Secondly, press ENTER briefly to confirm the current settings. Thirdly, you can move the cursor's direction by using the four direction keys.                                                                            |\n",
      "| 132 | samsung_video gaming accessories manuals_f0ee75e7-18ff-4260-ac5c-3db2ec0f8fd4 | What kind of battery should I prepare for the battery compartment?                                                              | You need to prepare four AA-sized batteries for the battery compartment.                                                                                                                                                                                                                        |\n",
      "| 133 | samsung_video gaming accessories manuals_f0ee75e7-18ff-4260-ac5c-3db2ec0f8fd4 | How should I select a protocol?                                                                                                 | You should use a combination of pin 1,2,3.                                                                                                                                                                                                                                                      |\n",
      "| 134 | samsung_video gaming accessories manuals_f0ee75e7-18ff-4260-ac5c-3db2ec0f8fd4 | What's the net weight of the device?                                                                                            | Its net weight is 200 grams.                                                                                                                                                                                                                                                                    |\n",
      "| 135 | samsung_video gaming accessories manuals_f0ee75e7-18ff-4260-ac5c-3db2ec0f8fd4 | What is the telephone number of SAMSUNG TECHWIN AMERICA Inc?                                                                    | The number is +1-877-213-1222.                                                                                                                                                                                                                                                                  |\n",
      "| 136 | sony_laptop_manuals_a02cf092-3538-4646-ab93-8cae84a07ad2                      | What is the 3D function?                                                                                                        | It allows quick and easy playback of various types of 3D content.                                                                                                                                                                                                                               |\n",
      "| 137 | sony_laptop_manuals_a02cf092-3538-4646-ab93-8cae84a07ad2                      | Can children watch 3D video images or use stereoscopic 3D-related software?                                                     | You'd better consult your doctor before allowing young children to watch them or use the software because the vision of young children, especially those under six years old, is still under development. And adults should supervise young children to ensure they follow the recommendations. |\n",
      "| 138 | sony_laptop_manuals_a02cf092-3538-4646-ab93-8cae84a07ad2                      | I like surfing the internet on the computer tilting my head. If I do the same thing while viewing 3D images, what would happen? | The 3D effect may be less pronounced or the color of the images may change.                                                                                                                                                                                                                     |\n",
      "| 139 | sony_laptop_manuals_a02cf092-3538-4646-ab93-8cae84a07ad2                      | Can I charge the battery with devices other than the ones specified by Sony?                                                    | No. It may cause the 3D glasses to malfunction.                                                                                                                                                                                                                                                 |\n",
      "| 140 | sony_laptop_manuals_a02cf092-3538-4646-ab93-8cae84a07ad2                      | How can I select 3D-related software?                                                                                           | You can click Start, All Programs, and VAIO 3D Portal to start VAIO 3D Portal then select the software you want to use.                                                                                                                                                                         |\n",
      "| 141 | sony_laptop_manuals_a02cf092-3538-4646-ab93-8cae84a07ad2                      | When I play 3D videos, what software can I use?                                                                                 | You can use NVIDIA 3D Vision Video Player to play 3D videos.                                                                                                                                                                                                                                    |\n",
      "| 142 | sony_laptop_manuals_a02cf092-3538-4646-ab93-8cae84a07ad2                      | How can I view 3D photos or videos?                                                                                             | You can start the software that su[[prts 3D photo or video playback and start 3D photo or video playback, then turn on the 3D glasses and wear them, and then press the 3D button on your computer. The 3D indicator light turns on during the 3D playback.                                     |\n",
      "| 143 | sony_laptop_manuals_a02cf092-3538-4646-ab93-8cae84a07ad2                      | How can I adjust the 3D settings?                                                                                               | You can click Start, All Programs, and VAIO Control Center, then click 3D Effect Settings in the left pane of the window to adjust the 3D effect.                                                                                                                                               |\n",
      "| 144 | sony_laptop_manuals_a02cf092-3538-4646-ab93-8cae84a07ad2                      | Why I cannot find the 3D button and the 3D indicator on my computer when I display 3D images on 3D TV?                          | The 3D button and the 3D indicator on your computer are not available when 3D images are displayed on the 3D TV.                                                                                                                                                                                |\n",
      "| 145 | sony_laptop_manuals_a02cf092-3538-4646-ab93-8cae84a07ad2                      | What does it indicate if the LED indicator blinks three times every three seconds?                                              | It indicates that the battery of your 3D glasses is low. You need to charge the battery.                                                                                                                                                                                                        |\n",
      "| 146 | sony_laptop_manuals_a02cf092-3538-4646-ab93-8cae84a07ad2                      | How can I disable the 3D function?                                                                                              | You can open VAIO Control Center and click 3D Function and 3D Display Function Settings to disable the 3D function.                                                                                                                                                                             |\n",
      "| 147 | sony_laptop_manuals_a02cf092-3538-4646-ab93-8cae84a07ad2                      | Can I replace or purchase an additional 3D glasses?                                                                             | Yes. The TDG-BR250 3D glasses are available for purchase as of March 2011.                                                                                                                                                                                                                      |\n",
      "+-----+-------------------------------------------------------------------------------+---------------------------------------------------------------------------------------------------------------------------------+-------------------------------------------------------------------------------------------------------------------------------------------------------------------------------------------------------------------------------------------------------------------------------------------------+\n",
      "No.of.unique values : 10\n"
     ]
    }
   ],
   "source": [
    "\n",
    "data = []\n",
    "# with open('10_manuals.jsonl', 'r') as f:\n",
    "with open('10_manuals.jsonl', 'r') as f:\n",
    "    for line in f:\n",
    "\n",
    "        json_data = json.loads(line)\n",
    "        id = json_data['id'][:-6]\n",
    "        qa_data = json_data['qa_data']\n",
    "        for i in qa_data:\n",
    "            question = i['question']['text']\n",
    "            answer = i['answer']['text']\n",
    "        data.append({'id': id, 'question' : question, 'ground_truth': answer})\n",
    "\n",
    "df = pd.DataFrame(data)\n",
    "df = pd.DataFrame(data, columns = ['id', 'question', 'ground_truth'])\n",
    "print(tabulate(df, headers='keys', tablefmt='psql'))\n",
    "\n",
    "n = len(pd.unique(df['id']))\n",
    "print(\"No.of.unique values :\", n)"
   ]
  },
  {
   "cell_type": "code",
   "execution_count": 17,
   "id": "98cb732d",
   "metadata": {},
   "outputs": [
    {
     "name": "stdout",
     "output_type": "stream",
     "text": [
      "['bose_headphones manuals_9917ef89-897c-6524-2502-2b0a91ec7d62'\n",
      " 'bose_headphones_manuals_6d12e20d-cf8d-4337-b073-53d7e85e4163'\n",
      " 'dell_cell phone manuals_4686e2e1-87a4-4f6a-bf20-61c646c11bb9'\n",
      " 'og_wave-bma_en' 'owg_en_wms_soundlink_adapterkit'\n",
      " 'samsung_audio_box_eo-sb330_um_sea_rev.1.0_140728_screen'\n",
      " 'samsung_cell phone accessories manuals_de30be54-38b5-46f4-8dc4-a2376a6e571d'\n",
      " 'samsung_vacuum cleaner manuals_8cb9360e-cafe-4c53-9d35-ef193667e586'\n",
      " 'samsung_video gaming accessories manuals_f0ee75e7-18ff-4260-ac5c-3db2ec0f8fd4'\n",
      " 'sony_laptop_manuals_a02cf092-3538-4646-ab93-8cae84a07ad2']\n"
     ]
    }
   ],
   "source": [
    "import pandas as pd\n",
    "\n",
    "\n",
    "unique_values = (pd.unique(df['id']))\n",
    "print(unique_values)\n",
    "\n",
    "unique_values_df = pd.DataFrame({'unique_values': unique_values})\n",
    "\n",
    "# Merge the original DataFrame with the DataFrame containing unique values\n",
    "merged_df = pd.merge(df, unique_values_df, how='inner', left_on='id', right_on='unique_values')\n",
    "\n",
    "# Group by the unique values and select the first 5 occurrences of each\n",
    "df = merged_df.groupby('unique_values').head(10)"
   ]
  },
  {
   "cell_type": "code",
   "execution_count": 18,
   "id": "a8eea8e4",
   "metadata": {},
   "outputs": [
    {
     "name": "stdout",
     "output_type": "stream",
     "text": [
      "['Where can I know the complete Declaration of Conformity?', 'What does my Bose mobile on-ear headset include?', 'How many types of adapters are there for mobile phones?', 'If my phone needs to use an adapter to connect the headset. What should I do?', 'How can I put the headset in the case?', 'How can I take the headset out of the case?', 'How can I clean the headset?', 'What should I make sure of when reattaching earcup cushions?', 'What can I do if I still need help?', 'What is the official website of Bose in Japan?', 'Can I use headphones when operating a motor vehicle?', 'What does the Bose OE2 audio headphone include?', 'Can I exceed or rotate the earcups?', 'Where can I find replacement parts and accessories?', 'What should I do if any problems persists?', 'What are the steps to reattach earcup cushion?', 'How to obtain Limited Warranty Service?', 'What do you think of the hazardous standard of plastic parts?', 'What is the telephone number of the Bose corporation in Denmark?\\n', 'What is the website of Bose in Hong Kong?', 'What does a WARNING indicate?', 'Does every order include a Mini-USB to 3.5 mm audio adapter?', 'What should I do before using the smartphone?', 'What should I do to make sure of proper installation?', 'How can I charge the battery?', 'How can I turn on the phone?', 'Can you tell me the use of the camera flash?', 'What is the function of the Home button?', 'What is the function of the Camera button?', 'How to switch between the screens?', 'I want to use this product outdoors. Is that OK?', 'How can I know whether this equipment causes interference to television reception or not?', 'Where can I see the additional instructions?', 'Is there any interference between the adapter and the system?', 'What is the entry code?', 'What should I do if I cannot hear music after pairing?', 'How long should I press the Presets 6 button?', 'What is the function of the button Mute?', 'What should I do if I want to turn up the volume?', 'There is no sound when the Bluetooth enabled device plays music, what can I do?', 'What does the exclamation point within an equilateral triangle mean?', 'Can I use the product without charging?', 'What specifications does the product comply with in the U.S.?', 'How many versions of the SoundLink kit?', 'How can I withdraw the CD in the end?', 'How far should I place the SoundLink adapter and the Wave system?', 'What will happen if the required power pack is not connected when you press the SoundLink/CD button?', 'Can I lay the USB antenna flat and then plug it into the computer?', 'Where is the Flashing power light?', 'I want to reconnect to my Wave system, but it shows nothing, what should I do?', 'How many buttons can I find on the front of the device?', 'Are the items supplied with the devices and available accessories the same in different regions?', 'When should i charge the battery completely?', 'When does the status indicator turn red?', 'How can I measure the battery charge?', 'What is the indicator color, when the charge level of the device is more than 80%?', 'How many status indicator flashes when the device is turned on?', 'How can I connect via Bluetooth?', 'When the pairing is completed, what does the Level Box appear?', 'What is the reason for the not available NFC feature?', 'What is the World Wide Web of the SAMSUNG?', 'How to avoid damaging the performance and reducing the battery life?', 'Where is the Microphone of the device?', 'What can I do with the Volume Button?', 'What if the charging does not begin?', 'What is the battery level if the indicator light flashes blue?', 'What will happen if my headset powers off during a call?', 'How can I know if I turn off my headset?', 'How can I make my headset enter Pairing mode?', 'How can I reconnect the headset?', 'How to receive more complete service about this product?', 'How to store it properly?', 'Can I plug in my vacuum cleaner directly?', 'Where should I install the Combination Tool?', 'How to change the cleaning positions?', 'How to prevent the brush stops rotating?', 'What if the suction is weak although the dust bin is empty?', 'How to replace the post-motor filter?', 'What if I properly install the Rotating Floor Brush?', 'What should I do after removing a screw?', 'What if I place conductive objects on the top of the controller?', 'How to avoid injury from tip-over?', \"What's included in the remote controller?\", 'What if I want long-distance coaxial communications?', \"What's the effective range of valid address?\", 'How can I dispose of the wasted batteries?', 'Can I connect the device with a DC12V power source?', 'How can I clean the product?', \"What's the size of the battery of this product?\", 'Do RS-485 input and COAXITRON control support all protocols?', 'What is the 3D function?', 'Can children watch 3D video images or use stereoscopic 3D-related software?', 'I like surfing the internet on the computer tilting my head. If I do the same thing while viewing 3D images, what would happen?', 'Can I charge the battery with devices other than the ones specified by Sony?', 'How can I select 3D-related software?', 'When I play 3D videos, what software can I use?', 'How can I view 3D photos or videos?', 'How can I adjust the 3D settings?', 'Why I cannot find the 3D button and the 3D indicator on my computer when I display 3D images on 3D TV?', 'What does it indicate if the LED indicator blinks three times every three seconds?']\n",
      "[['You can search the website at www.Bose.com/compliance.'], ['It includes on-ear headphones, a headphone cord with an inline microphone, four 3.5mm to 2.5mm mobile phone adapters, and a carrying case.'], ['Each adapter has a symbol of a circle, triangle, diamond, or square.'], ['You should find the appropriate adapter and connect the headphone cord plug to the adapter. Then you should connect the adapter to your phone.  '], ['You can rotate the earcups until the cushions face you, lay the headset down in front of you, and pivot the earcups into the headband and place the headset in the case.'], ['You can lift the headset out of the case and pivot the earcups out of the headband, hold the headset with the headband up, and rotate the earcups until the cushions face teacher other.'], ['You need to be sure the earcup ports are kept clear and that no moisture is allowed to get inside the earcup.'], ['You can make sure the cushion is flush all the way around and that there are no gaps between the cushion and the earcup.'], ['You can call for assistance if I still need help.'], ['The official website of Bose in Japan is www.BoseIndia.jp.'], ['No, you can not use headphones when operating a motor vehicle or anywhere the  inability to hear outside sounds may present a danger to you or others.'], ['It includes six components which are R and L mark, replaceable ear cup cushion, adjustable headband, audio cable and carry case.'], ['You can not try to exceed the limits of the pivots or over-rotate the  earcups.'], ['You can find them in Bose Customer Service. See the contact information for your area  included in this guide.'], ['You should contact Bose Customer Service and see the  phone number for your area, included in this guide.'], ['1. Place the edge of the earcup cushion skirt into the slot behind  the earcup flange.\\n2. Work the remainder of the skirt into the slot all the way around  the earcup.'], ['1. Contact the Bose organization in your country or region.\\n2. Label and ship the product to the address  provided by the Bose organization in your country.\\n3. Place any necessary return authorization number prominently  on the outside of the carton.'], ['The plastic parts which contained in all of the homogeneous materials is below the limit requirement.'], ['The telephone number of the Bose corporation in Denmark is 4343 7777.'], ['The website of Bose in Hong Kong is support_hk@Bose.com.'], ['It shows potential for property damage, personal injury, or death.'], ['It depends on the choice you made during the purchase.'], ['You have to install the battery, and SIM card, and charge the battery.'], ['You have to align the cut corners in the card and the SIM card slot.'], ['First, please use the Mini-USB to USB cable, plug the power adapter into a power outlet, and then into your phone. Next, you have to charge the phone for at least 12 hours.'], ['Please push and hold the power button for two seconds.'], ['It is used to take photos in dim lights.'], ['When you press the button shortly, it can navigate back one screen at a time. And when you press and hold it, you can return to the Home screen.'], ['You can press it to activate the camera and you can take photos or capture videos.'], ['You have to swipe your finger or the optional stylus across the screen from left to right, or right to left.'], ['No, it is designed for indoor use only.'], ['You can test it by turning the equipment off and on.'], ['You can see the additional instructions on the Important Safety Instructions sheet (North America only) enclosed in the shipping carton.'], ['Yes, you need to make sure that they are 5 cm apart to avoid interference.'], ['You can enter <0000>.'], ['You can quit and restart your music app.'], ['You should press and hold the button on the remote for 10 seconds until a tone is heard.'], ['If you press Mute for one time, it can mute the audio. And you can press again to restore audio.'], ['You can turn up the volume by pressing the up arrow under the Volume button.'], ['You should check whether:\\n1 \"Bose Adapter\" is selected in the Bluetooth dedvice list\\n2 Wave system volume, the volume on your Bluetooth,your music application and is turned up and not muted\\nAfter doing so, if there is still no sound,you can restart the music application on your Bluetooth and restart your Bluetooth enabled device.'], [\"It means that the user should pay attention to the presence of important operating and maintenance instructions in this owner's guide.\"], ['No, the product should be used with the power supply provided.'], ['The product complies with SFR 47 Part 15 specifications in the U.S..'], ['There are 2 versions: 1. Using a kit with basic content only. 2. Using a kit with both basic and update contents.'], ['The CD will be ejected when the update is complete.'], ['They should be placed at least 2 in. (5 cm) apart.'], ['Scrolls across the Wave system display if the required power pack is not connected when you press the SoundLink/CD button.'], [\"No, you can't. You should lift the antenna on the USB key to the vertical position and plug the key into a USB port on your computer.\"], ['It is in the USB key.'], ['You may not turn on your computer at first, and then you must make sure that you can see COMPUTER on the display.'], ['You can find 7 buttons on the front of the device.'], ['No, the items supplied with the devices and available accessories may vary by region.'], ['Charge the battery completely before using the device for the first time or after it has not been used for an extended period.'], ['The status indicator turns red while the device is being charged.'], ['You can measure the battery charge by pressing and holding the Talk and Volume-button simultaneously. And then the status indicator flashes four times in different colors according to the charge left on the battery.'], ['It is bule.'], ['When the devices turned on the status indicators flashes blue 4 times.'], ['You can turn on Level Box. And then press and hold the Pairing button for about 3 seconds.'], ['You can see the Level Box appears as “connected ” when the pairing is complete.'], ['It is not available because another device is connected to the Bluetooth speaker.'], ['It is the http://www.samsungmobileusa.com.'], [\"Please don't store it at high temperatures (above 50℃/122℉).\"], ['The microphone is located at the lower part of the headset body device.'], ['Please press the button to adjust the volume. During a call, you can press and hold to mute the microphone.'], ['Please unplug the travel adapter and plug it in again.'], ['The battery level is above 80% if the indicator light flashes blue.'], ['The call will be automatically transferred to the phone.'], ['You can see both the blue and red indicator lights flash when you turn off your headset.'], ['You can turn on your headset, press and hold the Talk button until the indicator light turns blue and stays lit after blinking. And your headset automatically enters Pairing mode when you turn on it for the first time.'], ['You can press the Talk button and use the Bluetooth menu on your phone to reconnect the headset.'], ['You should register your product at www.sansung.com/register.'], ['You should store it indoors, in a cool and dry area.'], [\"No, you can't. You should be familiar with all instructions and operating procedures.\"], ['You should attach it to the holder on the left side of the vacuum cleaner.'], ['You can press the handle release pedal located on the lower left side of the vacuum with your foot to place your vacuum into one of three cleaning positions.'], [\"You shouldn't put too much pressure.\"], ['Please open the cover and clean the Grille.'], ['First, unplug the Vacuum Cleaner from the electrical outlet. When the filter becomes dirty, open the door, remove the filter and replace it.'], ['The Drive Belt will center itself on the Rotating Brush crown.'], ['You can lift the cover belt off.'], ['It may cause personal injury due to fire, electric shock, or falling objects.'], ['Please use caution when moving the cart/ apparatus combination.'], ['It includes a controller and a user guide.'], ['You could use this switch for amplifying the control signal.'], ['The effective range of valid address is between 0 and 255(1-255 for multiprotocol).'], ['You should collect it individually and keep it away from children.'], ['Yes, you can do it by using DC12V power connector(2-pin).'], ['You can use dry cloth only to clean it.'], ['You will need to insert 4 AA-sized batteries into it.'], ['No, they support SAMSUNG-E and SAMSUNG-T protocols only.'], ['It allows quick and easy playback of various types of 3D content.'], [\"You'd better consult your doctor before allowing young children to watch them or use the software because the vision of young children, especially those under six years old, is still under development. And adults should supervise young children to ensure they follow the recommendations.\"], ['The 3D effect may be less pronounced or the color of the images may change.'], ['No. It may cause the 3D glasses to malfunction.'], ['You can click Start, All Programs, and VAIO 3D Portal to start VAIO 3D Portal then select the software you want to use.'], ['You can use NVIDIA 3D Vision Video Player to play 3D videos.'], ['You can start the software that su[[prts 3D photo or video playback and start 3D photo or video playback, then turn on the 3D glasses and wear them, and then press the 3D button on your computer. The 3D indicator light turns on during the 3D playback.'], ['You can click Start, All Programs, and VAIO Control Center, then click 3D Effect Settings in the left pane of the window to adjust the 3D effect.'], ['The 3D button and the 3D indicator on your computer are not available when 3D images are displayed on the 3D TV.'], ['It indicates that the battery of your 3D glasses is low. You need to charge the battery.']]\n"
     ]
    }
   ],
   "source": [
    "questions = df['question'].tolist()\n",
    "ground_truth = df['ground_truth'].tolist()\n",
    "ground_truths = [[value] for value in ground_truth]\n",
    "\n",
    "print(questions)\n",
    "print(ground_truths)\n",
    "answers = []\n",
    "contexts = []"
   ]
  },
  {
   "cell_type": "code",
   "execution_count": 19,
   "id": "bd667f07",
   "metadata": {},
   "outputs": [
    {
     "name": "stdout",
     "output_type": "stream",
     "text": [
      "100\n"
     ]
    }
   ],
   "source": [
    "print(len(ground_truths))"
   ]
  },
  {
   "cell_type": "code",
   "execution_count": 20,
   "id": "3f0eaacc",
   "metadata": {},
   "outputs": [],
   "source": [
    "num_lists = len(questions) // 5 + (len(questions) % 5 > 0)  # Calculate the number of lists needed\n",
    "splitted_questions = [questions[i * 5 : (i + 1) * 5] for i in range(num_lists)] \n",
    "empty_lists = [f'a{i} = []' for i in range(1, 21)]"
   ]
  },
  {
   "cell_type": "code",
   "execution_count": 21,
   "id": "cc3db123",
   "metadata": {},
   "outputs": [
    {
     "data": {
      "text/plain": [
       "['How can I take the headset out of the case?',\n",
       " 'How can I clean the headset?',\n",
       " 'What should I make sure of when reattaching earcup cushions?',\n",
       " 'What can I do if I still need help?',\n",
       " 'What is the official website of Bose in Japan?']"
      ]
     },
     "execution_count": 21,
     "metadata": {},
     "output_type": "execute_result"
    }
   ],
   "source": [
    "splitted_questions[1]"
   ]
  },
  {
   "cell_type": "code",
   "execution_count": 22,
   "id": "bdb8b8f6",
   "metadata": {},
   "outputs": [],
   "source": [
    "answers = []"
   ]
  },
  {
   "cell_type": "code",
   "execution_count": 23,
   "id": "a4ccd4f9",
   "metadata": {},
   "outputs": [
    {
     "name": "stdout",
     "output_type": "stream",
     "text": [
      "Index: 0\n",
      "Where can I know the complete Declaration of Conformity?\n",
      "Based on the context provided, the complete Declaration of Conformity can be found in the image with the word \"Specifications\" at the bottom.\n",
      "Index: 1\n",
      "What does my Bose mobile on-ear headset include?\n"
     ]
    },
    {
     "ename": "KeyboardInterrupt",
     "evalue": "",
     "output_type": "error",
     "traceback": [
      "\u001b[0;31m---------------------------------------------------------------------------\u001b[0m",
      "\u001b[0;31mKeyboardInterrupt\u001b[0m                         Traceback (most recent call last)",
      "Cell \u001b[0;32mIn[23], line 7\u001b[0m\n\u001b[1;32m      5\u001b[0m \u001b[38;5;28mprint\u001b[39m(\u001b[38;5;124mf\u001b[39m\u001b[38;5;124m\"\u001b[39m\u001b[38;5;124mIndex: \u001b[39m\u001b[38;5;132;01m{\u001b[39;00mindex\u001b[38;5;132;01m}\u001b[39;00m\u001b[38;5;124m\"\u001b[39m)\n\u001b[1;32m      6\u001b[0m \u001b[38;5;28mprint\u001b[39m(question)\n\u001b[0;32m----> 7\u001b[0m answer \u001b[38;5;241m=\u001b[39m \u001b[43mchain\u001b[49m\u001b[38;5;241;43m.\u001b[39;49m\u001b[43minvoke\u001b[49m\u001b[43m(\u001b[49m\u001b[43mquestion\u001b[49m\u001b[43m)\u001b[49m\n\u001b[1;32m      8\u001b[0m \u001b[38;5;28mprint\u001b[39m(answer)\n\u001b[1;32m      9\u001b[0m answers\u001b[38;5;241m.\u001b[39mappend(answer)\n",
      "File \u001b[0;32m~/RAG/venv8/lib/python3.8/site-packages/langchain_core/runnables/base.py:2056\u001b[0m, in \u001b[0;36mRunnableSequence.invoke\u001b[0;34m(self, input, config)\u001b[0m\n\u001b[1;32m   2054\u001b[0m \u001b[38;5;28;01mtry\u001b[39;00m:\n\u001b[1;32m   2055\u001b[0m     \u001b[38;5;28;01mfor\u001b[39;00m i, step \u001b[38;5;129;01min\u001b[39;00m \u001b[38;5;28menumerate\u001b[39m(\u001b[38;5;28mself\u001b[39m\u001b[38;5;241m.\u001b[39msteps):\n\u001b[0;32m-> 2056\u001b[0m         \u001b[38;5;28minput\u001b[39m \u001b[38;5;241m=\u001b[39m \u001b[43mstep\u001b[49m\u001b[38;5;241;43m.\u001b[39;49m\u001b[43minvoke\u001b[49m\u001b[43m(\u001b[49m\n\u001b[1;32m   2057\u001b[0m \u001b[43m            \u001b[49m\u001b[38;5;28;43minput\u001b[39;49m\u001b[43m,\u001b[49m\n\u001b[1;32m   2058\u001b[0m \u001b[43m            \u001b[49m\u001b[38;5;66;43;03m# mark each step as a child run\u001b[39;49;00m\n\u001b[1;32m   2059\u001b[0m \u001b[43m            \u001b[49m\u001b[43mpatch_config\u001b[49m\u001b[43m(\u001b[49m\n\u001b[1;32m   2060\u001b[0m \u001b[43m                \u001b[49m\u001b[43mconfig\u001b[49m\u001b[43m,\u001b[49m\u001b[43m \u001b[49m\u001b[43mcallbacks\u001b[49m\u001b[38;5;241;43m=\u001b[39;49m\u001b[43mrun_manager\u001b[49m\u001b[38;5;241;43m.\u001b[39;49m\u001b[43mget_child\u001b[49m\u001b[43m(\u001b[49m\u001b[38;5;124;43mf\u001b[39;49m\u001b[38;5;124;43m\"\u001b[39;49m\u001b[38;5;124;43mseq:step:\u001b[39;49m\u001b[38;5;132;43;01m{\u001b[39;49;00m\u001b[43mi\u001b[49m\u001b[38;5;241;43m+\u001b[39;49m\u001b[38;5;241;43m1\u001b[39;49m\u001b[38;5;132;43;01m}\u001b[39;49;00m\u001b[38;5;124;43m\"\u001b[39;49m\u001b[43m)\u001b[49m\n\u001b[1;32m   2061\u001b[0m \u001b[43m            \u001b[49m\u001b[43m)\u001b[49m\u001b[43m,\u001b[49m\n\u001b[1;32m   2062\u001b[0m \u001b[43m        \u001b[49m\u001b[43m)\u001b[49m\n\u001b[1;32m   2063\u001b[0m \u001b[38;5;66;03m# finish the root run\u001b[39;00m\n\u001b[1;32m   2064\u001b[0m \u001b[38;5;28;01mexcept\u001b[39;00m \u001b[38;5;167;01mBaseException\u001b[39;00m \u001b[38;5;28;01mas\u001b[39;00m e:\n",
      "File \u001b[0;32m~/RAG/venv8/lib/python3.8/site-packages/langchain_core/language_models/llms.py:273\u001b[0m, in \u001b[0;36mBaseLLM.invoke\u001b[0;34m(self, input, config, stop, **kwargs)\u001b[0m\n\u001b[1;32m    263\u001b[0m \u001b[38;5;28;01mdef\u001b[39;00m \u001b[38;5;21minvoke\u001b[39m(\n\u001b[1;32m    264\u001b[0m     \u001b[38;5;28mself\u001b[39m,\n\u001b[1;32m    265\u001b[0m     \u001b[38;5;28minput\u001b[39m: LanguageModelInput,\n\u001b[0;32m   (...)\u001b[0m\n\u001b[1;32m    269\u001b[0m     \u001b[38;5;241m*\u001b[39m\u001b[38;5;241m*\u001b[39mkwargs: Any,\n\u001b[1;32m    270\u001b[0m ) \u001b[38;5;241m-\u001b[39m\u001b[38;5;241m>\u001b[39m \u001b[38;5;28mstr\u001b[39m:\n\u001b[1;32m    271\u001b[0m     config \u001b[38;5;241m=\u001b[39m ensure_config(config)\n\u001b[1;32m    272\u001b[0m     \u001b[38;5;28;01mreturn\u001b[39;00m (\n\u001b[0;32m--> 273\u001b[0m         \u001b[38;5;28;43mself\u001b[39;49m\u001b[38;5;241;43m.\u001b[39;49m\u001b[43mgenerate_prompt\u001b[49m\u001b[43m(\u001b[49m\n\u001b[1;32m    274\u001b[0m \u001b[43m            \u001b[49m\u001b[43m[\u001b[49m\u001b[38;5;28;43mself\u001b[39;49m\u001b[38;5;241;43m.\u001b[39;49m\u001b[43m_convert_input\u001b[49m\u001b[43m(\u001b[49m\u001b[38;5;28;43minput\u001b[39;49m\u001b[43m)\u001b[49m\u001b[43m]\u001b[49m\u001b[43m,\u001b[49m\n\u001b[1;32m    275\u001b[0m \u001b[43m            \u001b[49m\u001b[43mstop\u001b[49m\u001b[38;5;241;43m=\u001b[39;49m\u001b[43mstop\u001b[49m\u001b[43m,\u001b[49m\n\u001b[1;32m    276\u001b[0m \u001b[43m            \u001b[49m\u001b[43mcallbacks\u001b[49m\u001b[38;5;241;43m=\u001b[39;49m\u001b[43mconfig\u001b[49m\u001b[38;5;241;43m.\u001b[39;49m\u001b[43mget\u001b[49m\u001b[43m(\u001b[49m\u001b[38;5;124;43m\"\u001b[39;49m\u001b[38;5;124;43mcallbacks\u001b[39;49m\u001b[38;5;124;43m\"\u001b[39;49m\u001b[43m)\u001b[49m\u001b[43m,\u001b[49m\n\u001b[1;32m    277\u001b[0m \u001b[43m            \u001b[49m\u001b[43mtags\u001b[49m\u001b[38;5;241;43m=\u001b[39;49m\u001b[43mconfig\u001b[49m\u001b[38;5;241;43m.\u001b[39;49m\u001b[43mget\u001b[49m\u001b[43m(\u001b[49m\u001b[38;5;124;43m\"\u001b[39;49m\u001b[38;5;124;43mtags\u001b[39;49m\u001b[38;5;124;43m\"\u001b[39;49m\u001b[43m)\u001b[49m\u001b[43m,\u001b[49m\n\u001b[1;32m    278\u001b[0m \u001b[43m            \u001b[49m\u001b[43mmetadata\u001b[49m\u001b[38;5;241;43m=\u001b[39;49m\u001b[43mconfig\u001b[49m\u001b[38;5;241;43m.\u001b[39;49m\u001b[43mget\u001b[49m\u001b[43m(\u001b[49m\u001b[38;5;124;43m\"\u001b[39;49m\u001b[38;5;124;43mmetadata\u001b[39;49m\u001b[38;5;124;43m\"\u001b[39;49m\u001b[43m)\u001b[49m\u001b[43m,\u001b[49m\n\u001b[1;32m    279\u001b[0m \u001b[43m            \u001b[49m\u001b[43mrun_name\u001b[49m\u001b[38;5;241;43m=\u001b[39;49m\u001b[43mconfig\u001b[49m\u001b[38;5;241;43m.\u001b[39;49m\u001b[43mget\u001b[49m\u001b[43m(\u001b[49m\u001b[38;5;124;43m\"\u001b[39;49m\u001b[38;5;124;43mrun_name\u001b[39;49m\u001b[38;5;124;43m\"\u001b[39;49m\u001b[43m)\u001b[49m\u001b[43m,\u001b[49m\n\u001b[1;32m    280\u001b[0m \u001b[43m            \u001b[49m\u001b[38;5;241;43m*\u001b[39;49m\u001b[38;5;241;43m*\u001b[39;49m\u001b[43mkwargs\u001b[49m\u001b[43m,\u001b[49m\n\u001b[1;32m    281\u001b[0m \u001b[43m        \u001b[49m\u001b[43m)\u001b[49m\n\u001b[1;32m    282\u001b[0m         \u001b[38;5;241m.\u001b[39mgenerations[\u001b[38;5;241m0\u001b[39m][\u001b[38;5;241m0\u001b[39m]\n\u001b[1;32m    283\u001b[0m         \u001b[38;5;241m.\u001b[39mtext\n\u001b[1;32m    284\u001b[0m     )\n",
      "File \u001b[0;32m~/RAG/venv8/lib/python3.8/site-packages/langchain_core/language_models/llms.py:568\u001b[0m, in \u001b[0;36mBaseLLM.generate_prompt\u001b[0;34m(self, prompts, stop, callbacks, **kwargs)\u001b[0m\n\u001b[1;32m    560\u001b[0m \u001b[38;5;28;01mdef\u001b[39;00m \u001b[38;5;21mgenerate_prompt\u001b[39m(\n\u001b[1;32m    561\u001b[0m     \u001b[38;5;28mself\u001b[39m,\n\u001b[1;32m    562\u001b[0m     prompts: List[PromptValue],\n\u001b[0;32m   (...)\u001b[0m\n\u001b[1;32m    565\u001b[0m     \u001b[38;5;241m*\u001b[39m\u001b[38;5;241m*\u001b[39mkwargs: Any,\n\u001b[1;32m    566\u001b[0m ) \u001b[38;5;241m-\u001b[39m\u001b[38;5;241m>\u001b[39m LLMResult:\n\u001b[1;32m    567\u001b[0m     prompt_strings \u001b[38;5;241m=\u001b[39m [p\u001b[38;5;241m.\u001b[39mto_string() \u001b[38;5;28;01mfor\u001b[39;00m p \u001b[38;5;129;01min\u001b[39;00m prompts]\n\u001b[0;32m--> 568\u001b[0m     \u001b[38;5;28;01mreturn\u001b[39;00m \u001b[38;5;28;43mself\u001b[39;49m\u001b[38;5;241;43m.\u001b[39;49m\u001b[43mgenerate\u001b[49m\u001b[43m(\u001b[49m\u001b[43mprompt_strings\u001b[49m\u001b[43m,\u001b[49m\u001b[43m \u001b[49m\u001b[43mstop\u001b[49m\u001b[38;5;241;43m=\u001b[39;49m\u001b[43mstop\u001b[49m\u001b[43m,\u001b[49m\u001b[43m \u001b[49m\u001b[43mcallbacks\u001b[49m\u001b[38;5;241;43m=\u001b[39;49m\u001b[43mcallbacks\u001b[49m\u001b[43m,\u001b[49m\u001b[43m \u001b[49m\u001b[38;5;241;43m*\u001b[39;49m\u001b[38;5;241;43m*\u001b[39;49m\u001b[43mkwargs\u001b[49m\u001b[43m)\u001b[49m\n",
      "File \u001b[0;32m~/RAG/venv8/lib/python3.8/site-packages/langchain_core/language_models/llms.py:741\u001b[0m, in \u001b[0;36mBaseLLM.generate\u001b[0;34m(self, prompts, stop, callbacks, tags, metadata, run_name, **kwargs)\u001b[0m\n\u001b[1;32m    725\u001b[0m         \u001b[38;5;28;01mraise\u001b[39;00m \u001b[38;5;167;01mValueError\u001b[39;00m(\n\u001b[1;32m    726\u001b[0m             \u001b[38;5;124m\"\u001b[39m\u001b[38;5;124mAsked to cache, but no cache found at `langchain.cache`.\u001b[39m\u001b[38;5;124m\"\u001b[39m\n\u001b[1;32m    727\u001b[0m         )\n\u001b[1;32m    728\u001b[0m     run_managers \u001b[38;5;241m=\u001b[39m [\n\u001b[1;32m    729\u001b[0m         callback_manager\u001b[38;5;241m.\u001b[39mon_llm_start(\n\u001b[1;32m    730\u001b[0m             dumpd(\u001b[38;5;28mself\u001b[39m),\n\u001b[0;32m   (...)\u001b[0m\n\u001b[1;32m    739\u001b[0m         )\n\u001b[1;32m    740\u001b[0m     ]\n\u001b[0;32m--> 741\u001b[0m     output \u001b[38;5;241m=\u001b[39m \u001b[38;5;28;43mself\u001b[39;49m\u001b[38;5;241;43m.\u001b[39;49m\u001b[43m_generate_helper\u001b[49m\u001b[43m(\u001b[49m\n\u001b[1;32m    742\u001b[0m \u001b[43m        \u001b[49m\u001b[43mprompts\u001b[49m\u001b[43m,\u001b[49m\u001b[43m \u001b[49m\u001b[43mstop\u001b[49m\u001b[43m,\u001b[49m\u001b[43m \u001b[49m\u001b[43mrun_managers\u001b[49m\u001b[43m,\u001b[49m\u001b[43m \u001b[49m\u001b[38;5;28;43mbool\u001b[39;49m\u001b[43m(\u001b[49m\u001b[43mnew_arg_supported\u001b[49m\u001b[43m)\u001b[49m\u001b[43m,\u001b[49m\u001b[43m \u001b[49m\u001b[38;5;241;43m*\u001b[39;49m\u001b[38;5;241;43m*\u001b[39;49m\u001b[43mkwargs\u001b[49m\n\u001b[1;32m    743\u001b[0m \u001b[43m    \u001b[49m\u001b[43m)\u001b[49m\n\u001b[1;32m    744\u001b[0m     \u001b[38;5;28;01mreturn\u001b[39;00m output\n\u001b[1;32m    745\u001b[0m \u001b[38;5;28;01mif\u001b[39;00m \u001b[38;5;28mlen\u001b[39m(missing_prompts) \u001b[38;5;241m>\u001b[39m \u001b[38;5;241m0\u001b[39m:\n",
      "File \u001b[0;32m~/RAG/venv8/lib/python3.8/site-packages/langchain_core/language_models/llms.py:605\u001b[0m, in \u001b[0;36mBaseLLM._generate_helper\u001b[0;34m(self, prompts, stop, run_managers, new_arg_supported, **kwargs)\u001b[0m\n\u001b[1;32m    603\u001b[0m     \u001b[38;5;28;01mfor\u001b[39;00m run_manager \u001b[38;5;129;01min\u001b[39;00m run_managers:\n\u001b[1;32m    604\u001b[0m         run_manager\u001b[38;5;241m.\u001b[39mon_llm_error(e, response\u001b[38;5;241m=\u001b[39mLLMResult(generations\u001b[38;5;241m=\u001b[39m[]))\n\u001b[0;32m--> 605\u001b[0m     \u001b[38;5;28;01mraise\u001b[39;00m e\n\u001b[1;32m    606\u001b[0m flattened_outputs \u001b[38;5;241m=\u001b[39m output\u001b[38;5;241m.\u001b[39mflatten()\n\u001b[1;32m    607\u001b[0m \u001b[38;5;28;01mfor\u001b[39;00m manager, flattened_output \u001b[38;5;129;01min\u001b[39;00m \u001b[38;5;28mzip\u001b[39m(run_managers, flattened_outputs):\n",
      "File \u001b[0;32m~/RAG/venv8/lib/python3.8/site-packages/langchain_core/language_models/llms.py:592\u001b[0m, in \u001b[0;36mBaseLLM._generate_helper\u001b[0;34m(self, prompts, stop, run_managers, new_arg_supported, **kwargs)\u001b[0m\n\u001b[1;32m    582\u001b[0m \u001b[38;5;28;01mdef\u001b[39;00m \u001b[38;5;21m_generate_helper\u001b[39m(\n\u001b[1;32m    583\u001b[0m     \u001b[38;5;28mself\u001b[39m,\n\u001b[1;32m    584\u001b[0m     prompts: List[\u001b[38;5;28mstr\u001b[39m],\n\u001b[0;32m   (...)\u001b[0m\n\u001b[1;32m    588\u001b[0m     \u001b[38;5;241m*\u001b[39m\u001b[38;5;241m*\u001b[39mkwargs: Any,\n\u001b[1;32m    589\u001b[0m ) \u001b[38;5;241m-\u001b[39m\u001b[38;5;241m>\u001b[39m LLMResult:\n\u001b[1;32m    590\u001b[0m     \u001b[38;5;28;01mtry\u001b[39;00m:\n\u001b[1;32m    591\u001b[0m         output \u001b[38;5;241m=\u001b[39m (\n\u001b[0;32m--> 592\u001b[0m             \u001b[38;5;28;43mself\u001b[39;49m\u001b[38;5;241;43m.\u001b[39;49m\u001b[43m_generate\u001b[49m\u001b[43m(\u001b[49m\n\u001b[1;32m    593\u001b[0m \u001b[43m                \u001b[49m\u001b[43mprompts\u001b[49m\u001b[43m,\u001b[49m\n\u001b[1;32m    594\u001b[0m \u001b[43m                \u001b[49m\u001b[43mstop\u001b[49m\u001b[38;5;241;43m=\u001b[39;49m\u001b[43mstop\u001b[49m\u001b[43m,\u001b[49m\n\u001b[1;32m    595\u001b[0m \u001b[43m                \u001b[49m\u001b[38;5;66;43;03m# TODO: support multiple run managers\u001b[39;49;00m\n\u001b[1;32m    596\u001b[0m \u001b[43m                \u001b[49m\u001b[43mrun_manager\u001b[49m\u001b[38;5;241;43m=\u001b[39;49m\u001b[43mrun_managers\u001b[49m\u001b[43m[\u001b[49m\u001b[38;5;241;43m0\u001b[39;49m\u001b[43m]\u001b[49m\u001b[43m \u001b[49m\u001b[38;5;28;43;01mif\u001b[39;49;00m\u001b[43m \u001b[49m\u001b[43mrun_managers\u001b[49m\u001b[43m \u001b[49m\u001b[38;5;28;43;01melse\u001b[39;49;00m\u001b[43m \u001b[49m\u001b[38;5;28;43;01mNone\u001b[39;49;00m\u001b[43m,\u001b[49m\n\u001b[1;32m    597\u001b[0m \u001b[43m                \u001b[49m\u001b[38;5;241;43m*\u001b[39;49m\u001b[38;5;241;43m*\u001b[39;49m\u001b[43mkwargs\u001b[49m\u001b[43m,\u001b[49m\n\u001b[1;32m    598\u001b[0m \u001b[43m            \u001b[49m\u001b[43m)\u001b[49m\n\u001b[1;32m    599\u001b[0m             \u001b[38;5;28;01mif\u001b[39;00m new_arg_supported\n\u001b[1;32m    600\u001b[0m             \u001b[38;5;28;01melse\u001b[39;00m \u001b[38;5;28mself\u001b[39m\u001b[38;5;241m.\u001b[39m_generate(prompts, stop\u001b[38;5;241m=\u001b[39mstop)\n\u001b[1;32m    601\u001b[0m         )\n\u001b[1;32m    602\u001b[0m     \u001b[38;5;28;01mexcept\u001b[39;00m \u001b[38;5;167;01mBaseException\u001b[39;00m \u001b[38;5;28;01mas\u001b[39;00m e:\n\u001b[1;32m    603\u001b[0m         \u001b[38;5;28;01mfor\u001b[39;00m run_manager \u001b[38;5;129;01min\u001b[39;00m run_managers:\n",
      "File \u001b[0;32m~/RAG/venv8/lib/python3.8/site-packages/langchain_community/llms/ollama.py:408\u001b[0m, in \u001b[0;36mOllama._generate\u001b[0;34m(self, prompts, stop, images, run_manager, **kwargs)\u001b[0m\n\u001b[1;32m    406\u001b[0m generations \u001b[38;5;241m=\u001b[39m []\n\u001b[1;32m    407\u001b[0m \u001b[38;5;28;01mfor\u001b[39;00m prompt \u001b[38;5;129;01min\u001b[39;00m prompts:\n\u001b[0;32m--> 408\u001b[0m     final_chunk \u001b[38;5;241m=\u001b[39m \u001b[38;5;28;43msuper\u001b[39;49m\u001b[43m(\u001b[49m\u001b[43m)\u001b[49m\u001b[38;5;241;43m.\u001b[39;49m\u001b[43m_stream_with_aggregation\u001b[49m\u001b[43m(\u001b[49m\n\u001b[1;32m    409\u001b[0m \u001b[43m        \u001b[49m\u001b[43mprompt\u001b[49m\u001b[43m,\u001b[49m\n\u001b[1;32m    410\u001b[0m \u001b[43m        \u001b[49m\u001b[43mstop\u001b[49m\u001b[38;5;241;43m=\u001b[39;49m\u001b[43mstop\u001b[49m\u001b[43m,\u001b[49m\n\u001b[1;32m    411\u001b[0m \u001b[43m        \u001b[49m\u001b[43mimages\u001b[49m\u001b[38;5;241;43m=\u001b[39;49m\u001b[43mimages\u001b[49m\u001b[43m,\u001b[49m\n\u001b[1;32m    412\u001b[0m \u001b[43m        \u001b[49m\u001b[43mrun_manager\u001b[49m\u001b[38;5;241;43m=\u001b[39;49m\u001b[43mrun_manager\u001b[49m\u001b[43m,\u001b[49m\n\u001b[1;32m    413\u001b[0m \u001b[43m        \u001b[49m\u001b[43mverbose\u001b[49m\u001b[38;5;241;43m=\u001b[39;49m\u001b[38;5;28;43mself\u001b[39;49m\u001b[38;5;241;43m.\u001b[39;49m\u001b[43mverbose\u001b[49m\u001b[43m,\u001b[49m\n\u001b[1;32m    414\u001b[0m \u001b[43m        \u001b[49m\u001b[38;5;241;43m*\u001b[39;49m\u001b[38;5;241;43m*\u001b[39;49m\u001b[43mkwargs\u001b[49m\u001b[43m,\u001b[49m\n\u001b[1;32m    415\u001b[0m \u001b[43m    \u001b[49m\u001b[43m)\u001b[49m\n\u001b[1;32m    416\u001b[0m     generations\u001b[38;5;241m.\u001b[39mappend([final_chunk])\n\u001b[1;32m    417\u001b[0m \u001b[38;5;28;01mreturn\u001b[39;00m LLMResult(generations\u001b[38;5;241m=\u001b[39mgenerations)\n",
      "File \u001b[0;32m~/RAG/venv8/lib/python3.8/site-packages/langchain_community/llms/ollama.py:317\u001b[0m, in \u001b[0;36m_OllamaCommon._stream_with_aggregation\u001b[0;34m(self, prompt, stop, run_manager, verbose, **kwargs)\u001b[0m\n\u001b[1;32m    308\u001b[0m \u001b[38;5;28;01mdef\u001b[39;00m \u001b[38;5;21m_stream_with_aggregation\u001b[39m(\n\u001b[1;32m    309\u001b[0m     \u001b[38;5;28mself\u001b[39m,\n\u001b[1;32m    310\u001b[0m     prompt: \u001b[38;5;28mstr\u001b[39m,\n\u001b[0;32m   (...)\u001b[0m\n\u001b[1;32m    314\u001b[0m     \u001b[38;5;241m*\u001b[39m\u001b[38;5;241m*\u001b[39mkwargs: Any,\n\u001b[1;32m    315\u001b[0m ) \u001b[38;5;241m-\u001b[39m\u001b[38;5;241m>\u001b[39m GenerationChunk:\n\u001b[1;32m    316\u001b[0m     final_chunk: Optional[GenerationChunk] \u001b[38;5;241m=\u001b[39m \u001b[38;5;28;01mNone\u001b[39;00m\n\u001b[0;32m--> 317\u001b[0m     \u001b[38;5;28;01mfor\u001b[39;00m stream_resp \u001b[38;5;129;01min\u001b[39;00m \u001b[38;5;28mself\u001b[39m\u001b[38;5;241m.\u001b[39m_create_generate_stream(prompt, stop, \u001b[38;5;241m*\u001b[39m\u001b[38;5;241m*\u001b[39mkwargs):\n\u001b[1;32m    318\u001b[0m         \u001b[38;5;28;01mif\u001b[39;00m stream_resp:\n\u001b[1;32m    319\u001b[0m             chunk \u001b[38;5;241m=\u001b[39m _stream_response_to_generation_chunk(stream_resp)\n",
      "File \u001b[0;32m~/RAG/venv8/lib/python3.8/site-packages/langchain_community/llms/ollama.py:159\u001b[0m, in \u001b[0;36m_OllamaCommon._create_generate_stream\u001b[0;34m(self, prompt, stop, images, **kwargs)\u001b[0m\n\u001b[1;32m    151\u001b[0m \u001b[38;5;28;01mdef\u001b[39;00m \u001b[38;5;21m_create_generate_stream\u001b[39m(\n\u001b[1;32m    152\u001b[0m     \u001b[38;5;28mself\u001b[39m,\n\u001b[1;32m    153\u001b[0m     prompt: \u001b[38;5;28mstr\u001b[39m,\n\u001b[0;32m   (...)\u001b[0m\n\u001b[1;32m    156\u001b[0m     \u001b[38;5;241m*\u001b[39m\u001b[38;5;241m*\u001b[39mkwargs: Any,\n\u001b[1;32m    157\u001b[0m ) \u001b[38;5;241m-\u001b[39m\u001b[38;5;241m>\u001b[39m Iterator[\u001b[38;5;28mstr\u001b[39m]:\n\u001b[1;32m    158\u001b[0m     payload \u001b[38;5;241m=\u001b[39m {\u001b[38;5;124m\"\u001b[39m\u001b[38;5;124mprompt\u001b[39m\u001b[38;5;124m\"\u001b[39m: prompt, \u001b[38;5;124m\"\u001b[39m\u001b[38;5;124mimages\u001b[39m\u001b[38;5;124m\"\u001b[39m: images}\n\u001b[0;32m--> 159\u001b[0m     \u001b[38;5;28;01myield from\u001b[39;00m \u001b[38;5;28;43mself\u001b[39;49m\u001b[38;5;241;43m.\u001b[39;49m\u001b[43m_create_stream\u001b[49m\u001b[43m(\u001b[49m\n\u001b[1;32m    160\u001b[0m \u001b[43m        \u001b[49m\u001b[43mpayload\u001b[49m\u001b[38;5;241;43m=\u001b[39;49m\u001b[43mpayload\u001b[49m\u001b[43m,\u001b[49m\n\u001b[1;32m    161\u001b[0m \u001b[43m        \u001b[49m\u001b[43mstop\u001b[49m\u001b[38;5;241;43m=\u001b[39;49m\u001b[43mstop\u001b[49m\u001b[43m,\u001b[49m\n\u001b[1;32m    162\u001b[0m \u001b[43m        \u001b[49m\u001b[43mapi_url\u001b[49m\u001b[38;5;241;43m=\u001b[39;49m\u001b[38;5;124;43mf\u001b[39;49m\u001b[38;5;124;43m\"\u001b[39;49m\u001b[38;5;132;43;01m{\u001b[39;49;00m\u001b[38;5;28;43mself\u001b[39;49m\u001b[38;5;241;43m.\u001b[39;49m\u001b[43mbase_url\u001b[49m\u001b[38;5;132;43;01m}\u001b[39;49;00m\u001b[38;5;124;43m/api/generate\u001b[39;49m\u001b[38;5;124;43m\"\u001b[39;49m\u001b[43m,\u001b[49m\n\u001b[1;32m    163\u001b[0m \u001b[43m        \u001b[49m\u001b[38;5;241;43m*\u001b[39;49m\u001b[38;5;241;43m*\u001b[39;49m\u001b[43mkwargs\u001b[49m\u001b[43m,\u001b[49m\n\u001b[1;32m    164\u001b[0m \u001b[43m    \u001b[49m\u001b[43m)\u001b[49m\n",
      "File \u001b[0;32m~/RAG/venv8/lib/python3.8/site-packages/langchain_community/llms/ollama.py:220\u001b[0m, in \u001b[0;36m_OllamaCommon._create_stream\u001b[0;34m(self, api_url, payload, stop, **kwargs)\u001b[0m\n\u001b[1;32m    213\u001b[0m \u001b[38;5;28;01melse\u001b[39;00m:\n\u001b[1;32m    214\u001b[0m     request_payload \u001b[38;5;241m=\u001b[39m {\n\u001b[1;32m    215\u001b[0m         \u001b[38;5;124m\"\u001b[39m\u001b[38;5;124mprompt\u001b[39m\u001b[38;5;124m\"\u001b[39m: payload\u001b[38;5;241m.\u001b[39mget(\u001b[38;5;124m\"\u001b[39m\u001b[38;5;124mprompt\u001b[39m\u001b[38;5;124m\"\u001b[39m),\n\u001b[1;32m    216\u001b[0m         \u001b[38;5;124m\"\u001b[39m\u001b[38;5;124mimages\u001b[39m\u001b[38;5;124m\"\u001b[39m: payload\u001b[38;5;241m.\u001b[39mget(\u001b[38;5;124m\"\u001b[39m\u001b[38;5;124mimages\u001b[39m\u001b[38;5;124m\"\u001b[39m, []),\n\u001b[1;32m    217\u001b[0m         \u001b[38;5;241m*\u001b[39m\u001b[38;5;241m*\u001b[39mparams,\n\u001b[1;32m    218\u001b[0m     }\n\u001b[0;32m--> 220\u001b[0m response \u001b[38;5;241m=\u001b[39m \u001b[43mrequests\u001b[49m\u001b[38;5;241;43m.\u001b[39;49m\u001b[43mpost\u001b[49m\u001b[43m(\u001b[49m\n\u001b[1;32m    221\u001b[0m \u001b[43m    \u001b[49m\u001b[43murl\u001b[49m\u001b[38;5;241;43m=\u001b[39;49m\u001b[43mapi_url\u001b[49m\u001b[43m,\u001b[49m\n\u001b[1;32m    222\u001b[0m \u001b[43m    \u001b[49m\u001b[43mheaders\u001b[49m\u001b[38;5;241;43m=\u001b[39;49m\u001b[43m{\u001b[49m\n\u001b[1;32m    223\u001b[0m \u001b[43m        \u001b[49m\u001b[38;5;124;43m\"\u001b[39;49m\u001b[38;5;124;43mContent-Type\u001b[39;49m\u001b[38;5;124;43m\"\u001b[39;49m\u001b[43m:\u001b[49m\u001b[43m \u001b[49m\u001b[38;5;124;43m\"\u001b[39;49m\u001b[38;5;124;43mapplication/json\u001b[39;49m\u001b[38;5;124;43m\"\u001b[39;49m\u001b[43m,\u001b[49m\n\u001b[1;32m    224\u001b[0m \u001b[43m        \u001b[49m\u001b[38;5;241;43m*\u001b[39;49m\u001b[38;5;241;43m*\u001b[39;49m\u001b[43m(\u001b[49m\u001b[38;5;28;43mself\u001b[39;49m\u001b[38;5;241;43m.\u001b[39;49m\u001b[43mheaders\u001b[49m\u001b[43m \u001b[49m\u001b[38;5;28;43;01mif\u001b[39;49;00m\u001b[43m \u001b[49m\u001b[38;5;28;43misinstance\u001b[39;49m\u001b[43m(\u001b[49m\u001b[38;5;28;43mself\u001b[39;49m\u001b[38;5;241;43m.\u001b[39;49m\u001b[43mheaders\u001b[49m\u001b[43m,\u001b[49m\u001b[43m \u001b[49m\u001b[38;5;28;43mdict\u001b[39;49m\u001b[43m)\u001b[49m\u001b[43m \u001b[49m\u001b[38;5;28;43;01melse\u001b[39;49;00m\u001b[43m \u001b[49m\u001b[43m{\u001b[49m\u001b[43m}\u001b[49m\u001b[43m)\u001b[49m\u001b[43m,\u001b[49m\n\u001b[1;32m    225\u001b[0m \u001b[43m    \u001b[49m\u001b[43m}\u001b[49m\u001b[43m,\u001b[49m\n\u001b[1;32m    226\u001b[0m \u001b[43m    \u001b[49m\u001b[43mjson\u001b[49m\u001b[38;5;241;43m=\u001b[39;49m\u001b[43mrequest_payload\u001b[49m\u001b[43m,\u001b[49m\n\u001b[1;32m    227\u001b[0m \u001b[43m    \u001b[49m\u001b[43mstream\u001b[49m\u001b[38;5;241;43m=\u001b[39;49m\u001b[38;5;28;43;01mTrue\u001b[39;49;00m\u001b[43m,\u001b[49m\n\u001b[1;32m    228\u001b[0m \u001b[43m    \u001b[49m\u001b[43mtimeout\u001b[49m\u001b[38;5;241;43m=\u001b[39;49m\u001b[38;5;28;43mself\u001b[39;49m\u001b[38;5;241;43m.\u001b[39;49m\u001b[43mtimeout\u001b[49m\u001b[43m,\u001b[49m\n\u001b[1;32m    229\u001b[0m \u001b[43m\u001b[49m\u001b[43m)\u001b[49m\n\u001b[1;32m    230\u001b[0m response\u001b[38;5;241m.\u001b[39mencoding \u001b[38;5;241m=\u001b[39m \u001b[38;5;124m\"\u001b[39m\u001b[38;5;124mutf-8\u001b[39m\u001b[38;5;124m\"\u001b[39m\n\u001b[1;32m    231\u001b[0m \u001b[38;5;28;01mif\u001b[39;00m response\u001b[38;5;241m.\u001b[39mstatus_code \u001b[38;5;241m!=\u001b[39m \u001b[38;5;241m200\u001b[39m:\n",
      "File \u001b[0;32m~/RAG/venv8/lib/python3.8/site-packages/requests/api.py:115\u001b[0m, in \u001b[0;36mpost\u001b[0;34m(url, data, json, **kwargs)\u001b[0m\n\u001b[1;32m    103\u001b[0m \u001b[38;5;28;01mdef\u001b[39;00m \u001b[38;5;21mpost\u001b[39m(url, data\u001b[38;5;241m=\u001b[39m\u001b[38;5;28;01mNone\u001b[39;00m, json\u001b[38;5;241m=\u001b[39m\u001b[38;5;28;01mNone\u001b[39;00m, \u001b[38;5;241m*\u001b[39m\u001b[38;5;241m*\u001b[39mkwargs):\n\u001b[1;32m    104\u001b[0m \u001b[38;5;250m    \u001b[39m\u001b[38;5;124mr\u001b[39m\u001b[38;5;124;03m\"\"\"Sends a POST request.\u001b[39;00m\n\u001b[1;32m    105\u001b[0m \n\u001b[1;32m    106\u001b[0m \u001b[38;5;124;03m    :param url: URL for the new :class:`Request` object.\u001b[39;00m\n\u001b[0;32m   (...)\u001b[0m\n\u001b[1;32m    112\u001b[0m \u001b[38;5;124;03m    :rtype: requests.Response\u001b[39;00m\n\u001b[1;32m    113\u001b[0m \u001b[38;5;124;03m    \"\"\"\u001b[39;00m\n\u001b[0;32m--> 115\u001b[0m     \u001b[38;5;28;01mreturn\u001b[39;00m \u001b[43mrequest\u001b[49m\u001b[43m(\u001b[49m\u001b[38;5;124;43m\"\u001b[39;49m\u001b[38;5;124;43mpost\u001b[39;49m\u001b[38;5;124;43m\"\u001b[39;49m\u001b[43m,\u001b[49m\u001b[43m \u001b[49m\u001b[43murl\u001b[49m\u001b[43m,\u001b[49m\u001b[43m \u001b[49m\u001b[43mdata\u001b[49m\u001b[38;5;241;43m=\u001b[39;49m\u001b[43mdata\u001b[49m\u001b[43m,\u001b[49m\u001b[43m \u001b[49m\u001b[43mjson\u001b[49m\u001b[38;5;241;43m=\u001b[39;49m\u001b[43mjson\u001b[49m\u001b[43m,\u001b[49m\u001b[43m \u001b[49m\u001b[38;5;241;43m*\u001b[39;49m\u001b[38;5;241;43m*\u001b[39;49m\u001b[43mkwargs\u001b[49m\u001b[43m)\u001b[49m\n",
      "File \u001b[0;32m~/RAG/venv8/lib/python3.8/site-packages/requests/api.py:59\u001b[0m, in \u001b[0;36mrequest\u001b[0;34m(method, url, **kwargs)\u001b[0m\n\u001b[1;32m     55\u001b[0m \u001b[38;5;66;03m# By using the 'with' statement we are sure the session is closed, thus we\u001b[39;00m\n\u001b[1;32m     56\u001b[0m \u001b[38;5;66;03m# avoid leaving sockets open which can trigger a ResourceWarning in some\u001b[39;00m\n\u001b[1;32m     57\u001b[0m \u001b[38;5;66;03m# cases, and look like a memory leak in others.\u001b[39;00m\n\u001b[1;32m     58\u001b[0m \u001b[38;5;28;01mwith\u001b[39;00m sessions\u001b[38;5;241m.\u001b[39mSession() \u001b[38;5;28;01mas\u001b[39;00m session:\n\u001b[0;32m---> 59\u001b[0m     \u001b[38;5;28;01mreturn\u001b[39;00m \u001b[43msession\u001b[49m\u001b[38;5;241;43m.\u001b[39;49m\u001b[43mrequest\u001b[49m\u001b[43m(\u001b[49m\u001b[43mmethod\u001b[49m\u001b[38;5;241;43m=\u001b[39;49m\u001b[43mmethod\u001b[49m\u001b[43m,\u001b[49m\u001b[43m \u001b[49m\u001b[43murl\u001b[49m\u001b[38;5;241;43m=\u001b[39;49m\u001b[43murl\u001b[49m\u001b[43m,\u001b[49m\u001b[43m \u001b[49m\u001b[38;5;241;43m*\u001b[39;49m\u001b[38;5;241;43m*\u001b[39;49m\u001b[43mkwargs\u001b[49m\u001b[43m)\u001b[49m\n",
      "File \u001b[0;32m~/RAG/venv8/lib/python3.8/site-packages/requests/sessions.py:589\u001b[0m, in \u001b[0;36mSession.request\u001b[0;34m(self, method, url, params, data, headers, cookies, files, auth, timeout, allow_redirects, proxies, hooks, stream, verify, cert, json)\u001b[0m\n\u001b[1;32m    584\u001b[0m send_kwargs \u001b[38;5;241m=\u001b[39m {\n\u001b[1;32m    585\u001b[0m     \u001b[38;5;124m\"\u001b[39m\u001b[38;5;124mtimeout\u001b[39m\u001b[38;5;124m\"\u001b[39m: timeout,\n\u001b[1;32m    586\u001b[0m     \u001b[38;5;124m\"\u001b[39m\u001b[38;5;124mallow_redirects\u001b[39m\u001b[38;5;124m\"\u001b[39m: allow_redirects,\n\u001b[1;32m    587\u001b[0m }\n\u001b[1;32m    588\u001b[0m send_kwargs\u001b[38;5;241m.\u001b[39mupdate(settings)\n\u001b[0;32m--> 589\u001b[0m resp \u001b[38;5;241m=\u001b[39m \u001b[38;5;28;43mself\u001b[39;49m\u001b[38;5;241;43m.\u001b[39;49m\u001b[43msend\u001b[49m\u001b[43m(\u001b[49m\u001b[43mprep\u001b[49m\u001b[43m,\u001b[49m\u001b[43m \u001b[49m\u001b[38;5;241;43m*\u001b[39;49m\u001b[38;5;241;43m*\u001b[39;49m\u001b[43msend_kwargs\u001b[49m\u001b[43m)\u001b[49m\n\u001b[1;32m    591\u001b[0m \u001b[38;5;28;01mreturn\u001b[39;00m resp\n",
      "File \u001b[0;32m~/RAG/venv8/lib/python3.8/site-packages/requests/sessions.py:703\u001b[0m, in \u001b[0;36mSession.send\u001b[0;34m(self, request, **kwargs)\u001b[0m\n\u001b[1;32m    700\u001b[0m start \u001b[38;5;241m=\u001b[39m preferred_clock()\n\u001b[1;32m    702\u001b[0m \u001b[38;5;66;03m# Send the request\u001b[39;00m\n\u001b[0;32m--> 703\u001b[0m r \u001b[38;5;241m=\u001b[39m \u001b[43madapter\u001b[49m\u001b[38;5;241;43m.\u001b[39;49m\u001b[43msend\u001b[49m\u001b[43m(\u001b[49m\u001b[43mrequest\u001b[49m\u001b[43m,\u001b[49m\u001b[43m \u001b[49m\u001b[38;5;241;43m*\u001b[39;49m\u001b[38;5;241;43m*\u001b[39;49m\u001b[43mkwargs\u001b[49m\u001b[43m)\u001b[49m\n\u001b[1;32m    705\u001b[0m \u001b[38;5;66;03m# Total elapsed time of the request (approximately)\u001b[39;00m\n\u001b[1;32m    706\u001b[0m elapsed \u001b[38;5;241m=\u001b[39m preferred_clock() \u001b[38;5;241m-\u001b[39m start\n",
      "File \u001b[0;32m~/RAG/venv8/lib/python3.8/site-packages/requests/adapters.py:486\u001b[0m, in \u001b[0;36mHTTPAdapter.send\u001b[0;34m(self, request, stream, timeout, verify, cert, proxies)\u001b[0m\n\u001b[1;32m    483\u001b[0m     timeout \u001b[38;5;241m=\u001b[39m TimeoutSauce(connect\u001b[38;5;241m=\u001b[39mtimeout, read\u001b[38;5;241m=\u001b[39mtimeout)\n\u001b[1;32m    485\u001b[0m \u001b[38;5;28;01mtry\u001b[39;00m:\n\u001b[0;32m--> 486\u001b[0m     resp \u001b[38;5;241m=\u001b[39m \u001b[43mconn\u001b[49m\u001b[38;5;241;43m.\u001b[39;49m\u001b[43murlopen\u001b[49m\u001b[43m(\u001b[49m\n\u001b[1;32m    487\u001b[0m \u001b[43m        \u001b[49m\u001b[43mmethod\u001b[49m\u001b[38;5;241;43m=\u001b[39;49m\u001b[43mrequest\u001b[49m\u001b[38;5;241;43m.\u001b[39;49m\u001b[43mmethod\u001b[49m\u001b[43m,\u001b[49m\n\u001b[1;32m    488\u001b[0m \u001b[43m        \u001b[49m\u001b[43murl\u001b[49m\u001b[38;5;241;43m=\u001b[39;49m\u001b[43murl\u001b[49m\u001b[43m,\u001b[49m\n\u001b[1;32m    489\u001b[0m \u001b[43m        \u001b[49m\u001b[43mbody\u001b[49m\u001b[38;5;241;43m=\u001b[39;49m\u001b[43mrequest\u001b[49m\u001b[38;5;241;43m.\u001b[39;49m\u001b[43mbody\u001b[49m\u001b[43m,\u001b[49m\n\u001b[1;32m    490\u001b[0m \u001b[43m        \u001b[49m\u001b[43mheaders\u001b[49m\u001b[38;5;241;43m=\u001b[39;49m\u001b[43mrequest\u001b[49m\u001b[38;5;241;43m.\u001b[39;49m\u001b[43mheaders\u001b[49m\u001b[43m,\u001b[49m\n\u001b[1;32m    491\u001b[0m \u001b[43m        \u001b[49m\u001b[43mredirect\u001b[49m\u001b[38;5;241;43m=\u001b[39;49m\u001b[38;5;28;43;01mFalse\u001b[39;49;00m\u001b[43m,\u001b[49m\n\u001b[1;32m    492\u001b[0m \u001b[43m        \u001b[49m\u001b[43massert_same_host\u001b[49m\u001b[38;5;241;43m=\u001b[39;49m\u001b[38;5;28;43;01mFalse\u001b[39;49;00m\u001b[43m,\u001b[49m\n\u001b[1;32m    493\u001b[0m \u001b[43m        \u001b[49m\u001b[43mpreload_content\u001b[49m\u001b[38;5;241;43m=\u001b[39;49m\u001b[38;5;28;43;01mFalse\u001b[39;49;00m\u001b[43m,\u001b[49m\n\u001b[1;32m    494\u001b[0m \u001b[43m        \u001b[49m\u001b[43mdecode_content\u001b[49m\u001b[38;5;241;43m=\u001b[39;49m\u001b[38;5;28;43;01mFalse\u001b[39;49;00m\u001b[43m,\u001b[49m\n\u001b[1;32m    495\u001b[0m \u001b[43m        \u001b[49m\u001b[43mretries\u001b[49m\u001b[38;5;241;43m=\u001b[39;49m\u001b[38;5;28;43mself\u001b[39;49m\u001b[38;5;241;43m.\u001b[39;49m\u001b[43mmax_retries\u001b[49m\u001b[43m,\u001b[49m\n\u001b[1;32m    496\u001b[0m \u001b[43m        \u001b[49m\u001b[43mtimeout\u001b[49m\u001b[38;5;241;43m=\u001b[39;49m\u001b[43mtimeout\u001b[49m\u001b[43m,\u001b[49m\n\u001b[1;32m    497\u001b[0m \u001b[43m        \u001b[49m\u001b[43mchunked\u001b[49m\u001b[38;5;241;43m=\u001b[39;49m\u001b[43mchunked\u001b[49m\u001b[43m,\u001b[49m\n\u001b[1;32m    498\u001b[0m \u001b[43m    \u001b[49m\u001b[43m)\u001b[49m\n\u001b[1;32m    500\u001b[0m \u001b[38;5;28;01mexcept\u001b[39;00m (ProtocolError, \u001b[38;5;167;01mOSError\u001b[39;00m) \u001b[38;5;28;01mas\u001b[39;00m err:\n\u001b[1;32m    501\u001b[0m     \u001b[38;5;28;01mraise\u001b[39;00m \u001b[38;5;167;01mConnectionError\u001b[39;00m(err, request\u001b[38;5;241m=\u001b[39mrequest)\n",
      "File \u001b[0;32m~/RAG/venv8/lib/python3.8/site-packages/urllib3/connectionpool.py:790\u001b[0m, in \u001b[0;36mHTTPConnectionPool.urlopen\u001b[0;34m(self, method, url, body, headers, retries, redirect, assert_same_host, timeout, pool_timeout, release_conn, chunked, body_pos, preload_content, decode_content, **response_kw)\u001b[0m\n\u001b[1;32m    787\u001b[0m response_conn \u001b[38;5;241m=\u001b[39m conn \u001b[38;5;28;01mif\u001b[39;00m \u001b[38;5;129;01mnot\u001b[39;00m release_conn \u001b[38;5;28;01melse\u001b[39;00m \u001b[38;5;28;01mNone\u001b[39;00m\n\u001b[1;32m    789\u001b[0m \u001b[38;5;66;03m# Make the request on the HTTPConnection object\u001b[39;00m\n\u001b[0;32m--> 790\u001b[0m response \u001b[38;5;241m=\u001b[39m \u001b[38;5;28;43mself\u001b[39;49m\u001b[38;5;241;43m.\u001b[39;49m\u001b[43m_make_request\u001b[49m\u001b[43m(\u001b[49m\n\u001b[1;32m    791\u001b[0m \u001b[43m    \u001b[49m\u001b[43mconn\u001b[49m\u001b[43m,\u001b[49m\n\u001b[1;32m    792\u001b[0m \u001b[43m    \u001b[49m\u001b[43mmethod\u001b[49m\u001b[43m,\u001b[49m\n\u001b[1;32m    793\u001b[0m \u001b[43m    \u001b[49m\u001b[43murl\u001b[49m\u001b[43m,\u001b[49m\n\u001b[1;32m    794\u001b[0m \u001b[43m    \u001b[49m\u001b[43mtimeout\u001b[49m\u001b[38;5;241;43m=\u001b[39;49m\u001b[43mtimeout_obj\u001b[49m\u001b[43m,\u001b[49m\n\u001b[1;32m    795\u001b[0m \u001b[43m    \u001b[49m\u001b[43mbody\u001b[49m\u001b[38;5;241;43m=\u001b[39;49m\u001b[43mbody\u001b[49m\u001b[43m,\u001b[49m\n\u001b[1;32m    796\u001b[0m \u001b[43m    \u001b[49m\u001b[43mheaders\u001b[49m\u001b[38;5;241;43m=\u001b[39;49m\u001b[43mheaders\u001b[49m\u001b[43m,\u001b[49m\n\u001b[1;32m    797\u001b[0m \u001b[43m    \u001b[49m\u001b[43mchunked\u001b[49m\u001b[38;5;241;43m=\u001b[39;49m\u001b[43mchunked\u001b[49m\u001b[43m,\u001b[49m\n\u001b[1;32m    798\u001b[0m \u001b[43m    \u001b[49m\u001b[43mretries\u001b[49m\u001b[38;5;241;43m=\u001b[39;49m\u001b[43mretries\u001b[49m\u001b[43m,\u001b[49m\n\u001b[1;32m    799\u001b[0m \u001b[43m    \u001b[49m\u001b[43mresponse_conn\u001b[49m\u001b[38;5;241;43m=\u001b[39;49m\u001b[43mresponse_conn\u001b[49m\u001b[43m,\u001b[49m\n\u001b[1;32m    800\u001b[0m \u001b[43m    \u001b[49m\u001b[43mpreload_content\u001b[49m\u001b[38;5;241;43m=\u001b[39;49m\u001b[43mpreload_content\u001b[49m\u001b[43m,\u001b[49m\n\u001b[1;32m    801\u001b[0m \u001b[43m    \u001b[49m\u001b[43mdecode_content\u001b[49m\u001b[38;5;241;43m=\u001b[39;49m\u001b[43mdecode_content\u001b[49m\u001b[43m,\u001b[49m\n\u001b[1;32m    802\u001b[0m \u001b[43m    \u001b[49m\u001b[38;5;241;43m*\u001b[39;49m\u001b[38;5;241;43m*\u001b[39;49m\u001b[43mresponse_kw\u001b[49m\u001b[43m,\u001b[49m\n\u001b[1;32m    803\u001b[0m \u001b[43m\u001b[49m\u001b[43m)\u001b[49m\n\u001b[1;32m    805\u001b[0m \u001b[38;5;66;03m# Everything went great!\u001b[39;00m\n\u001b[1;32m    806\u001b[0m clean_exit \u001b[38;5;241m=\u001b[39m \u001b[38;5;28;01mTrue\u001b[39;00m\n",
      "File \u001b[0;32m~/RAG/venv8/lib/python3.8/site-packages/urllib3/connectionpool.py:536\u001b[0m, in \u001b[0;36mHTTPConnectionPool._make_request\u001b[0;34m(self, conn, method, url, body, headers, retries, timeout, chunked, response_conn, preload_content, decode_content, enforce_content_length)\u001b[0m\n\u001b[1;32m    534\u001b[0m \u001b[38;5;66;03m# Receive the response from the server\u001b[39;00m\n\u001b[1;32m    535\u001b[0m \u001b[38;5;28;01mtry\u001b[39;00m:\n\u001b[0;32m--> 536\u001b[0m     response \u001b[38;5;241m=\u001b[39m \u001b[43mconn\u001b[49m\u001b[38;5;241;43m.\u001b[39;49m\u001b[43mgetresponse\u001b[49m\u001b[43m(\u001b[49m\u001b[43m)\u001b[49m\n\u001b[1;32m    537\u001b[0m \u001b[38;5;28;01mexcept\u001b[39;00m (BaseSSLError, \u001b[38;5;167;01mOSError\u001b[39;00m) \u001b[38;5;28;01mas\u001b[39;00m e:\n\u001b[1;32m    538\u001b[0m     \u001b[38;5;28mself\u001b[39m\u001b[38;5;241m.\u001b[39m_raise_timeout(err\u001b[38;5;241m=\u001b[39me, url\u001b[38;5;241m=\u001b[39murl, timeout_value\u001b[38;5;241m=\u001b[39mread_timeout)\n",
      "File \u001b[0;32m~/RAG/venv8/lib/python3.8/site-packages/urllib3/connection.py:461\u001b[0m, in \u001b[0;36mHTTPConnection.getresponse\u001b[0;34m(self)\u001b[0m\n\u001b[1;32m    458\u001b[0m \u001b[38;5;28;01mfrom\u001b[39;00m \u001b[38;5;21;01m.\u001b[39;00m\u001b[38;5;21;01mresponse\u001b[39;00m \u001b[38;5;28;01mimport\u001b[39;00m HTTPResponse\n\u001b[1;32m    460\u001b[0m \u001b[38;5;66;03m# Get the response from http.client.HTTPConnection\u001b[39;00m\n\u001b[0;32m--> 461\u001b[0m httplib_response \u001b[38;5;241m=\u001b[39m \u001b[38;5;28;43msuper\u001b[39;49m\u001b[43m(\u001b[49m\u001b[43m)\u001b[49m\u001b[38;5;241;43m.\u001b[39;49m\u001b[43mgetresponse\u001b[49m\u001b[43m(\u001b[49m\u001b[43m)\u001b[49m\n\u001b[1;32m    463\u001b[0m \u001b[38;5;28;01mtry\u001b[39;00m:\n\u001b[1;32m    464\u001b[0m     assert_header_parsing(httplib_response\u001b[38;5;241m.\u001b[39mmsg)\n",
      "File \u001b[0;32m/usr/lib/python3.8/http/client.py:1348\u001b[0m, in \u001b[0;36mHTTPConnection.getresponse\u001b[0;34m(self)\u001b[0m\n\u001b[1;32m   1346\u001b[0m \u001b[38;5;28;01mtry\u001b[39;00m:\n\u001b[1;32m   1347\u001b[0m     \u001b[38;5;28;01mtry\u001b[39;00m:\n\u001b[0;32m-> 1348\u001b[0m         \u001b[43mresponse\u001b[49m\u001b[38;5;241;43m.\u001b[39;49m\u001b[43mbegin\u001b[49m\u001b[43m(\u001b[49m\u001b[43m)\u001b[49m\n\u001b[1;32m   1349\u001b[0m     \u001b[38;5;28;01mexcept\u001b[39;00m \u001b[38;5;167;01mConnectionError\u001b[39;00m:\n\u001b[1;32m   1350\u001b[0m         \u001b[38;5;28mself\u001b[39m\u001b[38;5;241m.\u001b[39mclose()\n",
      "File \u001b[0;32m/usr/lib/python3.8/http/client.py:316\u001b[0m, in \u001b[0;36mHTTPResponse.begin\u001b[0;34m(self)\u001b[0m\n\u001b[1;32m    314\u001b[0m \u001b[38;5;66;03m# read until we get a non-100 response\u001b[39;00m\n\u001b[1;32m    315\u001b[0m \u001b[38;5;28;01mwhile\u001b[39;00m \u001b[38;5;28;01mTrue\u001b[39;00m:\n\u001b[0;32m--> 316\u001b[0m     version, status, reason \u001b[38;5;241m=\u001b[39m \u001b[38;5;28;43mself\u001b[39;49m\u001b[38;5;241;43m.\u001b[39;49m\u001b[43m_read_status\u001b[49m\u001b[43m(\u001b[49m\u001b[43m)\u001b[49m\n\u001b[1;32m    317\u001b[0m     \u001b[38;5;28;01mif\u001b[39;00m status \u001b[38;5;241m!=\u001b[39m CONTINUE:\n\u001b[1;32m    318\u001b[0m         \u001b[38;5;28;01mbreak\u001b[39;00m\n",
      "File \u001b[0;32m/usr/lib/python3.8/http/client.py:277\u001b[0m, in \u001b[0;36mHTTPResponse._read_status\u001b[0;34m(self)\u001b[0m\n\u001b[1;32m    276\u001b[0m \u001b[38;5;28;01mdef\u001b[39;00m \u001b[38;5;21m_read_status\u001b[39m(\u001b[38;5;28mself\u001b[39m):\n\u001b[0;32m--> 277\u001b[0m     line \u001b[38;5;241m=\u001b[39m \u001b[38;5;28mstr\u001b[39m(\u001b[38;5;28;43mself\u001b[39;49m\u001b[38;5;241;43m.\u001b[39;49m\u001b[43mfp\u001b[49m\u001b[38;5;241;43m.\u001b[39;49m\u001b[43mreadline\u001b[49m\u001b[43m(\u001b[49m\u001b[43m_MAXLINE\u001b[49m\u001b[43m \u001b[49m\u001b[38;5;241;43m+\u001b[39;49m\u001b[43m \u001b[49m\u001b[38;5;241;43m1\u001b[39;49m\u001b[43m)\u001b[49m, \u001b[38;5;124m\"\u001b[39m\u001b[38;5;124miso-8859-1\u001b[39m\u001b[38;5;124m\"\u001b[39m)\n\u001b[1;32m    278\u001b[0m     \u001b[38;5;28;01mif\u001b[39;00m \u001b[38;5;28mlen\u001b[39m(line) \u001b[38;5;241m>\u001b[39m _MAXLINE:\n\u001b[1;32m    279\u001b[0m         \u001b[38;5;28;01mraise\u001b[39;00m LineTooLong(\u001b[38;5;124m\"\u001b[39m\u001b[38;5;124mstatus line\u001b[39m\u001b[38;5;124m\"\u001b[39m)\n",
      "File \u001b[0;32m/usr/lib/python3.8/socket.py:669\u001b[0m, in \u001b[0;36mSocketIO.readinto\u001b[0;34m(self, b)\u001b[0m\n\u001b[1;32m    667\u001b[0m \u001b[38;5;28;01mwhile\u001b[39;00m \u001b[38;5;28;01mTrue\u001b[39;00m:\n\u001b[1;32m    668\u001b[0m     \u001b[38;5;28;01mtry\u001b[39;00m:\n\u001b[0;32m--> 669\u001b[0m         \u001b[38;5;28;01mreturn\u001b[39;00m \u001b[38;5;28;43mself\u001b[39;49m\u001b[38;5;241;43m.\u001b[39;49m\u001b[43m_sock\u001b[49m\u001b[38;5;241;43m.\u001b[39;49m\u001b[43mrecv_into\u001b[49m\u001b[43m(\u001b[49m\u001b[43mb\u001b[49m\u001b[43m)\u001b[49m\n\u001b[1;32m    670\u001b[0m     \u001b[38;5;28;01mexcept\u001b[39;00m timeout:\n\u001b[1;32m    671\u001b[0m         \u001b[38;5;28mself\u001b[39m\u001b[38;5;241m.\u001b[39m_timeout_occurred \u001b[38;5;241m=\u001b[39m \u001b[38;5;28;01mTrue\u001b[39;00m\n",
      "\u001b[0;31mKeyboardInterrupt\u001b[0m: "
     ]
    },
    {
     "ename": "",
     "evalue": "",
     "output_type": "error",
     "traceback": [
      "\u001b[1;31mThe Kernel crashed while executing code in the current cell or a previous cell. \n",
      "\u001b[1;31mPlease review the code in the cell(s) to identify a possible cause of the failure. \n",
      "\u001b[1;31mClick <a href='https://aka.ms/vscodeJupyterKernelCrash'>here</a> for more info. \n",
      "\u001b[1;31mView Jupyter <a href='command:jupyter.viewOutput'>log</a> for further details."
     ]
    }
   ],
   "source": [
    "for sublist_index, sublist in enumerate(splitted_questions, start=1):\n",
    "    if sublist_index > 10:\n",
    "        break\n",
    "    for index, question in enumerate(sublist):\n",
    "        print(f\"Index: {index}\")\n",
    "        print(question)\n",
    "        answer = chain.invoke(question)\n",
    "        print(answer)\n",
    "        answers.append(answer)"
   ]
  },
  {
   "cell_type": "code",
   "execution_count": null,
   "id": "5ceda7f7",
   "metadata": {},
   "outputs": [],
   "source": [
    "answers2 = []"
   ]
  },
  {
   "cell_type": "code",
   "execution_count": null,
   "id": "a24d2924",
   "metadata": {},
   "outputs": [],
   "source": [
    "for sublist_index, sublist in enumerate(splitted_questions[10:], start=11):\n",
    "    for index, question in enumerate(sublist):\n",
    "        print(f\"Index: {index}\")\n",
    "        print(question)\n",
    "        answer = chain.invoke(question)\n",
    "        print(answer)\n",
    "        answers2.append(answer)"
   ]
  },
  {
   "cell_type": "code",
   "execution_count": null,
   "id": "993795bc",
   "metadata": {},
   "outputs": [],
   "source": [
    "print(len(answers))\n",
    "print(len(answers2))\n",
    "print(len(questions))\n"
   ]
  },
  {
   "cell_type": "code",
   "execution_count": null,
   "id": "a6b6f570",
   "metadata": {},
   "outputs": [],
   "source": [
    "final = answers + answers2"
   ]
  },
  {
   "cell_type": "code",
   "execution_count": null,
   "id": "3b57056b",
   "metadata": {},
   "outputs": [],
   "source": [
    "data = {\n",
    "    \"question\": questions,\n",
    "    \"answer\": final,\n",
    "    \"ground_truths\": ground_truths,\n",
    "    # \"contexts\": contexts,\n",
    "}"
   ]
  },
  {
   "cell_type": "code",
   "execution_count": null,
   "id": "4f4307db",
   "metadata": {},
   "outputs": [],
   "source": [
    "# convert dict to dataset\n",
    "dataset = Dataset.from_dict(data)\n",
    "print(dataset)"
   ]
  },
  {
   "cell_type": "code",
   "execution_count": null,
   "id": "b42386d2",
   "metadata": {},
   "outputs": [],
   "source": [
    "print(answers[1:])"
   ]
  },
  {
   "cell_type": "code",
   "execution_count": null,
   "id": "6f292645",
   "metadata": {},
   "outputs": [],
   "source": [
    "from bert_score import score\n",
    "\n",
    "# Example texts\n",
    "generated = final\n",
    "\n",
    "# Calculate BERTScore\n",
    "P, R, F1 = score(generated, ground_truths, lang='en', verbose=True)\n",
    "\n",
    "# Print scores\n",
    "print(f\"Precision: {P.mean()}\")\n",
    "print(f\"Recall: {R.mean()}\")\n",
    "print(f\"F1 Score: {F1.mean()}\")"
   ]
  }
 ],
 "metadata": {
  "jupytext": {
   "cell_metadata_filter": "-all",
   "main_language": "python",
   "notebook_metadata_filter": "-all"
  },
  "kernelspec": {
   "display_name": "venv8",
   "language": "python",
   "name": "python3"
  },
  "language_info": {
   "codemirror_mode": {
    "name": "ipython",
    "version": 3
   },
   "file_extension": ".py",
   "mimetype": "text/x-python",
   "name": "python",
   "nbconvert_exporter": "python",
   "pygments_lexer": "ipython3",
   "version": "3.8.10"
  }
 },
 "nbformat": 4,
 "nbformat_minor": 5
}
