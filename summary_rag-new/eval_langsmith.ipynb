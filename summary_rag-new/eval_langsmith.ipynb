{
 "cells": [
  {
   "cell_type": "code",
   "execution_count": 1,
   "id": "c99c9adc",
   "metadata": {},
   "outputs": [
    {
     "name": "stderr",
     "output_type": "stream",
     "text": [
      "/home/vqa/RAG/venv8/lib/python3.8/site-packages/deeplake/util/check_latest_version.py:32: UserWarning: A newer version of deeplake (3.9.3) is available. It's recommended that you update to the latest version using `pip install -U deeplake`.\n",
      "  warnings.warn(\n"
     ]
    }
   ],
   "source": [
    "import uuid\n",
    "import os\n",
    "import json\n",
    "from langchain.retrievers.multi_vector import MultiVectorRetriever\n",
    "from langchain.storage import InMemoryStore\n",
    "from langchain_community.vectorstores import Chroma\n",
    "from langchain_community.embeddings import HuggingFaceEmbeddings\n",
    "from langchain.schema.document import Document\n",
    "from datasets import Dataset\n",
    "from langchain_community.llms import Ollama\n",
    "from langchain.llms import Ollama\n",
    "import sys"
   ]
  },
  {
   "cell_type": "code",
   "execution_count": 2,
   "id": "81d1aff4",
   "metadata": {},
   "outputs": [],
   "source": [
    "__import__('pysqlite3')\n",
    "sys.modules['sqlite3'] = sys.modules.pop('pysqlite3')"
   ]
  },
  {
   "cell_type": "code",
   "execution_count": 3,
   "id": "f5d8845b",
   "metadata": {},
   "outputs": [],
   "source": [
    "def read_txtelements(output_folder, filename, delimiter):\n",
    "    with open(os.path.join(output_folder, filename), \"r\") as f:\n",
    "        return [s.strip() for s in f.read().split(delimiter) if s.strip()]\n",
    "\n",
    "def read_jsonelements(output_folder, filename):\n",
    "    with open(os.path.join(output_folder, filename), \"r\") as json_file:\n",
    "        return json.load(json_file)"
   ]
  },
  {
   "cell_type": "code",
   "execution_count": 4,
   "id": "6035931d",
   "metadata": {},
   "outputs": [],
   "source": [
    "def add_data(image_text_summaries, image_text_elements, image_summaries, retriever): \n",
    "    # Add texts\n",
    "    # if text_summaries:\n",
    "    #     doc_ids = [str(uuid.uuid4()) for _ in text_elements]\n",
    "    #     summary_texts = [\n",
    "    #         Document(page_content=s, metadata={id_key: doc_ids[i]})\n",
    "    #         for i, s in enumerate(text_summaries)]\n",
    "    #     retriever.vectorstore.add_documents(summary_texts)\n",
    "    #     retriever.docstore.mset(list(zip(doc_ids, text_elements)))\n",
    "\n",
    "    # Add image texts\n",
    "    if image_text_summaries:\n",
    "        doc_ids = [str(uuid.uuid4()) for _ in image_text_elements]\n",
    "        summary_texts = [\n",
    "            Document(page_content=s, metadata={id_key: doc_ids[i]})\n",
    "            for i, s in enumerate(image_text_summaries)]\n",
    "        retriever.vectorstore.add_documents(summary_texts)\n",
    "        retriever.docstore.mset(list(zip(doc_ids, image_text_elements)))\n",
    "\n",
    "    # Add tables\n",
    "    # if table_summaries:\n",
    "    #     table_ids = [str(uuid.uuid4()) for _ in table_elements]\n",
    "    #     summary_tables = [\n",
    "    #         Document(page_content=s, metadata={id_key: table_ids[i]})\n",
    "    #         for i, s in enumerate(table_summaries)]\n",
    "    #     retriever.vectorstore.add_documents(summary_tables)\n",
    "    #     retriever.docstore.mset(list(zip(table_ids, table_elements)))\n",
    "\n",
    "    # Add images\n",
    "    if image_summaries:\n",
    "        img_ids = [str(uuid.uuid4()) for _ in image_summaries]\n",
    "        summary_img = [\n",
    "            Document(page_content=s, metadata={id_key: img_ids[i]})\n",
    "            for i, s in enumerate(image_summaries)]\n",
    "        retriever.vectorstore.add_documents(summary_img)\n",
    "        retriever.docstore.mset(list(zip(img_ids, image_summaries)))  \n",
    "    return retriever"
   ]
  },
  {
   "cell_type": "code",
   "execution_count": 5,
   "id": "ea17fc5e",
   "metadata": {},
   "outputs": [],
   "source": [
    "def process_subfolder(subfolder_path, retriever):\n",
    "    print(f\"Processing subfolder: {subfolder_path}\")\n",
    "    delimiter = \"~~~\"\n",
    "    # text_elements = read_elements(output_folder, \"text_elements.txt\")\n",
    "    # table_elements = read_elements(output_folder, \"table_elements.txt\")\n",
    "    # text_summaries = read_elements(output_folder, \"text_summaries.txt\", delimiter)\n",
    "    # table_summaries = read_elements(output_folder, \"table_summaries.txt\", delimiter)\n",
    "    image_text_elements = read_jsonelements(subfolder_path, \"imagestexts.json\")\n",
    "    image_text_elements = [i['text'] for i in image_text_elements]\n",
    "    image_text_summaries = read_txtelements(subfolder_path, \"imagestexts_summary.txt\", delimiter)\n",
    "    image_summaries = read_txtelements(subfolder_path, \"image_summaries.txt\", delimiter)\n",
    "\n",
    "    retriever = add_data(image_text_summaries, image_text_elements, image_summaries, retriever)\n",
    "    return retriever"
   ]
  },
  {
   "cell_type": "code",
   "execution_count": 6,
   "id": "99aee7d8",
   "metadata": {},
   "outputs": [],
   "source": [
    "vectorstore = Chroma(collection_name=\"summaries\", embedding_function = HuggingFaceEmbeddings(model_name=\"sentence-transformers/all-MiniLM-L6-v2\"))\n",
    "store = InMemoryStore()  \n",
    "id_key = \"doc_id\"\n",
    "retriever = MultiVectorRetriever(vectorstore=vectorstore, docstore=store, id_key=id_key,)\n",
    "retriever.search_kwargs['k'] = 2\n"
   ]
  },
  {
   "cell_type": "code",
   "execution_count": 7,
   "id": "b95f52c1",
   "metadata": {},
   "outputs": [],
   "source": [
    "output_folder = \"/home/vqa/RAG/10_manuals_256_summaries\""
   ]
  },
  {
   "cell_type": "code",
   "execution_count": 8,
   "id": "ce9f277c",
   "metadata": {},
   "outputs": [
    {
     "name": "stdout",
     "output_type": "stream",
     "text": [
      "Processing subfolder: /home/vqa/RAG/10_manuals_256_summaries/samsung_cell phone accessories manuals_de30be54-38b5-46f4-8dc4-a2376a6e571d_extracted\n",
      "Processing subfolder: /home/vqa/RAG/10_manuals_256_summaries/bose_headphones manuals_9917ef89-897c-6524-2502-2b0a91ec7d62_extracted\n",
      "Processing subfolder: /home/vqa/RAG/10_manuals_256_summaries/owg_en_wms_soundlink_adapterkit_extracted\n",
      "Processing subfolder: /home/vqa/RAG/10_manuals_256_summaries/bose_headphones_manuals_6d12e20d-cf8d-4337-b073-53d7e85e4163_extracted\n",
      "Processing subfolder: /home/vqa/RAG/10_manuals_256_summaries/samsung_video gaming accessories manuals_f0ee75e7-18ff-4260-ac5c-3db2ec0f8fd4_extracted\n",
      "Processing subfolder: /home/vqa/RAG/10_manuals_256_summaries/sony_laptop_manuals_a02cf092-3538-4646-ab93-8cae84a07ad2_extracted\n",
      "Processing subfolder: /home/vqa/RAG/10_manuals_256_summaries/og_wave-bma_en_extracted\n",
      "Processing subfolder: /home/vqa/RAG/10_manuals_256_summaries/samsung_audio_box_eo-sb330_um_sea_rev.1.0_140728_screen_extracted\n",
      "Processing subfolder: /home/vqa/RAG/10_manuals_256_summaries/dell_cell phone manuals_4686e2e1-87a4-4f6a-bf20-61c646c11bb9_extracted\n",
      "Processing subfolder: /home/vqa/RAG/10_manuals_256_summaries/samsung_vacuum cleaner manuals_8cb9360e-cafe-4c53-9d35-ef193667e586_extracted\n"
     ]
    }
   ],
   "source": [
    "for item in os.listdir(output_folder):\n",
    "    item_path = os.path.join(output_folder, item)\n",
    "    if os.path.isdir(item_path):\n",
    "        # Now item_path is a subdirectory within output_folder\n",
    "        # For each subdirectory, perform the operations you need\n",
    "        process_subfolder(item_path, retriever)"
   ]
  },
  {
   "cell_type": "code",
   "execution_count": 9,
   "id": "fa3aff59",
   "metadata": {},
   "outputs": [],
   "source": [
    "from langchain_core.runnables import RunnablePassthrough\n",
    "from langchain_core.output_parsers import StrOutputParser\n",
    "# from langchain_core.output_parsers import OutputParser\n",
    "from langchain_core.prompts import PromptTemplate\n",
    "from langchain_community.embeddings import HuggingFaceEmbeddings\n",
    "from langchain_community.chat_models import ChatOllama\n",
    "from langchain_core.prompts import ChatPromptTemplate"
   ]
  },
  {
   "cell_type": "code",
   "execution_count": 10,
   "id": "f89f74e4",
   "metadata": {},
   "outputs": [],
   "source": [
    "# Prompt template\n",
    "template = \"\"\"Answer the question based only on the following context, which can include text and tables:\n",
    "{context}\n",
    "Question: {question}\n",
    "Answer:\n",
    "\"\"\""
   ]
  },
  {
   "cell_type": "code",
   "execution_count": 11,
   "id": "4ef65077",
   "metadata": {},
   "outputs": [],
   "source": [
    "# prompt = PromptTemplate.from_template(template)\n",
    "prompt = ChatPromptTemplate.from_template(template)"
   ]
  },
  {
   "cell_type": "code",
   "execution_count": 12,
   "id": "6348b6f9",
   "metadata": {},
   "outputs": [],
   "source": [
    "model = Ollama(model=\"llama2:7b-chat\")\n",
    "# model = Ollama(model=\"llama2\", verbose=True)"
   ]
  },
  {
   "cell_type": "code",
   "execution_count": 13,
   "id": "68042952",
   "metadata": {},
   "outputs": [],
   "source": [
    "# RAG pipeline\n",
    "chain = (\n",
    "    {\"context\": retriever, \n",
    "     \"question\": RunnablePassthrough(),}\n",
    "    | prompt\n",
    "    | model\n",
    "    | StrOutputParser())"
   ]
  },
  {
   "cell_type": "code",
   "execution_count": 14,
   "id": "a89a6d4c",
   "metadata": {},
   "outputs": [],
   "source": [
    "from datasets import Dataset\n",
    "import pandas as pd\n",
    "import json\n",
    "from tabulate import tabulate"
   ]
  },
  {
   "cell_type": "code",
   "execution_count": 15,
   "id": "cba044d1",
   "metadata": {},
   "outputs": [
    {
     "name": "stdout",
     "output_type": "stream",
     "text": [
      "+-----+-------------------------------------------------------------------------------+---------------------------------------------------------------------------------------------------------------------------------+-------------------------------------------------------------------------------------------------------------------------------------------------------------------------------------------------------------------------------------------------------------------------------------------------+\n",
      "|     | id                                                                            | question                                                                                                                        | ground_truth                                                                                                                                                                                                                                                                                    |\n",
      "|-----+-------------------------------------------------------------------------------+---------------------------------------------------------------------------------------------------------------------------------+-------------------------------------------------------------------------------------------------------------------------------------------------------------------------------------------------------------------------------------------------------------------------------------------------|\n",
      "|   0 | bose_headphones manuals_9917ef89-897c-6524-2502-2b0a91ec7d62                  | Where can I know the complete Declaration of Conformity?                                                                        | You can search the website at www.Bose.com/compliance.                                                                                                                                                                                                                                          |\n",
      "|   1 | bose_headphones manuals_9917ef89-897c-6524-2502-2b0a91ec7d62                  | What does my Bose mobile on-ear headset include?                                                                                | It includes on-ear headphones, a headphone cord with an inline microphone, four 3.5mm to 2.5mm mobile phone adapters, and a carrying case.                                                                                                                                                      |\n",
      "|   2 | bose_headphones manuals_9917ef89-897c-6524-2502-2b0a91ec7d62                  | How many types of adapters are there for mobile phones?                                                                         | Each adapter has a symbol of a circle, triangle, diamond, or square.                                                                                                                                                                                                                            |\n",
      "|   3 | bose_headphones manuals_9917ef89-897c-6524-2502-2b0a91ec7d62                  | If my phone needs to use an adapter to connect the headset. What should I do?                                                   | You should find the appropriate adapter and connect the headphone cord plug to the adapter. Then you should connect the adapter to your phone.                                                                                                                                                  |\n",
      "|   4 | bose_headphones manuals_9917ef89-897c-6524-2502-2b0a91ec7d62                  | How can I put the headset in the case?                                                                                          | You can rotate the earcups until the cushions face you, lay the headset down in front of you, and pivot the earcups into the headband and place the headset in the case.                                                                                                                        |\n",
      "|   5 | bose_headphones manuals_9917ef89-897c-6524-2502-2b0a91ec7d62                  | How can I take the headset out of the case?                                                                                     | You can lift the headset out of the case and pivot the earcups out of the headband, hold the headset with the headband up, and rotate the earcups until the cushions face teacher other.                                                                                                        |\n",
      "|   6 | bose_headphones manuals_9917ef89-897c-6524-2502-2b0a91ec7d62                  | How can I clean the headset?                                                                                                    | You need to be sure the earcup ports are kept clear and that no moisture is allowed to get inside the earcup.                                                                                                                                                                                   |\n",
      "|   7 | bose_headphones manuals_9917ef89-897c-6524-2502-2b0a91ec7d62                  | What should I make sure of when reattaching earcup cushions?                                                                    | You can make sure the cushion is flush all the way around and that there are no gaps between the cushion and the earcup.                                                                                                                                                                        |\n",
      "|   8 | bose_headphones manuals_9917ef89-897c-6524-2502-2b0a91ec7d62                  | What can I do if I still need help?                                                                                             | You can call for assistance if I still need help.                                                                                                                                                                                                                                               |\n",
      "|   9 | bose_headphones manuals_9917ef89-897c-6524-2502-2b0a91ec7d62                  | What is the official website of Bose in Japan?                                                                                  | The official website of Bose in Japan is www.BoseIndia.jp.                                                                                                                                                                                                                                      |\n",
      "|  10 | bose_headphones manuals_9917ef89-897c-6524-2502-2b0a91ec7d62                  | What is the official website of Bose in the United Kingdom?                                                                     | The official website of Bose in Nederland is www.Bose.co.uk.                                                                                                                                                                                                                                    |\n",
      "|  11 | bose_headphones_manuals_6d12e20d-cf8d-4337-b073-53d7e85e4163                  | Can I use headphones when operating a motor vehicle?                                                                            | No, you can not use headphones when operating a motor vehicle or anywhere the  inability to hear outside sounds may present a danger to you or others.                                                                                                                                          |\n",
      "|  12 | bose_headphones_manuals_6d12e20d-cf8d-4337-b073-53d7e85e4163                  | What does the Bose OE2 audio headphone include?                                                                                 | It includes six components which are R and L mark, replaceable ear cup cushion, adjustable headband, audio cable and carry case.                                                                                                                                                                |\n",
      "|  13 | bose_headphones_manuals_6d12e20d-cf8d-4337-b073-53d7e85e4163                  | Can I exceed or rotate the earcups?                                                                                             | You can not try to exceed the limits of the pivots or over-rotate the  earcups.                                                                                                                                                                                                                 |\n",
      "|  14 | bose_headphones_manuals_6d12e20d-cf8d-4337-b073-53d7e85e4163                  | Where can I find replacement parts and accessories?                                                                             | You can find them in Bose Customer Service. See the contact information for your area  included in this guide.                                                                                                                                                                                  |\n",
      "|  15 | bose_headphones_manuals_6d12e20d-cf8d-4337-b073-53d7e85e4163                  | What should I do if any problems persists?                                                                                      | You should contact Bose Customer Service and see the  phone number for your area, included in this guide.                                                                                                                                                                                       |\n",
      "|  16 | bose_headphones_manuals_6d12e20d-cf8d-4337-b073-53d7e85e4163                  | What are the steps to reattach earcup cushion?                                                                                  | 1. Place the edge of the earcup cushion skirt into the slot behind  the earcup flange.                                                                                                                                                                                                          |\n",
      "|     |                                                                               |                                                                                                                                 | 2. Work the remainder of the skirt into the slot all the way around  the earcup.                                                                                                                                                                                                                |\n",
      "|  17 | bose_headphones_manuals_6d12e20d-cf8d-4337-b073-53d7e85e4163                  | How to obtain Limited Warranty Service?                                                                                         | 1. Contact the Bose organization in your country or region.                                                                                                                                                                                                                                     |\n",
      "|     |                                                                               |                                                                                                                                 | 2. Label and ship the product to the address  provided by the Bose organization in your country.                                                                                                                                                                                                |\n",
      "|     |                                                                               |                                                                                                                                 | 3. Place any necessary return authorization number prominently  on the outside of the carton.                                                                                                                                                                                                   |\n",
      "|  18 | bose_headphones_manuals_6d12e20d-cf8d-4337-b073-53d7e85e4163                  | What do you think of the hazardous standard of plastic parts?                                                                   | The plastic parts which contained in all of the homogeneous materials is below the limit requirement.                                                                                                                                                                                           |\n",
      "|  19 | bose_headphones_manuals_6d12e20d-cf8d-4337-b073-53d7e85e4163                  | What is the telephone number of the Bose corporation in Denmark?                                                                | The telephone number of the Bose corporation in Denmark is 4343 7777.                                                                                                                                                                                                                           |\n",
      "|  20 | bose_headphones_manuals_6d12e20d-cf8d-4337-b073-53d7e85e4163                  | What is the website of Bose in Hong Kong?                                                                                       | The website of Bose in Hong Kong is support_hk@Bose.com.                                                                                                                                                                                                                                        |\n",
      "|  21 | dell_cell phone manuals_4686e2e1-87a4-4f6a-bf20-61c646c11bb9                  | What does a WARNING indicate?                                                                                                   | It shows potential for property damage, personal injury, or death.                                                                                                                                                                                                                              |\n",
      "|  22 | dell_cell phone manuals_4686e2e1-87a4-4f6a-bf20-61c646c11bb9                  | Does every order include a Mini-USB to 3.5 mm audio adapter?                                                                    | It depends on the choice you made during the purchase.                                                                                                                                                                                                                                          |\n",
      "|  23 | dell_cell phone manuals_4686e2e1-87a4-4f6a-bf20-61c646c11bb9                  | What should I do before using the smartphone?                                                                                   | You have to install the battery, and SIM card, and charge the battery.                                                                                                                                                                                                                          |\n",
      "|  24 | dell_cell phone manuals_4686e2e1-87a4-4f6a-bf20-61c646c11bb9                  | What should I do to make sure of proper installation?                                                                           | You have to align the cut corners in the card and the SIM card slot.                                                                                                                                                                                                                            |\n",
      "|  25 | dell_cell phone manuals_4686e2e1-87a4-4f6a-bf20-61c646c11bb9                  | How can I charge the battery?                                                                                                   | First, please use the Mini-USB to USB cable, plug the power adapter into a power outlet, and then into your phone. Next, you have to charge the phone for at least 12 hours.                                                                                                                    |\n",
      "|  26 | dell_cell phone manuals_4686e2e1-87a4-4f6a-bf20-61c646c11bb9                  | How can I turn on the phone?                                                                                                    | Please push and hold the power button for two seconds.                                                                                                                                                                                                                                          |\n",
      "|  27 | dell_cell phone manuals_4686e2e1-87a4-4f6a-bf20-61c646c11bb9                  | Can you tell me the use of the camera flash?                                                                                    | It is used to take photos in dim lights.                                                                                                                                                                                                                                                        |\n",
      "|  28 | dell_cell phone manuals_4686e2e1-87a4-4f6a-bf20-61c646c11bb9                  | What is the function of the Home button?                                                                                        | When you press the button shortly, it can navigate back one screen at a time. And when you press and hold it, you can return to the Home screen.                                                                                                                                                |\n",
      "|  29 | dell_cell phone manuals_4686e2e1-87a4-4f6a-bf20-61c646c11bb9                  | What is the function of the Camera button?                                                                                      | You can press it to activate the camera and you can take photos or capture videos.                                                                                                                                                                                                              |\n",
      "|  30 | dell_cell phone manuals_4686e2e1-87a4-4f6a-bf20-61c646c11bb9                  | How to switch between the screens?                                                                                              | You have to swipe your finger or the optional stylus across the screen from left to right, or right to left.                                                                                                                                                                                    |\n",
      "|  31 | dell_cell phone manuals_4686e2e1-87a4-4f6a-bf20-61c646c11bb9                  | What is the function of the icons?                                                                                              | It indicates the new message, upcoming calendar event, alarm, or other information important to you.                                                                                                                                                                                            |\n",
      "|  32 | dell_cell phone manuals_4686e2e1-87a4-4f6a-bf20-61c646c11bb9                  | How can I know whether my Bluetooth is connected?                                                                               | If the Bluetooth button turns blue, it means that your Bluetooth is connected.                                                                                                                                                                                                                  |\n",
      "|  33 | dell_cell phone manuals_4686e2e1-87a4-4f6a-bf20-61c646c11bb9                  | How can I enter a number?                                                                                                       | Please tap the on-screen dial pad.                                                                                                                                                                                                                                                              |\n",
      "|  34 | dell_cell phone manuals_4686e2e1-87a4-4f6a-bf20-61c646c11bb9                  | I want to change the message service settings, what should I do?                                                                | You can press More on the short menu to change the message service settings.                                                                                                                                                                                                                    |\n",
      "|  35 | dell_cell phone manuals_4686e2e1-87a4-4f6a-bf20-61c646c11bb9                  | How to use the Internet Browser?                                                                                                | First, you may tap the Browser icon to open the Internet Browser and press the Options button and select Go. Then, you can enter either a search phrase to search for the sites online.                                                                                                         |\n",
      "|  36 | dell_cell phone manuals_4686e2e1-87a4-4f6a-bf20-61c646c11bb9                  | How to take a photo?                                                                                                            | First, you may tap the Camera icon or press the camera button. Then, please select either still image or video mode. Next, you should tap the screen or press the camera button to take a picture.                                                                                              |\n",
      "|  37 | dell_cell phone manuals_4686e2e1-87a4-4f6a-bf20-61c646c11bb9                  | How can I delete an icon?                                                                                                       | You may press and hold the icon, and follow the instructions on the screen.                                                                                                                                                                                                                     |\n",
      "|  38 | dell_cell phone manuals_4686e2e1-87a4-4f6a-bf20-61c646c11bb9                  | What is the function of the microfiber pouch?                                                                                   | It allows you to store the phone for protection when you don't use it, and to clean the screen as needed.                                                                                                                                                                                       |\n",
      "|  39 | og_wave-bma_en                                                                | I want to use this product outdoors. Is that OK?                                                                                | No, it is designed for indoor use only.                                                                                                                                                                                                                                                         |\n",
      "|  40 | og_wave-bma_en                                                                | How can I know whether this equipment causes interference to television reception or not?                                       | You can test it by turning the equipment off and on.                                                                                                                                                                                                                                            |\n",
      "|  41 | og_wave-bma_en                                                                | Where can I see the additional instructions?                                                                                    | You can see the additional instructions on the Important Safety Instructions sheet (North America only) enclosed in the shipping carton.                                                                                                                                                        |\n",
      "|  42 | og_wave-bma_en                                                                | Is there any interference between the adapter and the system?                                                                   | Yes, you need to make sure that they are 5 cm apart to avoid interference.                                                                                                                                                                                                                      |\n",
      "|  43 | og_wave-bma_en                                                                | What is the entry code?                                                                                                         | You can enter <0000>.                                                                                                                                                                                                                                                                           |\n",
      "|  44 | og_wave-bma_en                                                                | What should I do if I cannot hear music after pairing?                                                                          | You can quit and restart your music app.                                                                                                                                                                                                                                                        |\n",
      "|  45 | og_wave-bma_en                                                                | How long should I press the Presets 6 button?                                                                                   | You should press and hold the button on the remote for 10 seconds until a tone is heard.                                                                                                                                                                                                        |\n",
      "|  46 | og_wave-bma_en                                                                | What is the function of the button Mute?                                                                                        | If you press Mute for one time, it can mute the audio. And you can press again to restore audio.                                                                                                                                                                                                |\n",
      "|  47 | og_wave-bma_en                                                                | What should I do if I want to turn up the volume?                                                                               | You can turn up the volume by pressing the up arrow under the Volume button.                                                                                                                                                                                                                    |\n",
      "|  48 | og_wave-bma_en                                                                | There is no sound when the Bluetooth enabled device plays music, what can I do?                                                 | You should check whether:                                                                                                                                                                                                                                                                       |\n",
      "|     |                                                                               |                                                                                                                                 | 1 \"Bose Adapter\" is selected in the Bluetooth dedvice list                                                                                                                                                                                                                                      |\n",
      "|     |                                                                               |                                                                                                                                 | 2 Wave system volume, the volume on your Bluetooth,your music application and is turned up and not muted                                                                                                                                                                                        |\n",
      "|     |                                                                               |                                                                                                                                 | After doing so, if there is still no sound,you can restart the music application on your Bluetooth and restart your Bluetooth enabled device.                                                                                                                                                   |\n",
      "|  49 | og_wave-bma_en                                                                | I accendantally drop water on it and I think it's damage, call I botain warranty service?                                       | No, you can not obtain warranty service for damage by excess moisture.                                                                                                                                                                                                                          |\n",
      "|  50 | og_wave-bma_en                                                                | Shall I pay for the shipping cost when I transport it for warranty service?                                                     | Yes, you shall pay for it.                                                                                                                                                                                                                                                                      |\n",
      "|  51 | og_wave-bma_en                                                                | Why can the music adapter not be used in conjunction with a multi-disc changer?                                                 | Because Wave systems have only one Bose link input.                                                                                                                                                                                                                                             |\n",
      "|  52 | owg_en_wms_soundlink_adapterkit                                               | What does the exclamation point within an equilateral triangle mean?                                                            | It means that the user should pay attention to the presence of important operating and maintenance instructions in this owner's guide.                                                                                                                                                          |\n",
      "|  53 | owg_en_wms_soundlink_adapterkit                                               | Can I use the product without charging?                                                                                         | No, the product should be used with the power supply provided.                                                                                                                                                                                                                                  |\n",
      "|  54 | owg_en_wms_soundlink_adapterkit                                               | What specifications does the product comply with in the U.S.?                                                                   | The product complies with SFR 47 Part 15 specifications in the U.S..                                                                                                                                                                                                                            |\n",
      "|  55 | owg_en_wms_soundlink_adapterkit                                               | How many versions of the SoundLink kit?                                                                                         | There are 2 versions: 1. Using a kit with basic content only. 2. Using a kit with both basic and update contents.                                                                                                                                                                               |\n",
      "|  56 | owg_en_wms_soundlink_adapterkit                                               | How can I withdraw the CD in the end?                                                                                           | The CD will be ejected when the update is complete.                                                                                                                                                                                                                                             |\n",
      "|  57 | owg_en_wms_soundlink_adapterkit                                               | How far should I place the SoundLink adapter and the Wave system?                                                               | They should be placed at least 2 in. (5 cm) apart.                                                                                                                                                                                                                                              |\n",
      "|  58 | owg_en_wms_soundlink_adapterkit                                               | What will happen if the required power pack is not connected when you press the SoundLink/CD button?                            | Scrolls across the Wave system display if the required power pack is not connected when you press the SoundLink/CD button.                                                                                                                                                                      |\n",
      "|  59 | owg_en_wms_soundlink_adapterkit                                               | Can I lay the USB antenna flat and then plug it into the computer?                                                              | No, you can't. You should lift the antenna on the USB key to the vertical position and plug the key into a USB port on your computer.                                                                                                                                                           |\n",
      "|  60 | owg_en_wms_soundlink_adapterkit                                               | Where is the Flashing power light?                                                                                              | It is in the USB key.                                                                                                                                                                                                                                                                           |\n",
      "|  61 | owg_en_wms_soundlink_adapterkit                                               | I want to reconnect to my Wave system, but it shows nothing, what should I do?                                                  | You may not turn on your computer at first, and then you must make sure that you can see COMPUTER on the display.                                                                                                                                                                               |\n",
      "|  62 | owg_en_wms_soundlink_adapterkit                                               | Which button does the SoundLink kit remote control include?                                                                     | It includes Mute, Volume, Seek/Track, SoundLink/AUX and Play/Pause.                                                                                                                                                                                                                             |\n",
      "|  63 | owg_en_wms_soundlink_adapterkit                                               | What would happen if battery is incorrectly replaced?                                                                           | Battery will be in danger of explosion.                                                                                                                                                                                                                                                         |\n",
      "|  64 | owg_en_wms_soundlink_adapterkit                                               | What should I do if this does not resolve the problem?                                                                          | You should contact Bose Customer Service.                                                                                                                                                                                                                                                       |\n",
      "|  65 | owg_en_wms_soundlink_adapterkit                                               | Which part should I see on page 15?                                                                                             | You should see \"Manually Linking the SoundLink adapter and USB key.                                                                                                                                                                                                                             |\n",
      "|  66 | owg_en_wms_soundlink_adapterkit                                               | Should I need to restart my computer after taking measures to solve the problem?                                                | Yes, you should restart your computer.                                                                                                                                                                                                                                                          |\n",
      "|  67 | owg_en_wms_soundlink_adapterkit                                               | Do all players and Internet radio services support this form of playback control?                                               | No, not all players and Internet radio services support this form of playback control.                                                                                                                                                                                                          |\n",
      "|  68 | owg_en_wms_soundlink_adapterkit                                               | Which button should I press and hold when I link the USB?                                                                       | You should press and hold Presets 5 on the remote control until DISCOVERABLE is displayed and flashing on the wave system display.                                                                                                                                                              |\n",
      "|  69 | owg_en_wms_soundlink_adapterkit                                               | What should I do if I want to know the Bose contact information in my country?                                                  | You should visit Global.Bose.com.                                                                                                                                                                                                                                                               |\n",
      "|  70 | samsung_audio_box_eo-sb330_um_sea_rev.1.0_140728_screen                       | How many buttons can I find on the front of the device?                                                                         | You can find 7 buttons on the front of the device.                                                                                                                                                                                                                                              |\n",
      "|  71 | samsung_audio_box_eo-sb330_um_sea_rev.1.0_140728_screen                       | Are the items supplied with the devices and available accessories the same in different regions?                                | No, the items supplied with the devices and available accessories may vary by region.                                                                                                                                                                                                           |\n",
      "|  72 | samsung_audio_box_eo-sb330_um_sea_rev.1.0_140728_screen                       | When should i charge the battery completely?                                                                                    | Charge the battery completely before using the device for the first time or after it has not been used for an extended period.                                                                                                                                                                  |\n",
      "|  73 | samsung_audio_box_eo-sb330_um_sea_rev.1.0_140728_screen                       | When does the status indicator turn red?                                                                                        | The status indicator turns red while the device is being charged.                                                                                                                                                                                                                               |\n",
      "|  74 | samsung_audio_box_eo-sb330_um_sea_rev.1.0_140728_screen                       | How can I measure the battery charge?                                                                                           | You can measure the battery charge by pressing and holding the Talk and Volume-button simultaneously. And then the status indicator flashes four times in different colors according to the charge left on the battery.                                                                         |\n",
      "|  75 | samsung_audio_box_eo-sb330_um_sea_rev.1.0_140728_screen                       | What is the indicator color, when the charge level of the device is more than 80%?                                              | It is bule.                                                                                                                                                                                                                                                                                     |\n",
      "|  76 | samsung_audio_box_eo-sb330_um_sea_rev.1.0_140728_screen                       | How many status indicator flashes when the device is turned on?                                                                 | When the devices turned on the status indicators flashes blue 4 times.                                                                                                                                                                                                                          |\n",
      "|  77 | samsung_audio_box_eo-sb330_um_sea_rev.1.0_140728_screen                       | How can I connect via Bluetooth?                                                                                                | You can turn on Level Box. And then press and hold the Pairing button for about 3 seconds.                                                                                                                                                                                                      |\n",
      "|  78 | samsung_audio_box_eo-sb330_um_sea_rev.1.0_140728_screen                       | When the pairing is completed, what does the Level Box appear?                                                                  | You can see the Level Box appears as “connected ” when the pairing is complete.                                                                                                                                                                                                                 |\n",
      "|  79 | samsung_audio_box_eo-sb330_um_sea_rev.1.0_140728_screen                       | What is the reason for the not available NFC feature?                                                                           | It is not available because another device is connected to the Bluetooth speaker.                                                                                                                                                                                                               |\n",
      "|  80 | samsung_audio_box_eo-sb330_um_sea_rev.1.0_140728_screen                       | What should I do before making a connection with the audio cable?                                                               | You should end the Bluetooth connection between the product and any other device.                                                                                                                                                                                                               |\n",
      "|  81 | samsung_audio_box_eo-sb330_um_sea_rev.1.0_140728_screen                       | How can I turn on the voice recognition feature of the connected device?                                                        | You can press the Talk button to turn on the voice recognition feature.                                                                                                                                                                                                                         |\n",
      "|  82 | samsung_audio_box_eo-sb330_um_sea_rev.1.0_140728_screen                       | What will happen when I press the Play/Stop button twice?                                                                       | It will skip to the next file when you press it twice.                                                                                                                                                                                                                                          |\n",
      "|  83 | samsung_audio_box_eo-sb330_um_sea_rev.1.0_140728_screen                       | What can I do to answer a call when a smartphone is connected to the Level Box?                                                 | You can press the Talk button to answer the call.                                                                                                                                                                                                                                               |\n",
      "|  84 | samsung_audio_box_eo-sb330_um_sea_rev.1.0_140728_screen                       | One call is incoming during a call and I want to switch between them, what can I do?                                            | You can press and hold the \"Talk\" button.                                                                                                                                                                                                                                                       |\n",
      "|  85 | samsung_audio_box_eo-sb330_um_sea_rev.1.0_140728_screen                       | Why can't I use the application?                                                                                                | Maybe it's because your devices are not connected via the Bluetooth feature.                                                                                                                                                                                                                    |\n",
      "|  86 | samsung_audio_box_eo-sb330_um_sea_rev.1.0_140728_screen                       | Why is the connection off when the range is about 9 meters? Isn't the wireless connection range 10 meters?                      | No, the wireless connection range is not always 10 meters. It can be affected by your usage environment.                                                                                                                                                                                        |\n",
      "|  87 | samsung_audio_box_eo-sb330_um_sea_rev.1.0_140728_screen                       | If the battery is broken, can I change it to another one?                                                                       | You'd better not do so before you asked the manufacturer whether the new one is suitable.                                                                                                                                                                                                       |\n",
      "|  88 | samsung_audio_box_eo-sb330_um_sea_rev.1.0_140728_screen                       | Can I wash it with the cleanser?                                                                                                | No, you can wipe it with a towel or an eraser instead of any chemicals or detergents.                                                                                                                                                                                                           |\n",
      "|  89 | samsung_audio_box_eo-sb330_um_sea_rev.1.0_140728_screen                       | Why can't I operate it?                                                                                                         | Maybe it's because you change or modify it. Changes or modifications not expressly approved by Samsung will void the User's authority to operate the equipment.                                                                                                                                 |\n",
      "|  90 | samsung_audio_box_eo-sb330_um_sea_rev.1.0_140728_screen                       | What's the phone number of Samsung Electronics America, Inc?                                                                    | The phone number is 1-800-SAMSUNG.                                                                                                                                                                                                                                                              |\n",
      "|  91 | samsung_cell phone accessories manuals_de30be54-38b5-46f4-8dc4-a2376a6e571d   | What is the World Wide Web of the SAMSUNG?                                                                                      | It is the http://www.samsungmobileusa.com.                                                                                                                                                                                                                                                      |\n",
      "|  92 | samsung_cell phone accessories manuals_de30be54-38b5-46f4-8dc4-a2376a6e571d   | How to avoid damaging the performance and reducing the battery life?                                                            | Please don't store it at high temperatures (above 50℃/122℉).                                                                                                                                                                                                                                    |\n",
      "|  93 | samsung_cell phone accessories manuals_de30be54-38b5-46f4-8dc4-a2376a6e571d   | Where is the Microphone of the device?                                                                                          | The microphone is located at the lower part of the headset body device.                                                                                                                                                                                                                         |\n",
      "|  94 | samsung_cell phone accessories manuals_de30be54-38b5-46f4-8dc4-a2376a6e571d   | What can I do with the Volume Button?                                                                                           | Please press the button to adjust the volume. During a call, you can press and hold to mute the microphone.                                                                                                                                                                                     |\n",
      "|  95 | samsung_cell phone accessories manuals_de30be54-38b5-46f4-8dc4-a2376a6e571d   | What if the charging does not begin?                                                                                            | Please unplug the travel adapter and plug it in again.                                                                                                                                                                                                                                          |\n",
      "|  96 | samsung_cell phone accessories manuals_de30be54-38b5-46f4-8dc4-a2376a6e571d   | What is the battery level if the indicator light flashes blue?                                                                  | The battery level is above 80% if the indicator light flashes blue.                                                                                                                                                                                                                             |\n",
      "|  97 | samsung_cell phone accessories manuals_de30be54-38b5-46f4-8dc4-a2376a6e571d   | What will happen if my headset powers off during a call?                                                                        | The call will be automatically transferred to the phone.                                                                                                                                                                                                                                        |\n",
      "|  98 | samsung_cell phone accessories manuals_de30be54-38b5-46f4-8dc4-a2376a6e571d   | How can I know if I turn off my headset?                                                                                        | You can see both the blue and red indicator lights flash when you turn off your headset.                                                                                                                                                                                                        |\n",
      "|  99 | samsung_cell phone accessories manuals_de30be54-38b5-46f4-8dc4-a2376a6e571d   | How can I make my headset enter Pairing mode?                                                                                   | You can turn on your headset, press and hold the Talk button until the indicator light turns blue and stays lit after blinking. And your headset automatically enters Pairing mode when you turn on it for the first time.                                                                      |\n",
      "| 100 | samsung_cell phone accessories manuals_de30be54-38b5-46f4-8dc4-a2376a6e571d   | How can I reconnect the headset?                                                                                                | You can press the Talk button and use the Bluetooth menu on your phone to reconnect the headset.                                                                                                                                                                                                |\n",
      "| 101 | samsung_cell phone accessories manuals_de30be54-38b5-46f4-8dc4-a2376a6e571d   | How can I reject a call using my headset?                                                                                       | You can press and hold the Talk button to reject a call when a call comes in.                                                                                                                                                                                                                   |\n",
      "| 102 | samsung_cell phone accessories manuals_de30be54-38b5-46f4-8dc4-a2376a6e571d   | How can I place the first call on hold and answer a second call?                                                                | You can press and hold the Talk button when you hear waiting tones to place the first call on hold and answer a second call.                                                                                                                                                                    |\n",
      "| 103 | samsung_cell phone accessories manuals_de30be54-38b5-46f4-8dc4-a2376a6e571d   | How can I reduce any static or interference while on a call?                                                                    | You can keep the headset away from other devices that use or produce radio waves.                                                                                                                                                                                                               |\n",
      "| 104 | samsung_cell phone accessories manuals_de30be54-38b5-46f4-8dc4-a2376a6e571d   | Why do I hear an echo while on a call?                                                                                          | You can adjust the headset volume, or move to another area and try again.                                                                                                                                                                                                                       |\n",
      "| 105 | samsung_cell phone accessories manuals_de30be54-38b5-46f4-8dc4-a2376a6e571d   | Are users permitted to make changes or modify the device in any way?                                                            | No. Users are not permitted to make changes or modify the device in any way.                                                                                                                                                                                                                    |\n",
      "| 106 | samsung_cell phone accessories manuals_de30be54-38b5-46f4-8dc4-a2376a6e571d   | I am in South America. How can I connect the travel adapter?                                                                    | You should use an attachment plug adaptor of the proper configuration for the power outlet.                                                                                                                                                                                                     |\n",
      "| 107 | samsung_cell phone accessories manuals_de30be54-38b5-46f4-8dc4-a2376a6e571d   | If my product is lost in shipping. Can I ask Samsung for compensation?                                                          | No, you can't. Samsung will not assume any responsibility for any loss or damage incurred in shipping.                                                                                                                                                                                          |\n",
      "| 108 | samsung_cell phone accessories manuals_de30be54-38b5-46f4-8dc4-a2376a6e571d   | What is the standby time of my mobile phone?                                                                                    | It will up to 200 hours.                                                                                                                                                                                                                                                                        |\n",
      "| 109 | samsung_vacuum cleaner manuals_8cb9360e-cafe-4c53-9d35-ef193667e586           | How to receive more complete service about this product?                                                                        | You should register your product at www.sansung.com/register.                                                                                                                                                                                                                                   |\n",
      "| 110 | samsung_vacuum cleaner manuals_8cb9360e-cafe-4c53-9d35-ef193667e586           | How to store it properly?                                                                                                       | You should store it indoors, in a cool and dry area.                                                                                                                                                                                                                                            |\n",
      "| 111 | samsung_vacuum cleaner manuals_8cb9360e-cafe-4c53-9d35-ef193667e586           | Can I plug in my vacuum cleaner directly?                                                                                       | No, you can't. You should be familiar with all instructions and operating procedures.                                                                                                                                                                                                           |\n",
      "| 112 | samsung_vacuum cleaner manuals_8cb9360e-cafe-4c53-9d35-ef193667e586           | Where should I install the Combination Tool?                                                                                    | You should attach it to the holder on the left side of the vacuum cleaner.                                                                                                                                                                                                                      |\n",
      "| 113 | samsung_vacuum cleaner manuals_8cb9360e-cafe-4c53-9d35-ef193667e586           | How to change the cleaning positions?                                                                                           | You can press the handle release pedal located on the lower left side of the vacuum with your foot to place your vacuum into one of three cleaning positions.                                                                                                                                   |\n",
      "| 114 | samsung_vacuum cleaner manuals_8cb9360e-cafe-4c53-9d35-ef193667e586           | How to prevent the brush stops rotating?                                                                                        | You shouldn't put too much pressure.                                                                                                                                                                                                                                                            |\n",
      "| 115 | samsung_vacuum cleaner manuals_8cb9360e-cafe-4c53-9d35-ef193667e586           | What if the suction is weak although the dust bin is empty?                                                                     | Please open the cover and clean the Grille.                                                                                                                                                                                                                                                     |\n",
      "| 116 | samsung_vacuum cleaner manuals_8cb9360e-cafe-4c53-9d35-ef193667e586           | How to replace the post-motor filter?                                                                                           | First, unplug the Vacuum Cleaner from the electrical outlet. When the filter becomes dirty, open the door, remove the filter and replace it.                                                                                                                                                    |\n",
      "| 117 | samsung_vacuum cleaner manuals_8cb9360e-cafe-4c53-9d35-ef193667e586           | What if I properly install the Rotating Floor Brush?                                                                            | The Drive Belt will center itself on the Rotating Brush crown.                                                                                                                                                                                                                                  |\n",
      "| 118 | samsung_vacuum cleaner manuals_8cb9360e-cafe-4c53-9d35-ef193667e586           | What should I do after removing a screw?                                                                                        | You can lift the cover belt off.                                                                                                                                                                                                                                                                |\n",
      "| 119 | samsung_vacuum cleaner manuals_8cb9360e-cafe-4c53-9d35-ef193667e586           | The Mini Turbo Brush is clogged or debris is wrapped around the brush roll?                                                     | Please maintain Mini Turbo Brush.                                                                                                                                                                                                                                                               |\n",
      "| 120 | samsung_video gaming accessories manuals_f0ee75e7-18ff-4260-ac5c-3db2ec0f8fd4 | What if I place conductive objects on the top of the controller?                                                                | It may cause personal injury due to fire, electric shock, or falling objects.                                                                                                                                                                                                                   |\n",
      "| 121 | samsung_video gaming accessories manuals_f0ee75e7-18ff-4260-ac5c-3db2ec0f8fd4 | How to avoid injury from tip-over?                                                                                              | Please use caution when moving the cart/ apparatus combination.                                                                                                                                                                                                                                 |\n",
      "| 122 | samsung_video gaming accessories manuals_f0ee75e7-18ff-4260-ac5c-3db2ec0f8fd4 | What's included in the remote controller?                                                                                       | It includes a controller and a user guide.                                                                                                                                                                                                                                                      |\n",
      "| 123 | samsung_video gaming accessories manuals_f0ee75e7-18ff-4260-ac5c-3db2ec0f8fd4 | What if I want long-distance coaxial communications?                                                                            | You could use this switch for amplifying the control signal.                                                                                                                                                                                                                                    |\n",
      "| 124 | samsung_video gaming accessories manuals_f0ee75e7-18ff-4260-ac5c-3db2ec0f8fd4 | What's the effective range of valid address?                                                                                    | The effective range of valid address is between 0 and 255(1-255 for multiprotocol).                                                                                                                                                                                                             |\n",
      "| 125 | samsung_video gaming accessories manuals_f0ee75e7-18ff-4260-ac5c-3db2ec0f8fd4 | How can I dispose of the wasted batteries?                                                                                      | You should collect it individually and keep it away from children.                                                                                                                                                                                                                              |\n",
      "| 126 | samsung_video gaming accessories manuals_f0ee75e7-18ff-4260-ac5c-3db2ec0f8fd4 | Can I connect the device with a DC12V power source?                                                                             | Yes, you can do it by using DC12V power connector(2-pin).                                                                                                                                                                                                                                       |\n",
      "| 127 | samsung_video gaming accessories manuals_f0ee75e7-18ff-4260-ac5c-3db2ec0f8fd4 | How can I clean the product?                                                                                                    | You can use dry cloth only to clean it.                                                                                                                                                                                                                                                         |\n",
      "| 128 | samsung_video gaming accessories manuals_f0ee75e7-18ff-4260-ac5c-3db2ec0f8fd4 | What's the size of the battery of this product?                                                                                 | You will need to insert 4 AA-sized batteries into it.                                                                                                                                                                                                                                           |\n",
      "| 129 | samsung_video gaming accessories manuals_f0ee75e7-18ff-4260-ac5c-3db2ec0f8fd4 | Do RS-485 input and COAXITRON control support all protocols?                                                                    | No, they support SAMSUNG-E and SAMSUNG-T protocols only.                                                                                                                                                                                                                                        |\n",
      "| 130 | samsung_video gaming accessories manuals_f0ee75e7-18ff-4260-ac5c-3db2ec0f8fd4 | Can RS-232 device control support all protocols?                                                                                | No, this device supports SAMSUNG-E protocol only.                                                                                                                                                                                                                                               |\n",
      "| 131 | samsung_video gaming accessories manuals_f0ee75e7-18ff-4260-ac5c-3db2ec0f8fd4 | How to use the menu to controlling the camera?                                                                                  | Firstly, you can press and hold ENTER to move to the main menu screen. Secondly, press ENTER briefly to confirm the current settings. Thirdly, you can move the cursor's direction by using the four direction keys.                                                                            |\n",
      "| 132 | samsung_video gaming accessories manuals_f0ee75e7-18ff-4260-ac5c-3db2ec0f8fd4 | What kind of battery should I prepare for the battery compartment?                                                              | You need to prepare four AA-sized batteries for the battery compartment.                                                                                                                                                                                                                        |\n",
      "| 133 | samsung_video gaming accessories manuals_f0ee75e7-18ff-4260-ac5c-3db2ec0f8fd4 | How should I select a protocol?                                                                                                 | You should use a combination of pin 1,2,3.                                                                                                                                                                                                                                                      |\n",
      "| 134 | samsung_video gaming accessories manuals_f0ee75e7-18ff-4260-ac5c-3db2ec0f8fd4 | What's the net weight of the device?                                                                                            | Its net weight is 200 grams.                                                                                                                                                                                                                                                                    |\n",
      "| 135 | samsung_video gaming accessories manuals_f0ee75e7-18ff-4260-ac5c-3db2ec0f8fd4 | What is the telephone number of SAMSUNG TECHWIN AMERICA Inc?                                                                    | The number is +1-877-213-1222.                                                                                                                                                                                                                                                                  |\n",
      "| 136 | sony_laptop_manuals_a02cf092-3538-4646-ab93-8cae84a07ad2                      | What is the 3D function?                                                                                                        | It allows quick and easy playback of various types of 3D content.                                                                                                                                                                                                                               |\n",
      "| 137 | sony_laptop_manuals_a02cf092-3538-4646-ab93-8cae84a07ad2                      | Can children watch 3D video images or use stereoscopic 3D-related software?                                                     | You'd better consult your doctor before allowing young children to watch them or use the software because the vision of young children, especially those under six years old, is still under development. And adults should supervise young children to ensure they follow the recommendations. |\n",
      "| 138 | sony_laptop_manuals_a02cf092-3538-4646-ab93-8cae84a07ad2                      | I like surfing the internet on the computer tilting my head. If I do the same thing while viewing 3D images, what would happen? | The 3D effect may be less pronounced or the color of the images may change.                                                                                                                                                                                                                     |\n",
      "| 139 | sony_laptop_manuals_a02cf092-3538-4646-ab93-8cae84a07ad2                      | Can I charge the battery with devices other than the ones specified by Sony?                                                    | No. It may cause the 3D glasses to malfunction.                                                                                                                                                                                                                                                 |\n",
      "| 140 | sony_laptop_manuals_a02cf092-3538-4646-ab93-8cae84a07ad2                      | How can I select 3D-related software?                                                                                           | You can click Start, All Programs, and VAIO 3D Portal to start VAIO 3D Portal then select the software you want to use.                                                                                                                                                                         |\n",
      "| 141 | sony_laptop_manuals_a02cf092-3538-4646-ab93-8cae84a07ad2                      | When I play 3D videos, what software can I use?                                                                                 | You can use NVIDIA 3D Vision Video Player to play 3D videos.                                                                                                                                                                                                                                    |\n",
      "| 142 | sony_laptop_manuals_a02cf092-3538-4646-ab93-8cae84a07ad2                      | How can I view 3D photos or videos?                                                                                             | You can start the software that su[[prts 3D photo or video playback and start 3D photo or video playback, then turn on the 3D glasses and wear them, and then press the 3D button on your computer. The 3D indicator light turns on during the 3D playback.                                     |\n",
      "| 143 | sony_laptop_manuals_a02cf092-3538-4646-ab93-8cae84a07ad2                      | How can I adjust the 3D settings?                                                                                               | You can click Start, All Programs, and VAIO Control Center, then click 3D Effect Settings in the left pane of the window to adjust the 3D effect.                                                                                                                                               |\n",
      "| 144 | sony_laptop_manuals_a02cf092-3538-4646-ab93-8cae84a07ad2                      | Why I cannot find the 3D button and the 3D indicator on my computer when I display 3D images on 3D TV?                          | The 3D button and the 3D indicator on your computer are not available when 3D images are displayed on the 3D TV.                                                                                                                                                                                |\n",
      "| 145 | sony_laptop_manuals_a02cf092-3538-4646-ab93-8cae84a07ad2                      | What does it indicate if the LED indicator blinks three times every three seconds?                                              | It indicates that the battery of your 3D glasses is low. You need to charge the battery.                                                                                                                                                                                                        |\n",
      "| 146 | sony_laptop_manuals_a02cf092-3538-4646-ab93-8cae84a07ad2                      | How can I disable the 3D function?                                                                                              | You can open VAIO Control Center and click 3D Function and 3D Display Function Settings to disable the 3D function.                                                                                                                                                                             |\n",
      "| 147 | sony_laptop_manuals_a02cf092-3538-4646-ab93-8cae84a07ad2                      | Can I replace or purchase an additional 3D glasses?                                                                             | Yes. The TDG-BR250 3D glasses are available for purchase as of March 2011.                                                                                                                                                                                                                      |\n",
      "+-----+-------------------------------------------------------------------------------+---------------------------------------------------------------------------------------------------------------------------------+-------------------------------------------------------------------------------------------------------------------------------------------------------------------------------------------------------------------------------------------------------------------------------------------------+\n",
      "No.of.unique values : 10\n"
     ]
    }
   ],
   "source": [
    "\n",
    "data = []\n",
    "with open('10_manuals.jsonl', 'r') as f:\n",
    "# with open('20_manuals.jsonl', 'r') as f:\n",
    "    for line in f:\n",
    "\n",
    "        json_data = json.loads(line)\n",
    "        id = json_data['id'][:-6]\n",
    "        qa_data = json_data['qa_data']\n",
    "        for i in qa_data:\n",
    "            question = i['question']['text']\n",
    "            answer = i['answer']['text']\n",
    "        data.append({'id': id, 'question' : question, 'ground_truth': answer})\n",
    "\n",
    "df = pd.DataFrame(data)\n",
    "df = pd.DataFrame(data, columns = ['id', 'question', 'ground_truth'])\n",
    "print(tabulate(df, headers='keys', tablefmt='psql'))\n",
    "\n",
    "n = len(pd.unique(df['id']))\n",
    "print(\"No.of.unique values :\", n)"
   ]
  },
  {
   "cell_type": "code",
   "execution_count": 16,
   "id": "63436121",
   "metadata": {},
   "outputs": [
    {
     "name": "stdout",
     "output_type": "stream",
     "text": [
      "['bose_headphones manuals_9917ef89-897c-6524-2502-2b0a91ec7d62'\n",
      " 'bose_headphones_manuals_6d12e20d-cf8d-4337-b073-53d7e85e4163'\n",
      " 'dell_cell phone manuals_4686e2e1-87a4-4f6a-bf20-61c646c11bb9'\n",
      " 'og_wave-bma_en' 'owg_en_wms_soundlink_adapterkit'\n",
      " 'samsung_audio_box_eo-sb330_um_sea_rev.1.0_140728_screen'\n",
      " 'samsung_cell phone accessories manuals_de30be54-38b5-46f4-8dc4-a2376a6e571d'\n",
      " 'samsung_vacuum cleaner manuals_8cb9360e-cafe-4c53-9d35-ef193667e586'\n",
      " 'samsung_video gaming accessories manuals_f0ee75e7-18ff-4260-ac5c-3db2ec0f8fd4'\n",
      " 'sony_laptop_manuals_a02cf092-3538-4646-ab93-8cae84a07ad2']\n"
     ]
    }
   ],
   "source": [
    "import pandas as pd\n",
    "\n",
    "unique_values = (pd.unique(df['id']))\n",
    "print(unique_values)\n",
    "unique_values_df = pd.DataFrame({'unique_values': unique_values})\n",
    "merged_df = pd.merge(df, unique_values_df, how='inner', left_on='id', right_on='unique_values')\n",
    "df = merged_df.groupby('unique_values').head(10)\n",
    "\n"
   ]
  },
  {
   "cell_type": "code",
   "execution_count": 17,
   "id": "6dd66458",
   "metadata": {},
   "outputs": [
    {
     "name": "stderr",
     "output_type": "stream",
     "text": [
      "/tmp/ipykernel_27581/786108205.py:1: SettingWithCopyWarning: \n",
      "A value is trying to be set on a copy of a slice from a DataFrame\n",
      "\n",
      "See the caveats in the documentation: https://pandas.pydata.org/pandas-docs/stable/user_guide/indexing.html#returning-a-view-versus-a-copy\n",
      "  df.drop(columns=['unique_values'], inplace=True)\n"
     ]
    }
   ],
   "source": [
    "df.drop(columns=['unique_values'], inplace=True)"
   ]
  },
  {
   "cell_type": "code",
   "execution_count": 18,
   "id": "2f48c29c",
   "metadata": {},
   "outputs": [
    {
     "name": "stdout",
     "output_type": "stream",
     "text": [
      "[('Where can I know the complete Declaration of Conformity?', 'You can search the website at www.Bose.com/compliance.'), ('What does my Bose mobile on-ear headset include?', 'It includes on-ear headphones, a headphone cord with an inline microphone, four 3.5mm to 2.5mm mobile phone adapters, and a carrying case.'), ('How many types of adapters are there for mobile phones?', 'Each adapter has a symbol of a circle, triangle, diamond, or square.'), ('If my phone needs to use an adapter to connect the headset. What should I do?', 'You should find the appropriate adapter and connect the headphone cord plug to the adapter. Then you should connect the adapter to your phone.  '), ('How can I put the headset in the case?', 'You can rotate the earcups until the cushions face you, lay the headset down in front of you, and pivot the earcups into the headband and place the headset in the case.'), ('How can I take the headset out of the case?', 'You can lift the headset out of the case and pivot the earcups out of the headband, hold the headset with the headband up, and rotate the earcups until the cushions face teacher other.'), ('How can I clean the headset?', 'You need to be sure the earcup ports are kept clear and that no moisture is allowed to get inside the earcup.'), ('What should I make sure of when reattaching earcup cushions?', 'You can make sure the cushion is flush all the way around and that there are no gaps between the cushion and the earcup.'), ('What can I do if I still need help?', 'You can call for assistance if I still need help.'), ('What is the official website of Bose in Japan?', 'The official website of Bose in Japan is www.BoseIndia.jp.'), ('Can I use headphones when operating a motor vehicle?', 'No, you can not use headphones when operating a motor vehicle or anywhere the  inability to hear outside sounds may present a danger to you or others.'), ('What does the Bose OE2 audio headphone include?', 'It includes six components which are R and L mark, replaceable ear cup cushion, adjustable headband, audio cable and carry case.'), ('Can I exceed or rotate the earcups?', 'You can not try to exceed the limits of the pivots or over-rotate the  earcups.'), ('Where can I find replacement parts and accessories?', 'You can find them in Bose Customer Service. See the contact information for your area  included in this guide.'), ('What should I do if any problems persists?', 'You should contact Bose Customer Service and see the  phone number for your area, included in this guide.'), ('What are the steps to reattach earcup cushion?', '1. Place the edge of the earcup cushion skirt into the slot behind  the earcup flange.\\n2. Work the remainder of the skirt into the slot all the way around  the earcup.'), ('How to obtain Limited Warranty Service?', '1. Contact the Bose organization in your country or region.\\n2. Label and ship the product to the address  provided by the Bose organization in your country.\\n3. Place any necessary return authorization number prominently  on the outside of the carton.'), ('What do you think of the hazardous standard of plastic parts?', 'The plastic parts which contained in all of the homogeneous materials is below the limit requirement.'), ('What is the telephone number of the Bose corporation in Denmark?\\n', 'The telephone number of the Bose corporation in Denmark is 4343 7777.'), ('What is the website of Bose in Hong Kong?', 'The website of Bose in Hong Kong is support_hk@Bose.com.'), ('What does a WARNING indicate?', 'It shows potential for property damage, personal injury, or death.'), ('Does every order include a Mini-USB to 3.5 mm audio adapter?', 'It depends on the choice you made during the purchase.'), ('What should I do before using the smartphone?', 'You have to install the battery, and SIM card, and charge the battery.'), ('What should I do to make sure of proper installation?', 'You have to align the cut corners in the card and the SIM card slot.'), ('How can I charge the battery?', 'First, please use the Mini-USB to USB cable, plug the power adapter into a power outlet, and then into your phone. Next, you have to charge the phone for at least 12 hours.'), ('How can I turn on the phone?', 'Please push and hold the power button for two seconds.'), ('Can you tell me the use of the camera flash?', 'It is used to take photos in dim lights.'), ('What is the function of the Home button?', 'When you press the button shortly, it can navigate back one screen at a time. And when you press and hold it, you can return to the Home screen.'), ('What is the function of the Camera button?', 'You can press it to activate the camera and you can take photos or capture videos.'), ('How to switch between the screens?', 'You have to swipe your finger or the optional stylus across the screen from left to right, or right to left.'), ('I want to use this product outdoors. Is that OK?', 'No, it is designed for indoor use only.'), ('How can I know whether this equipment causes interference to television reception or not?', 'You can test it by turning the equipment off and on.'), ('Where can I see the additional instructions?', 'You can see the additional instructions on the Important Safety Instructions sheet (North America only) enclosed in the shipping carton.'), ('Is there any interference between the adapter and the system?', 'Yes, you need to make sure that they are 5 cm apart to avoid interference.'), ('What is the entry code?', 'You can enter <0000>.'), ('What should I do if I cannot hear music after pairing?', 'You can quit and restart your music app.'), ('How long should I press the Presets 6 button?', 'You should press and hold the button on the remote for 10 seconds until a tone is heard.'), ('What is the function of the button Mute?', 'If you press Mute for one time, it can mute the audio. And you can press again to restore audio.'), ('What should I do if I want to turn up the volume?', 'You can turn up the volume by pressing the up arrow under the Volume button.'), ('There is no sound when the Bluetooth enabled device plays music, what can I do?', 'You should check whether:\\n1 \"Bose Adapter\" is selected in the Bluetooth dedvice list\\n2 Wave system volume, the volume on your Bluetooth,your music application and is turned up and not muted\\nAfter doing so, if there is still no sound,you can restart the music application on your Bluetooth and restart your Bluetooth enabled device.'), ('What does the exclamation point within an equilateral triangle mean?', \"It means that the user should pay attention to the presence of important operating and maintenance instructions in this owner's guide.\"), ('Can I use the product without charging?', 'No, the product should be used with the power supply provided.'), ('What specifications does the product comply with in the U.S.?', 'The product complies with SFR 47 Part 15 specifications in the U.S..'), ('How many versions of the SoundLink kit?', 'There are 2 versions: 1. Using a kit with basic content only. 2. Using a kit with both basic and update contents.'), ('How can I withdraw the CD in the end?', 'The CD will be ejected when the update is complete.'), ('How far should I place the SoundLink adapter and the Wave system?', 'They should be placed at least 2 in. (5 cm) apart.'), ('What will happen if the required power pack is not connected when you press the SoundLink/CD button?', 'Scrolls across the Wave system display if the required power pack is not connected when you press the SoundLink/CD button.'), ('Can I lay the USB antenna flat and then plug it into the computer?', \"No, you can't. You should lift the antenna on the USB key to the vertical position and plug the key into a USB port on your computer.\"), ('Where is the Flashing power light?', 'It is in the USB key.'), ('I want to reconnect to my Wave system, but it shows nothing, what should I do?', 'You may not turn on your computer at first, and then you must make sure that you can see COMPUTER on the display.'), ('How many buttons can I find on the front of the device?', 'You can find 7 buttons on the front of the device.'), ('Are the items supplied with the devices and available accessories the same in different regions?', 'No, the items supplied with the devices and available accessories may vary by region.'), ('When should i charge the battery completely?', 'Charge the battery completely before using the device for the first time or after it has not been used for an extended period.'), ('When does the status indicator turn red?', 'The status indicator turns red while the device is being charged.'), ('How can I measure the battery charge?', 'You can measure the battery charge by pressing and holding the Talk and Volume-button simultaneously. And then the status indicator flashes four times in different colors according to the charge left on the battery.'), ('What is the indicator color, when the charge level of the device is more than 80%?', 'It is bule.'), ('How many status indicator flashes when the device is turned on?', 'When the devices turned on the status indicators flashes blue 4 times.'), ('How can I connect via Bluetooth?', 'You can turn on Level Box. And then press and hold the Pairing button for about 3 seconds.'), ('When the pairing is completed, what does the Level Box appear?', 'You can see the Level Box appears as “connected ” when the pairing is complete.'), ('What is the reason for the not available NFC feature?', 'It is not available because another device is connected to the Bluetooth speaker.'), ('What is the World Wide Web of the SAMSUNG?', 'It is the http://www.samsungmobileusa.com.'), ('How to avoid damaging the performance and reducing the battery life?', \"Please don't store it at high temperatures (above 50℃/122℉).\"), ('Where is the Microphone of the device?', 'The microphone is located at the lower part of the headset body device.'), ('What can I do with the Volume Button?', 'Please press the button to adjust the volume. During a call, you can press and hold to mute the microphone.'), ('What if the charging does not begin?', 'Please unplug the travel adapter and plug it in again.'), ('What is the battery level if the indicator light flashes blue?', 'The battery level is above 80% if the indicator light flashes blue.'), ('What will happen if my headset powers off during a call?', 'The call will be automatically transferred to the phone.'), ('How can I know if I turn off my headset?', 'You can see both the blue and red indicator lights flash when you turn off your headset.'), ('How can I make my headset enter Pairing mode?', 'You can turn on your headset, press and hold the Talk button until the indicator light turns blue and stays lit after blinking. And your headset automatically enters Pairing mode when you turn on it for the first time.'), ('How can I reconnect the headset?', 'You can press the Talk button and use the Bluetooth menu on your phone to reconnect the headset.'), ('How to receive more complete service about this product?', 'You should register your product at www.sansung.com/register.'), ('How to store it properly?', 'You should store it indoors, in a cool and dry area.'), ('Can I plug in my vacuum cleaner directly?', \"No, you can't. You should be familiar with all instructions and operating procedures.\"), ('Where should I install the Combination Tool?', 'You should attach it to the holder on the left side of the vacuum cleaner.'), ('How to change the cleaning positions?', 'You can press the handle release pedal located on the lower left side of the vacuum with your foot to place your vacuum into one of three cleaning positions.'), ('How to prevent the brush stops rotating?', \"You shouldn't put too much pressure.\"), ('What if the suction is weak although the dust bin is empty?', 'Please open the cover and clean the Grille.'), ('How to replace the post-motor filter?', 'First, unplug the Vacuum Cleaner from the electrical outlet. When the filter becomes dirty, open the door, remove the filter and replace it.'), ('What if I properly install the Rotating Floor Brush?', 'The Drive Belt will center itself on the Rotating Brush crown.'), ('What should I do after removing a screw?', 'You can lift the cover belt off.'), ('What if I place conductive objects on the top of the controller?', 'It may cause personal injury due to fire, electric shock, or falling objects.'), ('How to avoid injury from tip-over?', 'Please use caution when moving the cart/ apparatus combination.'), (\"What's included in the remote controller?\", 'It includes a controller and a user guide.'), ('What if I want long-distance coaxial communications?', 'You could use this switch for amplifying the control signal.'), (\"What's the effective range of valid address?\", 'The effective range of valid address is between 0 and 255(1-255 for multiprotocol).'), ('How can I dispose of the wasted batteries?', 'You should collect it individually and keep it away from children.'), ('Can I connect the device with a DC12V power source?', 'Yes, you can do it by using DC12V power connector(2-pin).'), ('How can I clean the product?', 'You can use dry cloth only to clean it.'), (\"What's the size of the battery of this product?\", 'You will need to insert 4 AA-sized batteries into it.'), ('Do RS-485 input and COAXITRON control support all protocols?', 'No, they support SAMSUNG-E and SAMSUNG-T protocols only.'), ('What is the 3D function?', 'It allows quick and easy playback of various types of 3D content.'), ('Can children watch 3D video images or use stereoscopic 3D-related software?', \"You'd better consult your doctor before allowing young children to watch them or use the software because the vision of young children, especially those under six years old, is still under development. And adults should supervise young children to ensure they follow the recommendations.\"), ('I like surfing the internet on the computer tilting my head. If I do the same thing while viewing 3D images, what would happen?', 'The 3D effect may be less pronounced or the color of the images may change.'), ('Can I charge the battery with devices other than the ones specified by Sony?', 'No. It may cause the 3D glasses to malfunction.'), ('How can I select 3D-related software?', 'You can click Start, All Programs, and VAIO 3D Portal to start VAIO 3D Portal then select the software you want to use.'), ('When I play 3D videos, what software can I use?', 'You can use NVIDIA 3D Vision Video Player to play 3D videos.'), ('How can I view 3D photos or videos?', 'You can start the software that su[[prts 3D photo or video playback and start 3D photo or video playback, then turn on the 3D glasses and wear them, and then press the 3D button on your computer. The 3D indicator light turns on during the 3D playback.'), ('How can I adjust the 3D settings?', 'You can click Start, All Programs, and VAIO Control Center, then click 3D Effect Settings in the left pane of the window to adjust the 3D effect.'), ('Why I cannot find the 3D button and the 3D indicator on my computer when I display 3D images on 3D TV?', 'The 3D button and the 3D indicator on your computer are not available when 3D images are displayed on the 3D TV.'), ('What does it indicate if the LED indicator blinks three times every three seconds?', 'It indicates that the battery of your 3D glasses is low. You need to charge the battery.')]\n"
     ]
    }
   ],
   "source": [
    "# MAKE THE DATEFRAME INTO A LIST OF TUPLES\n",
    "\n",
    "qa_list = [(row['question'], row['ground_truth']) for index, row in df.iterrows()]\n",
    "print(qa_list)"
   ]
  },
  {
   "cell_type": "code",
   "execution_count": 19,
   "id": "9a994e6e",
   "metadata": {},
   "outputs": [
    {
     "name": "stdout",
     "output_type": "stream",
     "text": [
      "The CD player in the 3D diagram of the watch uses its own built-in battery. The CD symbol located above the main row of buttons indicates that the remote control has the ability to control music playback from a CD player or other similar devices, but it does not use the battery of the watch itself.\n"
     ]
    }
   ],
   "source": [
    "answer = chain.invoke(\"Which battery does the CD player use?\")\n",
    "print(answer)"
   ]
  },
  {
   "cell_type": "code",
   "execution_count": 20,
   "id": "6af9c85f",
   "metadata": {},
   "outputs": [
    {
     "data": {
      "text/plain": [
       "2"
      ]
     },
     "execution_count": 20,
     "metadata": {},
     "output_type": "execute_result"
    }
   ],
   "source": [
    "docs = retriever.invoke(\"Which battery does the CD player use?\")\n",
    "len(docs)"
   ]
  },
  {
   "cell_type": "code",
   "execution_count": 21,
   "id": "de8326ec",
   "metadata": {},
   "outputs": [
    {
     "name": "stdout",
     "output_type": "stream",
     "text": [
      "2\n"
     ]
    }
   ],
   "source": [
    "print(len(retriever.get_relevant_documents(\"Which battery does the CD player use?\")))"
   ]
  },
  {
   "cell_type": "markdown",
   "id": "9423b1e3",
   "metadata": {},
   "source": []
  },
  {
   "cell_type": "code",
   "execution_count": null,
   "id": "2d764d00",
   "metadata": {},
   "outputs": [],
   "source": [
    "\n",
    "import os\n",
    "\n",
    "# Update with your API URL if using a hosted instance of Langsmith.\n",
    "os.environ[\"LANGCHAIN_ENDPOINT\"] = \"https://api.smith.langchain.com\"\n",
    "# os.environ[\"LANGCHAIN_API_KEY\"] = \"ls__9478a4fed44b477bbd2a4040c50cc935\"  # Cissis\n",
    "os.environ[\"LANGCHAIN_API_KEY\"] = \"ls__dfec5f97d1de407f93106c572de7ca06\" # Martas\n",
    "project_name = \"summary_rag\"  # Update with your project name"
   ]
  },
  {
   "cell_type": "code",
   "execution_count": null,
   "id": "ac3029c0",
   "metadata": {},
   "outputs": [],
   "source": [
    "from langsmith import Client\n",
    "\n",
    "client = Client()"
   ]
  },
  {
   "cell_type": "code",
   "execution_count": null,
   "id": "4928837c",
   "metadata": {},
   "outputs": [],
   "source": [
    "import uuid\n",
    "\n",
    "dataset_name = f\"Retrieval QA Questions {str(uuid.uuid4())}\"\n",
    "dataset = client.create_dataset(dataset_name=dataset_name)\n",
    "for q, a in qa_list:\n",
    "    client.create_example(\n",
    "        inputs={\"question\": q}, outputs={\"answer\": a}, dataset_id = dataset.id\n",
    "    )"
   ]
  },
  {
   "cell_type": "code",
   "execution_count": null,
   "id": "f13db444",
   "metadata": {},
   "outputs": [],
   "source": [
    "print(qa_list)"
   ]
  },
  {
   "cell_type": "code",
   "execution_count": null,
   "id": "52927791",
   "metadata": {},
   "outputs": [],
   "source": [
    "from langchain.smith import RunEvalConfig\n",
    "from langchain.evaluation import EvaluatorType\n",
    "\n",
    "eval_config = RunEvalConfig(\n",
    "    evaluators=[\n",
    "        RunEvalConfig.LabeledCriteria(\"relevance\"),\n",
    "        RunEvalConfig.LabeledCriteria(\"coherence\"), \n",
    "        \"cot_qa\"\n",
    "        ],\n",
    "    eval_llm = ChatOllama(model=\"llama2\"),\n",
    ")"
   ]
  },
  {
   "cell_type": "code",
   "execution_count": null,
   "id": "10def9d9",
   "metadata": {},
   "outputs": [],
   "source": [
    "gen_ans = []\n",
    "questions = []"
   ]
  },
  {
   "cell_type": "code",
   "execution_count": null,
   "id": "be846c5f",
   "metadata": {},
   "outputs": [],
   "source": [
    "def predict(inputs: dict):\n",
    "    gen_an = chain.invoke(inputs[\"question\"])\n",
    "    questions.append(inputs[\"question\"])\n",
    "    gen_ans.append(gen_an)\n",
    "    return gen_an"
   ]
  },
  {
   "cell_type": "code",
   "execution_count": null,
   "id": "4cdd0989",
   "metadata": {},
   "outputs": [],
   "source": [
    "print(gen_ans)"
   ]
  },
  {
   "cell_type": "code",
   "execution_count": null,
   "id": "180a1579",
   "metadata": {},
   "outputs": [],
   "source": [
    "_ = await client.arun_on_dataset(\n",
    "    dataset_name=dataset_name,\n",
    "    llm_or_chain_factory= predict, #lambda: chain,\n",
    "    evaluation=eval_config,\n",
    ")"
   ]
  },
  {
   "cell_type": "markdown",
   "id": "07fc0087",
   "metadata": {},
   "source": [
    "\n",
    "__________________"
   ]
  },
  {
   "cell_type": "code",
   "execution_count": null,
   "id": "cef693e9",
   "metadata": {},
   "outputs": [],
   "source": [
    "print(len(gen_ans))"
   ]
  },
  {
   "cell_type": "code",
   "execution_count": null,
   "id": "37d5237c",
   "metadata": {},
   "outputs": [],
   "source": [
    "print(len(questions))"
   ]
  },
  {
   "cell_type": "code",
   "execution_count": null,
   "id": "d6e4019c",
   "metadata": {},
   "outputs": [],
   "source": [
    "questions"
   ]
  },
  {
   "cell_type": "code",
   "execution_count": null,
   "id": "706d9f5c",
   "metadata": {},
   "outputs": [],
   "source": [
    "filtered_df = df[df['question'].isin(questions)]\n",
    "\n",
    "# Reorder the rows based on the order of questions in 'qs'\n",
    "ordered_df = filtered_df.set_index('question').reindex(questions).reset_index()\n",
    "\n",
    "ordered_df"
   ]
  },
  {
   "cell_type": "code",
   "execution_count": null,
   "id": "4c4aea8b",
   "metadata": {},
   "outputs": [],
   "source": [
    "ground_truth = ordered_df['ground_truth'].tolist()\n",
    "ground_truths = [[value] for value in ground_truth]\n",
    "print(ground_truths)"
   ]
  },
  {
   "cell_type": "code",
   "execution_count": null,
   "id": "c53ddb3e",
   "metadata": {},
   "outputs": [],
   "source": [
    "from bert_score import score\n",
    "\n",
    "# Example texts\n",
    "generated = gen_ans\n",
    "\n",
    "# Calculate BERTScore\n",
    "P, R, F1 = score(generated, ground_truths, lang='en', verbose=True)\n",
    "\n",
    "# Print scores\n",
    "print(f\"Precision: {P.mean()}\")\n",
    "print(f\"Recall: {R.mean()}\")\n",
    "print(f\"F1 Score: {F1.mean()}\")"
   ]
  }
 ],
 "metadata": {
  "jupytext": {
   "cell_metadata_filter": "-all",
   "main_language": "python",
   "notebook_metadata_filter": "-all"
  },
  "kernelspec": {
   "display_name": "venv8",
   "language": "python",
   "name": "python3"
  },
  "language_info": {
   "codemirror_mode": {
    "name": "ipython",
    "version": 3
   },
   "file_extension": ".py",
   "mimetype": "text/x-python",
   "name": "python",
   "nbconvert_exporter": "python",
   "pygments_lexer": "ipython3",
   "version": "3.8.10"
  }
 },
 "nbformat": 4,
 "nbformat_minor": 5
}
